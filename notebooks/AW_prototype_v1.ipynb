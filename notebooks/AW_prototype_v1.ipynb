{
 "cells": [
  {
   "cell_type": "code",
   "execution_count": 4,
   "metadata": {},
   "outputs": [],
   "source": [
    "import feedparser\n",
    "import pandas as pd\n",
    "import gensim\n",
    "from gensim.models import Word2Vec\n",
    "import nltk\n",
    "import numpy as np\n",
    "from nltk.corpus import stopwords\n",
    "from nltk import word_tokenize\n",
    "from scipy.spatial.distance import cosine, cityblock, jaccard, canberra, euclidean, minkowski, braycurtis\n",
    "stop_words = stopwords.words('english')\n",
    "from pyemd import emd\n",
    "from scipy.cluster.hierarchy import fclusterdata\n",
    "from sklearn.cluster import DBSCAN, AffinityPropagation, AgglomerativeClustering\n",
    "from sklearn.neighbors import KNeighborsClassifier, RadiusNeighborsClassifier\n",
    "import pickle\n",
    "import time\n",
    "import hashlib\n",
    "\n",
    "#from itertools import combinations\n",
    "#from tqdm import tqdm_notebook\n",
    "#from scipy.stats import skew, kurtosis\n",
    "#from sklearn.preprocessing import StandardScaler\n",
    "#from sklearn.decomposition import PCA"
   ]
  },
  {
   "cell_type": "code",
   "execution_count": 2,
   "metadata": {},
   "outputs": [],
   "source": [
    "bbc_rss = ['http://feeds.bbci.co.uk/news/rss.xml', \n",
    "           'http://feeds.bbci.co.uk/news/world/rss.xml', \n",
    "           'http://feeds.bbci.co.uk/news/uk/rss.xml', \n",
    "           'http://feeds.bbci.co.uk/news/business/rss.xml', \n",
    "           'http://feeds.bbci.co.uk/news/politics/rss.xml', \n",
    "           'http://feeds.bbci.co.uk/news/health/rss.xml', \n",
    "           'http://feeds.bbci.co.uk/news/education/rss.xml', \n",
    "           'http://feeds.bbci.co.uk/news/science_and_environment/rss.xml', \n",
    "           'http://feeds.bbci.co.uk/news/technology/rss.xml', \n",
    "           'http://feeds.bbci.co.uk/news/entertainment_and_arts/rss.xml']"
   ]
  },
  {
   "cell_type": "code",
   "execution_count": 3,
   "metadata": {},
   "outputs": [],
   "source": [
    "class Embeddings:\n",
    "    \n",
    "    def __init__(self, create=False, ser_model_path='W2VModel',\n",
    "                 embeddings='GoogleNews-vectors-negative300.bin.gz',\n",
    "                 model_fun=gensim.models.KeyedVectors.load_word2vec_format, binary=True, norm=True):\n",
    "        self.ser_model = ser_model_path\n",
    "        self.embeddings = embeddings\n",
    "        self.model_fun = model_fun\n",
    "        self.binary = binary\n",
    "        self.norm = norm\n",
    "        \n",
    "        if create == False:\n",
    "            self.model = self.load_model()\n",
    "        else:\n",
    "            self.model = self.create_model()\n",
    "        \n",
    "            \n",
    "    def create_model(self):\n",
    "        model = self.model_fun(self.embeddings, binary=self.binary)\n",
    "        if self.norm:\n",
    "            model.init_sims(replace=True)\n",
    "        return model\n",
    "            \n",
    "    def load_model(self):\n",
    "        with open(self.ser_model, 'rb') as file:\n",
    "            model = pickle.load(file)\n",
    "        return model"
   ]
  },
  {
   "cell_type": "code",
   "execution_count": 180,
   "metadata": {},
   "outputs": [],
   "source": [
    "class News_Vectorizer:\n",
    "    \n",
    "    def __init__(self, model, news=None):\n",
    "        self.news = news #array of strings\n",
    "        self.model = model #Word2Vec model\n",
    "        if self.news is not None:\n",
    "            self.news_vectors = self.news2vec(self.news) #vector representations\n",
    "        else:\n",
    "            self.news_vectors = None\n",
    "        self.cos_dist = None #cosine distance matrix\n",
    "        self.wm_dist = None #wmd-matrix\n",
    "    \n",
    "    def wmd(self, q1, q2):\n",
    "        q1 = str(q1).lower().split()\n",
    "        q2 = str(q2).lower().split()\n",
    "        q1 = [w for w in q1 if w not in stop_words]\n",
    "        q2 = [w for w in q2 if w not in stop_words]\n",
    "        return self.model.wmdistance(q1, q2)\n",
    "    \n",
    "    def sent2vec(self, s):\n",
    "        words = str(s).lower()\n",
    "        words = word_tokenize(words)\n",
    "        words = [w for w in words if not w in stop_words]\n",
    "        words = [w for w in words if w.isalpha()]\n",
    "        M = []\n",
    "        for w in words:\n",
    "            try:\n",
    "                M.append(self.model[w])\n",
    "            except:\n",
    "                continue\n",
    "        M = np.array(M)\n",
    "        v = M.sum(axis=0)\n",
    "        return v / np.sqrt((v ** 2).sum())\n",
    "    \n",
    "    def news2vec(self, news):\n",
    "        # update self.news, self.news_vectors\n",
    "        news_vectors = np.array([self.sent2vec(text) for text in news])\n",
    "        self.news = news\n",
    "        self.news_vectors = news_vectors\n",
    "        #if self.news is None:\n",
    "        #    self.news = news\n",
    "        #if self.news_vectors is None:\n",
    "        #    self.news_vectors = news_vectors\n",
    "        return news_vectors\n",
    "    \n",
    "    def dist_vec(self, news_item, news=None, metric='cosine'):\n",
    "        #computes distances between given item and news (or self.news)\n",
    "        news_item = self.sent2vec(news_item)\n",
    "        if news is not None:\n",
    "            news = self.news2vec(news)\n",
    "        else:\n",
    "            news = self.news_vectors\n",
    "        if news is None:\n",
    "            return 'no news to compute distances'\n",
    "        if metric == 'cosine':\n",
    "            dist_vec = np.array([cosine(news_item, i) for i in news])\n",
    "        elif metric == 'wmd':\n",
    "            dist_vec = np.array([self.wmd(news_item, i) for i in news])\n",
    "        return dist_vec\n",
    "    \n",
    "    #TODO: triangle matrix -> optimize\n",
    "    def cosine_matrix(self): \n",
    "        cdist = np.zeros((len(self.news_vectors), len(self.news_vectors)))\n",
    "        for n, i in enumerate(self.news_vectors):\n",
    "            for m, j in enumerate(self.news_vectors):\n",
    "                cdist[n, m] = cosine(i, j)\n",
    "        self.cos_dist = cdist\n",
    "        return cdist\n",
    "    \n",
    "    def wmd_matrix(self): #list (news)\n",
    "        wmdist = np.zeros((len(self.news), len(self.news)))\n",
    "        for n, i in enumerate(self.news):\n",
    "            for m, j in enumerate(self.news):\n",
    "                wmdist[n, m] = self.wmd(i, j)\n",
    "        self.wm_dist = wmdist\n",
    "        return wmdist"
   ]
  },
  {
   "cell_type": "code",
   "execution_count": 42,
   "metadata": {},
   "outputs": [],
   "source": [
    "class RSS_Feeds:\n",
    "    \n",
    "    def __init__(self, urls):\n",
    "        self.urls = urls\n",
    "        self.feeds = self.get_feeds()\n",
    "        self.df_news = self.create_df()\n",
    "        self.df_unique_news = self.create_unique()\n",
    "        \n",
    "    def get_feeds(self):\n",
    "        return [feedparser.parse(feed) for feed in self.urls]\n",
    "    \n",
    "    def get_category(self, feed):\n",
    "        # sources may have different category names - agg categories?\n",
    "        return feed.feed['title']\n",
    "\n",
    "    def get_title_summary(self, feed, sep='. '): #get and join title and summary for each entry in feed\n",
    "        titles = [entry['title'] for entry in feed['entries']]\n",
    "        summaries = [entry['summary'] for entry in feed['entries']]\n",
    "        title_summary = [entry['title'] + sep + entry['summary'] for entry in feed['entries']]\n",
    "        return titles, summaries, title_summary\n",
    "    \n",
    "    def get_date(self, feed): #(year, month, day) for each entry in feed\n",
    "        return([entry['published_parsed'][:3] for entry in feed['entries']])\n",
    "    \n",
    "    def get_time(self, feed): #(hour, min, sec) for each entry in feed\n",
    "        return([entry['published_parsed'][3:6] for entry in feed['entries']])\n",
    "    \n",
    "    def get_datetime_nparsed(self, feed): #not parsed date and time for each entry in feed\n",
    "        return([entry['published'] for entry in feed['entries']])\n",
    "    \n",
    "    def get_link(self, feed): # link for each entry in feed\n",
    "        return([entry['link'] for entry in feed['entries']])\n",
    "    \n",
    "    def str2hash(self, s):\n",
    "        return hashlib.md5(s.encode()).hexdigest()\n",
    "    \n",
    "    def create_df(self): \n",
    "        news, title, summary, category, pdate, ptime, fdatetime, links  = [], [], [], [], [], [], [], []\n",
    "        for feed in self.feeds:\n",
    "            cat = self.get_category(feed)\n",
    "            titles, summaries, texts = self.get_title_summary(feed)\n",
    "            d_ymd, t_hms = self.get_date(feed), self.get_time(feed)\n",
    "            fdt = self.get_datetime_nparsed(feed)\n",
    "            news_links = self.get_link(feed)\n",
    "            \n",
    "            cat = np.resize([cat], len(texts))\n",
    "            news.extend(texts)\n",
    "            title.extend(titles)\n",
    "            summary.extend(summaries)\n",
    "            pdate.extend(d_ymd)\n",
    "            ptime.extend(t_hms)\n",
    "            fdatetime.extend(fdt)\n",
    "            links.extend(news_links)\n",
    "            category.extend(cat)\n",
    "        df_news = pd.DataFrame({'news':news, \n",
    "                                'category':category,\n",
    "                                'title':title, \n",
    "                                'summary':summary,\n",
    "                                'link':links,\n",
    "                                'date':pdate, \n",
    "                                'time':ptime, \n",
    "                                'datetime':fdatetime})\n",
    "        df_news['ID'] = df_news.news.apply(self.str2hash)\n",
    "        self.df_news = df_news\n",
    "        return df_news\n",
    "    \n",
    "    def create_unique(self):\n",
    "        df_unique_news = self.df_news.groupby('news').agg({'category':list, \n",
    "                                                           'title': np.unique, \n",
    "                                                           'summary': np.unique, \n",
    "                                                           'link': np.unique, \n",
    "                                                           'date': np.unique, \n",
    "                                                           'time': np.unique, \n",
    "                                                           'datetime': np.unique, \n",
    "                                                           'ID': np.unique})\n",
    "        df_unique_news.reset_index(inplace=True)\n",
    "        self.df_unique_news = df_unique_news\n",
    "        return df_unique_news\n",
    "    \n",
    "    def get_unique_news(self):\n",
    "        return self.df_unique_news.news.values"
   ]
  },
  {
   "cell_type": "code",
   "execution_count": 7,
   "metadata": {},
   "outputs": [],
   "source": [
    "#TODO: Weights!\n",
    "#TODO: not only labels but also distances - to suggest the most interesting items?\n",
    "class Aggregator:\n",
    "    \n",
    "    def __init__(self, clusterizer, classifier, labeled_data=None, labels=None, clust_weights=None):\n",
    "        self.clusterizer = clusterizer\n",
    "        self.classifier = classifier\n",
    "        self.labeled_data = labeled_data #already clustered viewed, vector representations as ndarray\n",
    "        self.labels = labels #clust nums of labeled_data, ndarray\n",
    "        self.clust_weights = clust_weights # DataFrame, colnames=['clust', 'weight']\n",
    "        \n",
    "    def clusterize(self, data):\n",
    "        labels = self.clusterizer.fit_predict(data)\n",
    "        return data, labels\n",
    "    \n",
    "    def classify(self, new_data): #if one sample: reshape sent2vec output to (1, 300)\n",
    "        try:\n",
    "            predicted = self.classifier.predict(new_data)\n",
    "        except NotFittedError as e:\n",
    "            return(repr(e))\n",
    "        return predicted\n",
    "    \n",
    "    def fit_classifier(self):\n",
    "        X, y = self.labeled_data, self.labels\n",
    "        self.classifier.fit(X, y)\n",
    "        return self.classifier\n",
    "    \n",
    "    def prep_data(self, new_data=None):\n",
    "        if self.labeled_data is None and new_data is None:\n",
    "            return None\n",
    "        else:\n",
    "            try:\n",
    "                ldata = pd.DataFrame(self.labeled_data)\n",
    "            except:\n",
    "                ldata = None\n",
    "            try:\n",
    "                ndata = pd.DataFrame(new_data)\n",
    "            except:\n",
    "                ndata=None\n",
    "            try:\n",
    "                data = pd.concat([ldata, ndata]).values\n",
    "                return data\n",
    "            except:\n",
    "                return None\n",
    "    \n",
    "    def update_weights(self): #sum weights = 1 required in News_Finder\n",
    "        unique, counts = np.unique(self.labels, return_counts=True)\n",
    "        weights = counts/counts.sum() #smth like this\n",
    "        weights = np.asarray((unique, weights)).T # [label, weight]\n",
    "        self.clust_weights = pd.DataFrame({'clust': weights[:,0].astype(int), 'weight': weights[:,1]})\n",
    "        return self.clust_weights\n",
    "    \n",
    "    def update_aggregator(self, new_data):\n",
    "        data = self.prep_data(new_data=new_data)\n",
    "        if data is None:\n",
    "            return 'no data'\n",
    "        else:\n",
    "            self.labeled_data, self.labels = self.clusterize(data)    \n",
    "            self.fit_classifier()\n",
    "            self.update_weights()\n",
    "            return 'updated'\n",
    "        "
   ]
  },
  {
   "cell_type": "code",
   "execution_count": 177,
   "metadata": {},
   "outputs": [],
   "source": [
    "class News_Finder():\n",
    "    \n",
    "    def __init__(self, df_news, news_vectorizer): #df_news: DF with non-viewed news items; News_Vectorizer instance\n",
    "        self.df_news = df_news\n",
    "        self.df_unique_news = self.create_unique()\n",
    "        self.news_vectorizer = news_vectorizer\n",
    "        \n",
    "    def update_news(self, df_news):\n",
    "        self.df_news = df_news\n",
    "        self.df_unique_news = self.create_unique()\n",
    "        return 'updated'\n",
    "    \n",
    "    def create_unique(self):\n",
    "        df_unique_news = self.df_news.groupby('ID').agg({'news': np.unique, \n",
    "                                                         'category':list, \n",
    "                                                         'title': np.unique, \n",
    "                                                         'summary': np.unique, \n",
    "                                                         'link': np.unique, \n",
    "                                                         'date': np.unique, \n",
    "                                                         'time': np.unique, \n",
    "                                                         'datetime': np.unique})\n",
    "        df_unique_news.reset_index(inplace=True)\n",
    "        return df_unique_news\n",
    "    \n",
    "    def get_from_categories(self, n=5):\n",
    "        # returns n top news from each category\n",
    "        return self.df_news.groupby('category').head(n) \n",
    "    \n",
    "    def get_similar(self, news_item, metric='cosine', n=5):\n",
    "        # returns the n most similar news to news_item\n",
    "        all_news = self.df_unique_news.query('ID != @news_item.ID').copy()\n",
    "        dist_vec = self.news_vectorizer.dist_vec(news_item.news, all_news.news.values, metric=metric)\n",
    "        all_news['dist'] = dist_vec\n",
    "        return all_news.nsmallest(n, 'dist')\n",
    "    \n",
    "    def get_interesting(self, aggregator, n_min=20): #fitted Aggregator instance for classification & weights\n",
    "        # should return n_min or more news based on user preferencies\n",
    "        # TODO: if there are not enough news in clusters (for weights), return another news?\n",
    "        all_news = self.df_unique_news.copy()\n",
    "        news_vec = self.news_vectorizer.news2vec(all_news.news.values)\n",
    "        #print(news_vec.shape)\n",
    "        weights = aggregator.clust_weights\n",
    "        labels = aggregator.classify(news_vec)\n",
    "        all_news['label'] = labels\n",
    "        # TODO: filter 'outlier' cluster\n",
    "        # ?TODO: distances to choose the most relevant items in cluster \n",
    "        n_from_cluster = np.ceil((aggregator.clust_weights.weight*n_min)).astype(int)\n",
    "        dflist = []\n",
    "        for cluster, n in zip(weights.clust, n_from_cluster):\n",
    "            dflist.append(all_news.query('label == @cluster').head(n))\n",
    "        interesting = pd.concat(dflist)\n",
    "        return interesting"
   ]
  },
  {
   "cell_type": "code",
   "execution_count": 103,
   "metadata": {},
   "outputs": [],
   "source": [
    "#TODO: delete, (prepare?)\n",
    "class Data_Manager:\n",
    "    \n",
    "    def __init__(self, path_dict=None): #path_dict {'csv':{obj:path}, 'serialized':{obj:path}}\n",
    "        self.path_dict = path_dict\n",
    "        if self.path_dict is not None:\n",
    "            self.data_dict = self.load_data()\n",
    "        else:\n",
    "            self.data_dict = {}\n",
    "        \n",
    "    def load_data(self):\n",
    "        data_dict = {}\n",
    "        try:\n",
    "            for obj_name, path in self.path_dict['csv'].items():\n",
    "                data_dict[obj_name] = pd.read_csv(path, index_col=0)\n",
    "        except:\n",
    "            print('something is not ok with \"csv\" key or it does not exist')\n",
    "        try:\n",
    "            for obj_name, path in self.path_dict['serialized'].items():\n",
    "                with open(path, 'rb') as file:\n",
    "                    data_dict[obj_name] = pickle.load(file)\n",
    "        except:\n",
    "            print('something is not ok with \"serialized\" key or it does not exist')\n",
    "        return data_dict\n",
    "    \n",
    "    def delete_old(self, n_recent):\n",
    "        #del old data, except n_recent\n",
    "        pass\n",
    "    def prep_data(self):\n",
    "        #maybe some data manipulations\n",
    "        pass\n",
    "    \n",
    "    def get_data_item(self, obj_name):\n",
    "        return self.data_dict.get(obj_name, 'Does not exist')\n",
    "    \n",
    "    def update_data_item(self, obj_name, new_data):\n",
    "        data = self.get_data_item(obj_name)\n",
    "        if data != 'Does not exist':\n",
    "            if type(data) == pd.core.frame.DataFrame:\n",
    "                try:\n",
    "                    data = pd.concat([data, new_data])\n",
    "                    self.data_dict[obj_name] = data\n",
    "                    return 'updated'\n",
    "                except:\n",
    "                    return 'could not update'\n",
    "            elif type(data) == np.ndarray:\n",
    "                try:\n",
    "                    data = np.vstack([data, new_data])\n",
    "                    self.data_dict[obj_name] = data\n",
    "                    return 'updated'\n",
    "                except:\n",
    "                    return 'could not update'\n",
    "            else:\n",
    "                self.data_dict[obj_name] = new_data\n",
    "                return 'upd: obj = new_data (not an array or DF)'\n",
    "        else:\n",
    "            self.data_dict[obj_name] = new_data\n",
    "            return 'upd: obj = new_data (obj did not exist yet)'\n",
    "    \n",
    "    def save_model(self, data_items='all'): #data_items: 'all' or list of keys for data_dict\n",
    "        if data_items == 'all':\n",
    "            data_items = self.data_dict.keys()\n",
    "        for obj_name in data_items:\n",
    "            data = self.data_dict[obj_name]\n",
    "            if type(data) == pd.core.frame.DataFrame:\n",
    "                data.to_csv(obj_name + '.csv')\n",
    "            elif type(data) == np.ndarray:\n",
    "                # are there any ndarrays?..\n",
    "                # write csv...\n",
    "                pass\n",
    "            else:\n",
    "                with open(obj_name, 'wb') as file:\n",
    "                    pickle.dump(data, file)\n",
    "        return 'saved'"
   ]
  },
  {
   "cell_type": "code",
   "execution_count": null,
   "metadata": {},
   "outputs": [],
   "source": []
  },
  {
   "cell_type": "code",
   "execution_count": 99,
   "metadata": {},
   "outputs": [],
   "source": [
    "NV = News_Vectorizer(emb.model)"
   ]
  },
  {
   "cell_type": "code",
   "execution_count": 100,
   "metadata": {},
   "outputs": [
    {
     "data": {
      "text/plain": [
       "(1, 300)"
      ]
     },
     "execution_count": 100,
     "metadata": {},
     "output_type": "execute_result"
    }
   ],
   "source": [
    "NV.sent2vec('some another sentence to check functionality').shape"
   ]
  },
  {
   "cell_type": "code",
   "execution_count": 181,
   "metadata": {},
   "outputs": [],
   "source": [
    "nf = News_Finder(RSS_Feeds(bbc_rss).df_news, News_Vectorizer(emb.model))"
   ]
  },
  {
   "cell_type": "code",
   "execution_count": 183,
   "metadata": {},
   "outputs": [
    {
     "name": "stdout",
     "output_type": "stream",
     "text": [
      "(231, 300)\n"
     ]
    },
    {
     "data": {
      "text/plain": [
       "(24, 10)"
      ]
     },
     "execution_count": 183,
     "metadata": {},
     "output_type": "execute_result"
    }
   ],
   "source": [
    "nf.get_interesting(aggregator=agg).shape"
   ]
  },
  {
   "cell_type": "code",
   "execution_count": 186,
   "metadata": {},
   "outputs": [
    {
     "data": {
      "text/html": [
       "<div>\n",
       "<style scoped>\n",
       "    .dataframe tbody tr th:only-of-type {\n",
       "        vertical-align: middle;\n",
       "    }\n",
       "\n",
       "    .dataframe tbody tr th {\n",
       "        vertical-align: top;\n",
       "    }\n",
       "\n",
       "    .dataframe thead th {\n",
       "        text-align: right;\n",
       "    }\n",
       "</style>\n",
       "<table border=\"1\" class=\"dataframe\">\n",
       "  <thead>\n",
       "    <tr style=\"text-align: right;\">\n",
       "      <th></th>\n",
       "      <th>ID</th>\n",
       "      <th>news</th>\n",
       "      <th>category</th>\n",
       "      <th>title</th>\n",
       "      <th>summary</th>\n",
       "      <th>link</th>\n",
       "      <th>date</th>\n",
       "      <th>time</th>\n",
       "      <th>datetime</th>\n",
       "      <th>dist</th>\n",
       "    </tr>\n",
       "  </thead>\n",
       "  <tbody>\n",
       "    <tr>\n",
       "      <th>103</th>\n",
       "      <td>6c2120fc61d2e7af113243c7318a98e9</td>\n",
       "      <td>Carrickfergus: Glen Quinn death may be linked ...</td>\n",
       "      <td>[BBC News - UK]</td>\n",
       "      <td>Carrickfergus: Glen Quinn death may be linked ...</td>\n",
       "      <td>The man in his 40s who was found dead in a hou...</td>\n",
       "      <td>https://www.bbc.co.uk/news/uk-northern-ireland...</td>\n",
       "      <td>(2020, 1, 6)</td>\n",
       "      <td>(11, 51, 41)</td>\n",
       "      <td>Mon, 06 Jan 2020 11:51:41 GMT</td>\n",
       "      <td>0.390763</td>\n",
       "    </tr>\n",
       "    <tr>\n",
       "      <th>29</th>\n",
       "      <td>16812d9b25f78b8eb9f9fb82ac130d81</td>\n",
       "      <td>Llanelli deaths: Gary Williams stabbed more th...</td>\n",
       "      <td>[BBC News - UK]</td>\n",
       "      <td>Llanelli deaths: Gary Williams stabbed more th...</td>\n",
       "      <td>Gary Williams was found in the same house as J...</td>\n",
       "      <td>https://www.bbc.co.uk/news/uk-wales-51008201</td>\n",
       "      <td>(2020, 1, 6)</td>\n",
       "      <td>(11, 45, 23)</td>\n",
       "      <td>Mon, 06 Jan 2020 11:45:23 GMT</td>\n",
       "      <td>0.410150</td>\n",
       "    </tr>\n",
       "    <tr>\n",
       "      <th>100</th>\n",
       "      <td>638b7feeb816fd935d6ff1073303c970</td>\n",
       "      <td>Ayia Napa: Raab urges Cyprus to 'do the right ...</td>\n",
       "      <td>[BBC News - UK Politics]</td>\n",
       "      <td>Ayia Napa: Raab urges Cyprus to 'do the right ...</td>\n",
       "      <td>The foreign secretary says his priority is to ...</td>\n",
       "      <td>https://www.bbc.co.uk/news/uk-50998866</td>\n",
       "      <td>(2020, 1, 5)</td>\n",
       "      <td>(11, 37, 18)</td>\n",
       "      <td>Sun, 05 Jan 2020 11:37:18 GMT</td>\n",
       "      <td>0.416625</td>\n",
       "    </tr>\n",
       "    <tr>\n",
       "      <th>105</th>\n",
       "      <td>700000852b5434e8178145f68806983c</td>\n",
       "      <td>Duffield stabbings: Estranged wife double murd...</td>\n",
       "      <td>[BBC News - UK]</td>\n",
       "      <td>Duffield stabbings: Estranged wife double murd...</td>\n",
       "      <td>Helen Hancock and Martin Griffiths were found ...</td>\n",
       "      <td>https://www.bbc.co.uk/news/uk-england-derbyshi...</td>\n",
       "      <td>(2020, 1, 6)</td>\n",
       "      <td>(12, 50, 54)</td>\n",
       "      <td>Mon, 06 Jan 2020 12:50:54 GMT</td>\n",
       "      <td>0.434796</td>\n",
       "    </tr>\n",
       "    <tr>\n",
       "      <th>80</th>\n",
       "      <td>5099789a6ed6326a9afb2020809aff32</td>\n",
       "      <td>Katherine Jenkins mugging: Girl, 15, pleads gu...</td>\n",
       "      <td>[BBC News - Home, BBC News - UK, BBC News - En...</td>\n",
       "      <td>Katherine Jenkins mugging: Girl, 15, pleads gu...</td>\n",
       "      <td>The Welsh mezzo-soprano was attacked on her wa...</td>\n",
       "      <td>https://www.bbc.co.uk/news/entertainment-arts-...</td>\n",
       "      <td>(2020, 1, 6)</td>\n",
       "      <td>(14, 36, 0)</td>\n",
       "      <td>Mon, 06 Jan 2020 14:36:00 GMT</td>\n",
       "      <td>0.437851</td>\n",
       "    </tr>\n",
       "  </tbody>\n",
       "</table>\n",
       "</div>"
      ],
      "text/plain": [
       "                                   ID  \\\n",
       "103  6c2120fc61d2e7af113243c7318a98e9   \n",
       "29   16812d9b25f78b8eb9f9fb82ac130d81   \n",
       "100  638b7feeb816fd935d6ff1073303c970   \n",
       "105  700000852b5434e8178145f68806983c   \n",
       "80   5099789a6ed6326a9afb2020809aff32   \n",
       "\n",
       "                                                  news  \\\n",
       "103  Carrickfergus: Glen Quinn death may be linked ...   \n",
       "29   Llanelli deaths: Gary Williams stabbed more th...   \n",
       "100  Ayia Napa: Raab urges Cyprus to 'do the right ...   \n",
       "105  Duffield stabbings: Estranged wife double murd...   \n",
       "80   Katherine Jenkins mugging: Girl, 15, pleads gu...   \n",
       "\n",
       "                                              category  \\\n",
       "103                                    [BBC News - UK]   \n",
       "29                                     [BBC News - UK]   \n",
       "100                           [BBC News - UK Politics]   \n",
       "105                                    [BBC News - UK]   \n",
       "80   [BBC News - Home, BBC News - UK, BBC News - En...   \n",
       "\n",
       "                                                 title  \\\n",
       "103  Carrickfergus: Glen Quinn death may be linked ...   \n",
       "29   Llanelli deaths: Gary Williams stabbed more th...   \n",
       "100  Ayia Napa: Raab urges Cyprus to 'do the right ...   \n",
       "105  Duffield stabbings: Estranged wife double murd...   \n",
       "80   Katherine Jenkins mugging: Girl, 15, pleads gu...   \n",
       "\n",
       "                                               summary  \\\n",
       "103  The man in his 40s who was found dead in a hou...   \n",
       "29   Gary Williams was found in the same house as J...   \n",
       "100  The foreign secretary says his priority is to ...   \n",
       "105  Helen Hancock and Martin Griffiths were found ...   \n",
       "80   The Welsh mezzo-soprano was attacked on her wa...   \n",
       "\n",
       "                                                  link          date  \\\n",
       "103  https://www.bbc.co.uk/news/uk-northern-ireland...  (2020, 1, 6)   \n",
       "29        https://www.bbc.co.uk/news/uk-wales-51008201  (2020, 1, 6)   \n",
       "100             https://www.bbc.co.uk/news/uk-50998866  (2020, 1, 5)   \n",
       "105  https://www.bbc.co.uk/news/uk-england-derbyshi...  (2020, 1, 6)   \n",
       "80   https://www.bbc.co.uk/news/entertainment-arts-...  (2020, 1, 6)   \n",
       "\n",
       "             time                       datetime      dist  \n",
       "103  (11, 51, 41)  Mon, 06 Jan 2020 11:51:41 GMT  0.390763  \n",
       "29   (11, 45, 23)  Mon, 06 Jan 2020 11:45:23 GMT  0.410150  \n",
       "100  (11, 37, 18)  Sun, 05 Jan 2020 11:37:18 GMT  0.416625  \n",
       "105  (12, 50, 54)  Mon, 06 Jan 2020 12:50:54 GMT  0.434796  \n",
       "80    (14, 36, 0)  Mon, 06 Jan 2020 14:36:00 GMT  0.437851  "
      ]
     },
     "execution_count": 186,
     "metadata": {},
     "output_type": "execute_result"
    }
   ],
   "source": [
    "nf.get_similar(viewed.iloc[5,:])"
   ]
  },
  {
   "cell_type": "code",
   "execution_count": 189,
   "metadata": {},
   "outputs": [
    {
     "data": {
      "text/plain": [
       "news        Sunken chest syndrome: 'I'm being strangled in...\n",
       "category                                        BBC News - UK\n",
       "link        https://www.bbc.co.uk/news/uk-england-devon-50...\n",
       "date                                             (2020, 1, 5)\n",
       "time                                               (0, 1, 15)\n",
       "datetime                        Sun, 05 Jan 2020 00:01:15 GMT\n",
       "ID                           e93f24321fa5c27e2da2a1dce5880b2c\n",
       "label                                                       3\n",
       "Name: 81, dtype: object"
      ]
     },
     "execution_count": 189,
     "metadata": {},
     "output_type": "execute_result"
    }
   ],
   "source": [
    "viewed.iloc[5,:]"
   ]
  },
  {
   "cell_type": "code",
   "execution_count": 90,
   "metadata": {
    "scrolled": true
   },
   "outputs": [
    {
     "data": {
      "text/plain": [
       "'updated df_news'"
      ]
     },
     "execution_count": 90,
     "metadata": {},
     "output_type": "execute_result"
    }
   ],
   "source": [
    "nf.update_news(RSS_Feeds(bbc_rss).df_news)"
   ]
  },
  {
   "cell_type": "code",
   "execution_count": 101,
   "metadata": {
    "scrolled": true
   },
   "outputs": [
    {
     "data": {
      "text/html": [
       "<div>\n",
       "<style scoped>\n",
       "    .dataframe tbody tr th:only-of-type {\n",
       "        vertical-align: middle;\n",
       "    }\n",
       "\n",
       "    .dataframe tbody tr th {\n",
       "        vertical-align: top;\n",
       "    }\n",
       "\n",
       "    .dataframe thead th {\n",
       "        text-align: right;\n",
       "    }\n",
       "</style>\n",
       "<table border=\"1\" class=\"dataframe\">\n",
       "  <thead>\n",
       "    <tr style=\"text-align: right;\">\n",
       "      <th></th>\n",
       "      <th>ID</th>\n",
       "      <th>news</th>\n",
       "      <th>category</th>\n",
       "      <th>title</th>\n",
       "      <th>summary</th>\n",
       "      <th>link</th>\n",
       "      <th>date</th>\n",
       "      <th>time</th>\n",
       "      <th>datetime</th>\n",
       "      <th>dist</th>\n",
       "    </tr>\n",
       "  </thead>\n",
       "  <tbody>\n",
       "    <tr>\n",
       "      <th>232</th>\n",
       "      <td>ff625e6352a576d18ff6e3b74fba4772</td>\n",
       "      <td>Trump: US killed Soleimani to 'stop a war' wit...</td>\n",
       "      <td>[BBC News - World]</td>\n",
       "      <td>Trump: US killed Soleimani to 'stop a war' wit...</td>\n",
       "      <td>US President Trump gives a statement after ord...</td>\n",
       "      <td>https://www.bbc.co.uk/news/world-us-canada-509...</td>\n",
       "      <td>(2020, 1, 3)</td>\n",
       "      <td>(20, 36, 2)</td>\n",
       "      <td>Fri, 03 Jan 2020 20:36:02 GMT</td>\n",
       "      <td>0.260237</td>\n",
       "    </tr>\n",
       "    <tr>\n",
       "      <th>47</th>\n",
       "      <td>2ac8479941adf0e08bd422461ba37488</td>\n",
       "      <td>The Papers: White House threat and PM's Iran '...</td>\n",
       "      <td>[BBC News - Home, BBC News - UK]</td>\n",
       "      <td>The Papers: White House threat and PM's Iran '...</td>\n",
       "      <td>Monday's papers report Boris Johnson's respons...</td>\n",
       "      <td>https://www.bbc.co.uk/news/blogs-the-papers-51...</td>\n",
       "      <td>(2020, 1, 6)</td>\n",
       "      <td>(5, 31, 25)</td>\n",
       "      <td>Mon, 06 Jan 2020 05:31:25 GMT</td>\n",
       "      <td>0.344058</td>\n",
       "    </tr>\n",
       "    <tr>\n",
       "      <th>26</th>\n",
       "      <td>139c10e05a94c3fe747ea8d9e15c54ef</td>\n",
       "      <td>Qasem Soleimani: Dominic Raab says he found ou...</td>\n",
       "      <td>[BBC News - UK, BBC News - UK Politics]</td>\n",
       "      <td>Qasem Soleimani: Dominic Raab says he found ou...</td>\n",
       "      <td>The UK was not warned about US plans to assass...</td>\n",
       "      <td>https://www.bbc.co.uk/news/uk-politics-50998327</td>\n",
       "      <td>(2020, 1, 5)</td>\n",
       "      <td>(10, 51, 10)</td>\n",
       "      <td>Sun, 05 Jan 2020 10:51:10 GMT</td>\n",
       "      <td>0.363699</td>\n",
       "    </tr>\n",
       "    <tr>\n",
       "      <th>18</th>\n",
       "      <td>0ea768c5fb8b354e583f8f622b4643cd</td>\n",
       "      <td>Qasem Soleimani: Boris Johnson not told about ...</td>\n",
       "      <td>[BBC News - UK Politics]</td>\n",
       "      <td>Qasem Soleimani: Boris Johnson not told about ...</td>\n",
       "      <td>The UK prime minister was not told in advance ...</td>\n",
       "      <td>https://www.bbc.co.uk/news/uk-politics-50981719</td>\n",
       "      <td>(2020, 1, 3)</td>\n",
       "      <td>(18, 36, 42)</td>\n",
       "      <td>Fri, 03 Jan 2020 18:36:42 GMT</td>\n",
       "      <td>0.365677</td>\n",
       "    </tr>\n",
       "    <tr>\n",
       "      <th>153</th>\n",
       "      <td>a90599fc7f044e800c2e54ec0de674b2</td>\n",
       "      <td>Trump threatens Iraq with sanctions if US troo...</td>\n",
       "      <td>[BBC News - World]</td>\n",
       "      <td>Trump threatens Iraq with sanctions if US troo...</td>\n",
       "      <td>The US president warns Iraq of sanctions \"like...</td>\n",
       "      <td>https://www.bbc.co.uk/news/world-middle-east-5...</td>\n",
       "      <td>(2020, 1, 6)</td>\n",
       "      <td>(8, 14, 0)</td>\n",
       "      <td>Mon, 06 Jan 2020 08:14:00 GMT</td>\n",
       "      <td>0.384127</td>\n",
       "    </tr>\n",
       "  </tbody>\n",
       "</table>\n",
       "</div>"
      ],
      "text/plain": [
       "                                   ID  \\\n",
       "232  ff625e6352a576d18ff6e3b74fba4772   \n",
       "47   2ac8479941adf0e08bd422461ba37488   \n",
       "26   139c10e05a94c3fe747ea8d9e15c54ef   \n",
       "18   0ea768c5fb8b354e583f8f622b4643cd   \n",
       "153  a90599fc7f044e800c2e54ec0de674b2   \n",
       "\n",
       "                                                  news  \\\n",
       "232  Trump: US killed Soleimani to 'stop a war' wit...   \n",
       "47   The Papers: White House threat and PM's Iran '...   \n",
       "26   Qasem Soleimani: Dominic Raab says he found ou...   \n",
       "18   Qasem Soleimani: Boris Johnson not told about ...   \n",
       "153  Trump threatens Iraq with sanctions if US troo...   \n",
       "\n",
       "                                    category  \\\n",
       "232                       [BBC News - World]   \n",
       "47          [BBC News - Home, BBC News - UK]   \n",
       "26   [BBC News - UK, BBC News - UK Politics]   \n",
       "18                  [BBC News - UK Politics]   \n",
       "153                       [BBC News - World]   \n",
       "\n",
       "                                                 title  \\\n",
       "232  Trump: US killed Soleimani to 'stop a war' wit...   \n",
       "47   The Papers: White House threat and PM's Iran '...   \n",
       "26   Qasem Soleimani: Dominic Raab says he found ou...   \n",
       "18   Qasem Soleimani: Boris Johnson not told about ...   \n",
       "153  Trump threatens Iraq with sanctions if US troo...   \n",
       "\n",
       "                                               summary  \\\n",
       "232  US President Trump gives a statement after ord...   \n",
       "47   Monday's papers report Boris Johnson's respons...   \n",
       "26   The UK was not warned about US plans to assass...   \n",
       "18   The UK prime minister was not told in advance ...   \n",
       "153  The US president warns Iraq of sanctions \"like...   \n",
       "\n",
       "                                                  link          date  \\\n",
       "232  https://www.bbc.co.uk/news/world-us-canada-509...  (2020, 1, 3)   \n",
       "47   https://www.bbc.co.uk/news/blogs-the-papers-51...  (2020, 1, 6)   \n",
       "26     https://www.bbc.co.uk/news/uk-politics-50998327  (2020, 1, 5)   \n",
       "18     https://www.bbc.co.uk/news/uk-politics-50981719  (2020, 1, 3)   \n",
       "153  https://www.bbc.co.uk/news/world-middle-east-5...  (2020, 1, 6)   \n",
       "\n",
       "             time                       datetime      dist  \n",
       "232   (20, 36, 2)  Fri, 03 Jan 2020 20:36:02 GMT  0.260237  \n",
       "47    (5, 31, 25)  Mon, 06 Jan 2020 05:31:25 GMT  0.344058  \n",
       "26   (10, 51, 10)  Sun, 05 Jan 2020 10:51:10 GMT  0.363699  \n",
       "18   (18, 36, 42)  Fri, 03 Jan 2020 18:36:42 GMT  0.365677  \n",
       "153    (8, 14, 0)  Mon, 06 Jan 2020 08:14:00 GMT  0.384127  "
      ]
     },
     "execution_count": 101,
     "metadata": {},
     "output_type": "execute_result"
    }
   ],
   "source": [
    "nf.similar(df_news.iloc[0,:], News_Vectorizer(emb.model))"
   ]
  },
  {
   "cell_type": "code",
   "execution_count": 8,
   "metadata": {},
   "outputs": [],
   "source": [
    "rss = RSS_Feeds(bbc_rss)"
   ]
  },
  {
   "cell_type": "code",
   "execution_count": 48,
   "metadata": {},
   "outputs": [],
   "source": [
    "nitem = rss.df_news.iloc[0,:]"
   ]
  },
  {
   "cell_type": "code",
   "execution_count": 50,
   "metadata": {},
   "outputs": [
    {
     "data": {
      "text/plain": [
       "'0c286cdcba4aa9236cd3f53a92ee998e'"
      ]
     },
     "execution_count": 50,
     "metadata": {},
     "output_type": "execute_result"
    }
   ],
   "source": [
    "nitem.ID"
   ]
  },
  {
   "cell_type": "code",
   "execution_count": 51,
   "metadata": {},
   "outputs": [],
   "source": [
    "df_news = rss.df_news"
   ]
  },
  {
   "cell_type": "code",
   "execution_count": 55,
   "metadata": {},
   "outputs": [
    {
     "data": {
      "text/plain": [
       "(285, 9)"
      ]
     },
     "execution_count": 55,
     "metadata": {},
     "output_type": "execute_result"
    }
   ],
   "source": [
    "df_news.shape"
   ]
  },
  {
   "cell_type": "code",
   "execution_count": 66,
   "metadata": {},
   "outputs": [
    {
     "data": {
      "text/plain": [
       "(221, 9)"
      ]
     },
     "execution_count": 66,
     "metadata": {},
     "output_type": "execute_result"
    }
   ],
   "source": [
    "u.shape"
   ]
  },
  {
   "cell_type": "code",
   "execution_count": 63,
   "metadata": {},
   "outputs": [],
   "source": [
    "nv = News_Vectorizer(emb.model)"
   ]
  },
  {
   "cell_type": "code",
   "execution_count": 65,
   "metadata": {},
   "outputs": [
    {
     "data": {
      "text/plain": [
       "(221,)"
      ]
     },
     "execution_count": 65,
     "metadata": {},
     "output_type": "execute_result"
    }
   ],
   "source": [
    "nv.dist_vec(nitem.news, u.news.values).shape"
   ]
  },
  {
   "cell_type": "code",
   "execution_count": 9,
   "metadata": {
    "scrolled": false
   },
   "outputs": [
    {
     "data": {
      "text/html": [
       "<div>\n",
       "<style scoped>\n",
       "    .dataframe tbody tr th:only-of-type {\n",
       "        vertical-align: middle;\n",
       "    }\n",
       "\n",
       "    .dataframe tbody tr th {\n",
       "        vertical-align: top;\n",
       "    }\n",
       "\n",
       "    .dataframe thead th {\n",
       "        text-align: right;\n",
       "    }\n",
       "</style>\n",
       "<table border=\"1\" class=\"dataframe\">\n",
       "  <thead>\n",
       "    <tr style=\"text-align: right;\">\n",
       "      <th></th>\n",
       "      <th>news</th>\n",
       "      <th>category</th>\n",
       "      <th>link</th>\n",
       "      <th>date</th>\n",
       "      <th>time</th>\n",
       "      <th>datetime</th>\n",
       "      <th>ID</th>\n",
       "    </tr>\n",
       "  </thead>\n",
       "  <tbody>\n",
       "    <tr>\n",
       "      <th>0</th>\n",
       "      <td>Soleimani: Huge crowds pack Tehran for command...</td>\n",
       "      <td>BBC News - Home</td>\n",
       "      <td>https://www.bbc.co.uk/news/world-middle-east-5...</td>\n",
       "      <td>(2020, 1, 6)</td>\n",
       "      <td>(9, 15, 55)</td>\n",
       "      <td>Mon, 06 Jan 2020 09:15:55 GMT</td>\n",
       "      <td>0c286cdcba4aa9236cd3f53a92ee998e</td>\n",
       "    </tr>\n",
       "    <tr>\n",
       "      <th>1</th>\n",
       "      <td>Qasem Soleimani: Boris Johnson and European le...</td>\n",
       "      <td>BBC News - Home</td>\n",
       "      <td>https://www.bbc.co.uk/news/uk-51004218</td>\n",
       "      <td>(2020, 1, 6)</td>\n",
       "      <td>(9, 10, 11)</td>\n",
       "      <td>Mon, 06 Jan 2020 09:10:11 GMT</td>\n",
       "      <td>869ca611e8bca9be85f962c4b4ae800d</td>\n",
       "    </tr>\n",
       "    <tr>\n",
       "      <th>2</th>\n",
       "      <td>Golden Globes 2020: British stars have golden ...</td>\n",
       "      <td>BBC News - Home</td>\n",
       "      <td>https://www.bbc.co.uk/news/entertainment-arts-...</td>\n",
       "      <td>(2020, 1, 6)</td>\n",
       "      <td>(10, 46, 33)</td>\n",
       "      <td>Mon, 06 Jan 2020 10:46:33 GMT</td>\n",
       "      <td>c8fe7150ff26a9694a0088591a7217d9</td>\n",
       "    </tr>\n",
       "    <tr>\n",
       "      <th>3</th>\n",
       "      <td>FTSE chief executives 'earn average salary wit...</td>\n",
       "      <td>BBC News - Home</td>\n",
       "      <td>https://www.bbc.co.uk/news/business-51000217</td>\n",
       "      <td>(2020, 1, 6)</td>\n",
       "      <td>(0, 1, 2)</td>\n",
       "      <td>Mon, 06 Jan 2020 00:01:02 GMT</td>\n",
       "      <td>2f6690ebc6a03a99e8506dafb60326aa</td>\n",
       "    </tr>\n",
       "    <tr>\n",
       "      <th>4</th>\n",
       "      <td>New car registrations at lowest level since 20...</td>\n",
       "      <td>BBC News - Home</td>\n",
       "      <td>https://www.bbc.co.uk/news/business-50985412</td>\n",
       "      <td>(2020, 1, 6)</td>\n",
       "      <td>(9, 20, 26)</td>\n",
       "      <td>Mon, 06 Jan 2020 09:20:26 GMT</td>\n",
       "      <td>fc4662a7a224c31ba1ae54efb5a3820e</td>\n",
       "    </tr>\n",
       "  </tbody>\n",
       "</table>\n",
       "</div>"
      ],
      "text/plain": [
       "                                                news         category  \\\n",
       "0  Soleimani: Huge crowds pack Tehran for command...  BBC News - Home   \n",
       "1  Qasem Soleimani: Boris Johnson and European le...  BBC News - Home   \n",
       "2  Golden Globes 2020: British stars have golden ...  BBC News - Home   \n",
       "3  FTSE chief executives 'earn average salary wit...  BBC News - Home   \n",
       "4  New car registrations at lowest level since 20...  BBC News - Home   \n",
       "\n",
       "                                                link          date  \\\n",
       "0  https://www.bbc.co.uk/news/world-middle-east-5...  (2020, 1, 6)   \n",
       "1             https://www.bbc.co.uk/news/uk-51004218  (2020, 1, 6)   \n",
       "2  https://www.bbc.co.uk/news/entertainment-arts-...  (2020, 1, 6)   \n",
       "3       https://www.bbc.co.uk/news/business-51000217  (2020, 1, 6)   \n",
       "4       https://www.bbc.co.uk/news/business-50985412  (2020, 1, 6)   \n",
       "\n",
       "           time                       datetime  \\\n",
       "0   (9, 15, 55)  Mon, 06 Jan 2020 09:15:55 GMT   \n",
       "1   (9, 10, 11)  Mon, 06 Jan 2020 09:10:11 GMT   \n",
       "2  (10, 46, 33)  Mon, 06 Jan 2020 10:46:33 GMT   \n",
       "3     (0, 1, 2)  Mon, 06 Jan 2020 00:01:02 GMT   \n",
       "4   (9, 20, 26)  Mon, 06 Jan 2020 09:20:26 GMT   \n",
       "\n",
       "                                 ID  \n",
       "0  0c286cdcba4aa9236cd3f53a92ee998e  \n",
       "1  869ca611e8bca9be85f962c4b4ae800d  \n",
       "2  c8fe7150ff26a9694a0088591a7217d9  \n",
       "3  2f6690ebc6a03a99e8506dafb60326aa  \n",
       "4  fc4662a7a224c31ba1ae54efb5a3820e  "
      ]
     },
     "execution_count": 9,
     "metadata": {},
     "output_type": "execute_result"
    }
   ],
   "source": [
    "rss.df_news.head()"
   ]
  },
  {
   "cell_type": "code",
   "execution_count": 10,
   "metadata": {},
   "outputs": [],
   "source": [
    "emb = Embeddings()"
   ]
  },
  {
   "cell_type": "code",
   "execution_count": 24,
   "metadata": {},
   "outputs": [],
   "source": [
    "nv = News_Vectorizer(emb.model)"
   ]
  },
  {
   "cell_type": "code",
   "execution_count": 28,
   "metadata": {},
   "outputs": [
    {
     "data": {
      "text/plain": [
       "array([[-0.02345757,  0.02462658,  0.04443118, ..., -0.11020525,\n",
       "         0.04113361,  0.03566668],\n",
       "       [ 0.07758831,  0.0578831 ,  0.01188256, ..., -0.04717001,\n",
       "         0.08506233, -0.01283889],\n",
       "       [ 0.0482512 , -0.00875419,  0.0113892 , ...,  0.00814444,\n",
       "         0.03839172, -0.09693049],\n",
       "       ...,\n",
       "       [ 0.06636593,  0.08467283, -0.05472225, ..., -0.04520165,\n",
       "         0.0150347 ,  0.01927825],\n",
       "       [ 0.02927748,  0.02805086, -0.05400386, ..., -0.02469139,\n",
       "         0.07916237, -0.03276701],\n",
       "       [ 0.08161105,  0.04468193,  0.07157842, ..., -0.02819903,\n",
       "         0.02868958,  0.04304279]], dtype=float32)"
      ]
     },
     "execution_count": 28,
     "metadata": {},
     "output_type": "execute_result"
    }
   ],
   "source": [
    "nv.news2vec(rss.get_unique_news())"
   ]
  },
  {
   "cell_type": "code",
   "execution_count": 29,
   "metadata": {},
   "outputs": [
    {
     "data": {
      "text/plain": [
       "(10, 300)"
      ]
     },
     "execution_count": 29,
     "metadata": {},
     "output_type": "execute_result"
    }
   ],
   "source": [
    "nv.news_vectors.shape"
   ]
  },
  {
   "cell_type": "code",
   "execution_count": 104,
   "metadata": {},
   "outputs": [],
   "source": [
    "manager = Data_Manager()"
   ]
  },
  {
   "cell_type": "code",
   "execution_count": 105,
   "metadata": {},
   "outputs": [],
   "source": [
    "manager = Data_Manager(path_dict={'csv':{'news':'news.csv', 'viewed':'viewed.csv'}, 'serialized':{'classifier':'classifier', 'clusterizer':'clusterizer'}})"
   ]
  },
  {
   "cell_type": "code",
   "execution_count": 110,
   "metadata": {},
   "outputs": [
    {
     "data": {
      "text/plain": [
       "KNeighborsClassifier(algorithm='auto', leaf_size=30, metric='cosine',\n",
       "                     metric_params=None, n_jobs=None, n_neighbors=3, p=2,\n",
       "                     weights='distance')"
      ]
     },
     "execution_count": 110,
     "metadata": {},
     "output_type": "execute_result"
    }
   ],
   "source": [
    "manager.get_data_item('classifier')"
   ]
  },
  {
   "cell_type": "code",
   "execution_count": 115,
   "metadata": {},
   "outputs": [],
   "source": [
    "new_data = nv.news2vec(rss.get_unique_news())"
   ]
  },
  {
   "cell_type": "code",
   "execution_count": 117,
   "metadata": {},
   "outputs": [],
   "source": [
    "labeled_data = nv.news2vec(manager.get_data_item('viewed').news.values)"
   ]
  },
  {
   "cell_type": "code",
   "execution_count": 119,
   "metadata": {},
   "outputs": [],
   "source": [
    "labels = manager.get_data_item('viewed').label"
   ]
  },
  {
   "cell_type": "code",
   "execution_count": 123,
   "metadata": {
    "collapsed": true
   },
   "outputs": [
    {
     "data": {
      "text/plain": [
       "0      2\n",
       "1      1\n",
       "2      1\n",
       "48     2\n",
       "49     4\n",
       "81     3\n",
       "110    1\n",
       "111    1\n",
       "149    1\n",
       "150    1\n",
       "193    0\n",
       "195    5\n",
       "213    1\n",
       "214    0\n",
       "215    4\n",
       "232    6\n",
       "233    0\n",
       "234    1\n",
       "259    4\n",
       "260    4\n",
       "281    0\n",
       "282    3\n",
       "283    0\n",
       "Name: label, dtype: int64"
      ]
     },
     "execution_count": 123,
     "metadata": {},
     "output_type": "execute_result"
    }
   ],
   "source": [
    "labels"
   ]
  },
  {
   "cell_type": "code",
   "execution_count": 124,
   "metadata": {},
   "outputs": [],
   "source": [
    "agg = Aggregator(manager.get_data_item('clusterizer'),\n",
    "                 manager.get_data_item('classifier'), labeled_data, labels)"
   ]
  },
  {
   "cell_type": "code",
   "execution_count": 125,
   "metadata": {
    "scrolled": false
   },
   "outputs": [
    {
     "data": {
      "text/html": [
       "<div>\n",
       "<style scoped>\n",
       "    .dataframe tbody tr th:only-of-type {\n",
       "        vertical-align: middle;\n",
       "    }\n",
       "\n",
       "    .dataframe tbody tr th {\n",
       "        vertical-align: top;\n",
       "    }\n",
       "\n",
       "    .dataframe thead th {\n",
       "        text-align: right;\n",
       "    }\n",
       "</style>\n",
       "<table border=\"1\" class=\"dataframe\">\n",
       "  <thead>\n",
       "    <tr style=\"text-align: right;\">\n",
       "      <th></th>\n",
       "      <th>clust</th>\n",
       "      <th>weight</th>\n",
       "    </tr>\n",
       "  </thead>\n",
       "  <tbody>\n",
       "    <tr>\n",
       "      <th>0</th>\n",
       "      <td>0</td>\n",
       "      <td>0.217391</td>\n",
       "    </tr>\n",
       "    <tr>\n",
       "      <th>1</th>\n",
       "      <td>1</td>\n",
       "      <td>0.347826</td>\n",
       "    </tr>\n",
       "    <tr>\n",
       "      <th>2</th>\n",
       "      <td>2</td>\n",
       "      <td>0.086957</td>\n",
       "    </tr>\n",
       "    <tr>\n",
       "      <th>3</th>\n",
       "      <td>3</td>\n",
       "      <td>0.086957</td>\n",
       "    </tr>\n",
       "    <tr>\n",
       "      <th>4</th>\n",
       "      <td>4</td>\n",
       "      <td>0.173913</td>\n",
       "    </tr>\n",
       "    <tr>\n",
       "      <th>5</th>\n",
       "      <td>5</td>\n",
       "      <td>0.043478</td>\n",
       "    </tr>\n",
       "    <tr>\n",
       "      <th>6</th>\n",
       "      <td>6</td>\n",
       "      <td>0.043478</td>\n",
       "    </tr>\n",
       "  </tbody>\n",
       "</table>\n",
       "</div>"
      ],
      "text/plain": [
       "   clust    weight\n",
       "0      0  0.217391\n",
       "1      1  0.347826\n",
       "2      2  0.086957\n",
       "3      3  0.086957\n",
       "4      4  0.173913\n",
       "5      5  0.043478\n",
       "6      6  0.043478"
      ]
     },
     "execution_count": 125,
     "metadata": {},
     "output_type": "execute_result"
    }
   ],
   "source": [
    "agg.update_weights()"
   ]
  },
  {
   "cell_type": "code",
   "execution_count": 153,
   "metadata": {},
   "outputs": [],
   "source": [
    "weights = agg.clust_weights"
   ]
  },
  {
   "cell_type": "code",
   "execution_count": 166,
   "metadata": {},
   "outputs": [],
   "source": [
    "n_from_clust = np.ceil((agg.clust_weights.weight*20)).astype(int)"
   ]
  },
  {
   "cell_type": "code",
   "execution_count": 147,
   "metadata": {
    "scrolled": true
   },
   "outputs": [
    {
     "name": "stdout",
     "output_type": "stream",
     "text": [
      "0 4\n",
      "1 2\n",
      "2 2\n",
      "3 1\n",
      "4 2\n",
      "5 1\n",
      "6 1\n"
     ]
    }
   ],
   "source": [
    "for i, j in zip(agg.clust_weights.clust, n_from_clust):\n",
    "    print(i, j)"
   ]
  },
  {
   "cell_type": "code",
   "execution_count": 167,
   "metadata": {},
   "outputs": [],
   "source": [
    "dflist = []\n",
    "for cluster, n in zip(weights.clust, n_from_clust):\n",
    "    dflist.append(viewed.query('label == @cluster').head(n))"
   ]
  },
  {
   "cell_type": "code",
   "execution_count": 170,
   "metadata": {},
   "outputs": [
    {
     "data": {
      "text/plain": [
       "(23, 8)"
      ]
     },
     "execution_count": 170,
     "metadata": {},
     "output_type": "execute_result"
    }
   ],
   "source": [
    "viewed.shape"
   ]
  },
  {
   "cell_type": "code",
   "execution_count": 169,
   "metadata": {},
   "outputs": [
    {
     "data": {
      "text/plain": [
       "(19, 8)"
      ]
     },
     "execution_count": 169,
     "metadata": {},
     "output_type": "execute_result"
    }
   ],
   "source": [
    "pd.concat(dflist).shape"
   ]
  },
  {
   "cell_type": "code",
   "execution_count": 150,
   "metadata": {},
   "outputs": [],
   "source": [
    "viewed = manager.get_data_item('viewed')"
   ]
  },
  {
   "cell_type": "code",
   "execution_count": 151,
   "metadata": {},
   "outputs": [
    {
     "data": {
      "text/html": [
       "<div>\n",
       "<style scoped>\n",
       "    .dataframe tbody tr th:only-of-type {\n",
       "        vertical-align: middle;\n",
       "    }\n",
       "\n",
       "    .dataframe tbody tr th {\n",
       "        vertical-align: top;\n",
       "    }\n",
       "\n",
       "    .dataframe thead th {\n",
       "        text-align: right;\n",
       "    }\n",
       "</style>\n",
       "<table border=\"1\" class=\"dataframe\">\n",
       "  <thead>\n",
       "    <tr style=\"text-align: right;\">\n",
       "      <th></th>\n",
       "      <th>news</th>\n",
       "      <th>category</th>\n",
       "      <th>link</th>\n",
       "      <th>date</th>\n",
       "      <th>time</th>\n",
       "      <th>datetime</th>\n",
       "      <th>ID</th>\n",
       "      <th>label</th>\n",
       "    </tr>\n",
       "  </thead>\n",
       "  <tbody>\n",
       "    <tr>\n",
       "      <th>0</th>\n",
       "      <td>Soleimani assassination: Mourners flood the st...</td>\n",
       "      <td>BBC News - Home</td>\n",
       "      <td>https://www.bbc.co.uk/news/world-middle-east-5...</td>\n",
       "      <td>(2020, 1, 5)</td>\n",
       "      <td>(9, 15, 6)</td>\n",
       "      <td>Sun, 05 Jan 2020 09:15:06 GMT</td>\n",
       "      <td>92b52890a83cf10f253652b35a697c9e</td>\n",
       "      <td>2</td>\n",
       "    </tr>\n",
       "    <tr>\n",
       "      <th>1</th>\n",
       "      <td>Qasem Soleimani: Raab urges Iran to take diplo...</td>\n",
       "      <td>BBC News - Home</td>\n",
       "      <td>https://www.bbc.co.uk/news/uk-politics-50996630</td>\n",
       "      <td>(2020, 1, 5)</td>\n",
       "      <td>(10, 30, 15)</td>\n",
       "      <td>Sun, 05 Jan 2020 10:30:15 GMT</td>\n",
       "      <td>e20e8caf41be90713ac71dd95bfb9b87</td>\n",
       "      <td>1</td>\n",
       "    </tr>\n",
       "    <tr>\n",
       "      <th>2</th>\n",
       "      <td>HS2 costs out of control, says review's deputy...</td>\n",
       "      <td>BBC News - Home</td>\n",
       "      <td>https://www.bbc.co.uk/news/business-50995116</td>\n",
       "      <td>(2020, 1, 5)</td>\n",
       "      <td>(10, 2, 23)</td>\n",
       "      <td>Sun, 05 Jan 2020 10:02:23 GMT</td>\n",
       "      <td>4d0d1202cdfc4539394138a76d7100a1</td>\n",
       "      <td>1</td>\n",
       "    </tr>\n",
       "    <tr>\n",
       "      <th>48</th>\n",
       "      <td>Qasem Soleimani: Mourning begins in Iran. The ...</td>\n",
       "      <td>BBC News - World</td>\n",
       "      <td>https://www.bbc.co.uk/news/world-middle-east-5...</td>\n",
       "      <td>(2020, 1, 5)</td>\n",
       "      <td>(8, 25, 15)</td>\n",
       "      <td>Sun, 05 Jan 2020 08:25:15 GMT</td>\n",
       "      <td>b5f8537288db3951cc22f3cbac30d8aa</td>\n",
       "      <td>2</td>\n",
       "    </tr>\n",
       "    <tr>\n",
       "      <th>49</th>\n",
       "      <td>Australia bushfires: Fundraiser reaches A$20m ...</td>\n",
       "      <td>BBC News - World</td>\n",
       "      <td>https://www.bbc.co.uk/news/world-australia-509...</td>\n",
       "      <td>(2020, 1, 5)</td>\n",
       "      <td>(7, 24, 8)</td>\n",
       "      <td>Sun, 05 Jan 2020 07:24:08 GMT</td>\n",
       "      <td>b8c7c52984d793c0ab9b94b75e872365</td>\n",
       "      <td>4</td>\n",
       "    </tr>\n",
       "    <tr>\n",
       "      <th>81</th>\n",
       "      <td>Sunken chest syndrome: 'I'm being strangled in...</td>\n",
       "      <td>BBC News - UK</td>\n",
       "      <td>https://www.bbc.co.uk/news/uk-england-devon-50...</td>\n",
       "      <td>(2020, 1, 5)</td>\n",
       "      <td>(0, 1, 15)</td>\n",
       "      <td>Sun, 05 Jan 2020 00:01:15 GMT</td>\n",
       "      <td>e93f24321fa5c27e2da2a1dce5880b2c</td>\n",
       "      <td>3</td>\n",
       "    </tr>\n",
       "    <tr>\n",
       "      <th>193</th>\n",
       "      <td>'Outdated' IT leaves NHS staff with 15 differe...</td>\n",
       "      <td>BBC News - Health</td>\n",
       "      <td>https://www.bbc.co.uk/news/health-50972123</td>\n",
       "      <td>(2020, 1, 4)</td>\n",
       "      <td>(0, 55, 57)</td>\n",
       "      <td>Sat, 04 Jan 2020 00:55:57 GMT</td>\n",
       "      <td>86c0f0b33e76adfe1b16a8c43fa67392</td>\n",
       "      <td>0</td>\n",
       "    </tr>\n",
       "    <tr>\n",
       "      <th>195</th>\n",
       "      <td>Welsh hospitals: Pest control called for rats ...</td>\n",
       "      <td>BBC News - Health</td>\n",
       "      <td>https://www.bbc.co.uk/news/uk-wales-50737114</td>\n",
       "      <td>(2020, 1, 5)</td>\n",
       "      <td>(1, 37, 36)</td>\n",
       "      <td>Sun, 05 Jan 2020 01:37:36 GMT</td>\n",
       "      <td>59e61dd3214326a7d6fa3a155f4e6468</td>\n",
       "      <td>5</td>\n",
       "    </tr>\n",
       "    <tr>\n",
       "      <th>214</th>\n",
       "      <td>'Confusion' over Welsh free childcare scheme. ...</td>\n",
       "      <td>BBC News - Family &amp; Education</td>\n",
       "      <td>https://www.bbc.co.uk/news/uk-wales-politics-5...</td>\n",
       "      <td>(2020, 1, 5)</td>\n",
       "      <td>(1, 30, 35)</td>\n",
       "      <td>Sun, 05 Jan 2020 01:30:35 GMT</td>\n",
       "      <td>0d1dd500cc332d542401d14edcd8acc5</td>\n",
       "      <td>0</td>\n",
       "    </tr>\n",
       "    <tr>\n",
       "      <th>215</th>\n",
       "      <td>Violinist Nicola Benedetti launches music work...</td>\n",
       "      <td>BBC News - Family &amp; Education</td>\n",
       "      <td>https://www.bbc.co.uk/news/uk-scotland-glasgow...</td>\n",
       "      <td>(2020, 1, 4)</td>\n",
       "      <td>(16, 26, 36)</td>\n",
       "      <td>Sat, 04 Jan 2020 16:26:36 GMT</td>\n",
       "      <td>4cf5cd61a4618f70f88db44fcc666b85</td>\n",
       "      <td>4</td>\n",
       "    </tr>\n",
       "    <tr>\n",
       "      <th>232</th>\n",
       "      <td>Nobel Prize-winning scientist Frances Arnold r...</td>\n",
       "      <td>BBC News - Science &amp; Environment</td>\n",
       "      <td>https://www.bbc.co.uk/news/world-us-canada-509...</td>\n",
       "      <td>(2020, 1, 3)</td>\n",
       "      <td>(21, 4, 31)</td>\n",
       "      <td>Fri, 03 Jan 2020 21:04:31 GMT</td>\n",
       "      <td>9caed0f0d47b7cfa51300920dbc2f07e</td>\n",
       "      <td>6</td>\n",
       "    </tr>\n",
       "    <tr>\n",
       "      <th>282</th>\n",
       "      <td>BBC Sound of 2020: Bono's son and his band Inh...</td>\n",
       "      <td>BBC News - Entertainment &amp; Arts</td>\n",
       "      <td>https://www.bbc.co.uk/news/entertainment-arts-...</td>\n",
       "      <td>(2020, 1, 5)</td>\n",
       "      <td>(0, 45, 27)</td>\n",
       "      <td>Sun, 05 Jan 2020 00:45:27 GMT</td>\n",
       "      <td>afd151b1b52f66d5dd9ee1fac2205bd3</td>\n",
       "      <td>3</td>\n",
       "    </tr>\n",
       "  </tbody>\n",
       "</table>\n",
       "</div>"
      ],
      "text/plain": [
       "                                                  news  \\\n",
       "0    Soleimani assassination: Mourners flood the st...   \n",
       "1    Qasem Soleimani: Raab urges Iran to take diplo...   \n",
       "2    HS2 costs out of control, says review's deputy...   \n",
       "48   Qasem Soleimani: Mourning begins in Iran. The ...   \n",
       "49   Australia bushfires: Fundraiser reaches A$20m ...   \n",
       "81   Sunken chest syndrome: 'I'm being strangled in...   \n",
       "193  'Outdated' IT leaves NHS staff with 15 differe...   \n",
       "195  Welsh hospitals: Pest control called for rats ...   \n",
       "214  'Confusion' over Welsh free childcare scheme. ...   \n",
       "215  Violinist Nicola Benedetti launches music work...   \n",
       "232  Nobel Prize-winning scientist Frances Arnold r...   \n",
       "282  BBC Sound of 2020: Bono's son and his band Inh...   \n",
       "\n",
       "                             category  \\\n",
       "0                     BBC News - Home   \n",
       "1                     BBC News - Home   \n",
       "2                     BBC News - Home   \n",
       "48                   BBC News - World   \n",
       "49                   BBC News - World   \n",
       "81                      BBC News - UK   \n",
       "193                 BBC News - Health   \n",
       "195                 BBC News - Health   \n",
       "214     BBC News - Family & Education   \n",
       "215     BBC News - Family & Education   \n",
       "232  BBC News - Science & Environment   \n",
       "282   BBC News - Entertainment & Arts   \n",
       "\n",
       "                                                  link          date  \\\n",
       "0    https://www.bbc.co.uk/news/world-middle-east-5...  (2020, 1, 5)   \n",
       "1      https://www.bbc.co.uk/news/uk-politics-50996630  (2020, 1, 5)   \n",
       "2         https://www.bbc.co.uk/news/business-50995116  (2020, 1, 5)   \n",
       "48   https://www.bbc.co.uk/news/world-middle-east-5...  (2020, 1, 5)   \n",
       "49   https://www.bbc.co.uk/news/world-australia-509...  (2020, 1, 5)   \n",
       "81   https://www.bbc.co.uk/news/uk-england-devon-50...  (2020, 1, 5)   \n",
       "193         https://www.bbc.co.uk/news/health-50972123  (2020, 1, 4)   \n",
       "195       https://www.bbc.co.uk/news/uk-wales-50737114  (2020, 1, 5)   \n",
       "214  https://www.bbc.co.uk/news/uk-wales-politics-5...  (2020, 1, 5)   \n",
       "215  https://www.bbc.co.uk/news/uk-scotland-glasgow...  (2020, 1, 4)   \n",
       "232  https://www.bbc.co.uk/news/world-us-canada-509...  (2020, 1, 3)   \n",
       "282  https://www.bbc.co.uk/news/entertainment-arts-...  (2020, 1, 5)   \n",
       "\n",
       "             time                       datetime  \\\n",
       "0      (9, 15, 6)  Sun, 05 Jan 2020 09:15:06 GMT   \n",
       "1    (10, 30, 15)  Sun, 05 Jan 2020 10:30:15 GMT   \n",
       "2     (10, 2, 23)  Sun, 05 Jan 2020 10:02:23 GMT   \n",
       "48    (8, 25, 15)  Sun, 05 Jan 2020 08:25:15 GMT   \n",
       "49     (7, 24, 8)  Sun, 05 Jan 2020 07:24:08 GMT   \n",
       "81     (0, 1, 15)  Sun, 05 Jan 2020 00:01:15 GMT   \n",
       "193   (0, 55, 57)  Sat, 04 Jan 2020 00:55:57 GMT   \n",
       "195   (1, 37, 36)  Sun, 05 Jan 2020 01:37:36 GMT   \n",
       "214   (1, 30, 35)  Sun, 05 Jan 2020 01:30:35 GMT   \n",
       "215  (16, 26, 36)  Sat, 04 Jan 2020 16:26:36 GMT   \n",
       "232   (21, 4, 31)  Fri, 03 Jan 2020 21:04:31 GMT   \n",
       "282   (0, 45, 27)  Sun, 05 Jan 2020 00:45:27 GMT   \n",
       "\n",
       "                                   ID  label  \n",
       "0    92b52890a83cf10f253652b35a697c9e      2  \n",
       "1    e20e8caf41be90713ac71dd95bfb9b87      1  \n",
       "2    4d0d1202cdfc4539394138a76d7100a1      1  \n",
       "48   b5f8537288db3951cc22f3cbac30d8aa      2  \n",
       "49   b8c7c52984d793c0ab9b94b75e872365      4  \n",
       "81   e93f24321fa5c27e2da2a1dce5880b2c      3  \n",
       "193  86c0f0b33e76adfe1b16a8c43fa67392      0  \n",
       "195  59e61dd3214326a7d6fa3a155f4e6468      5  \n",
       "214  0d1dd500cc332d542401d14edcd8acc5      0  \n",
       "215  4cf5cd61a4618f70f88db44fcc666b85      4  \n",
       "232  9caed0f0d47b7cfa51300920dbc2f07e      6  \n",
       "282  afd151b1b52f66d5dd9ee1fac2205bd3      3  "
      ]
     },
     "execution_count": 151,
     "metadata": {},
     "output_type": "execute_result"
    }
   ],
   "source": []
  },
  {
   "cell_type": "code",
   "execution_count": 128,
   "metadata": {},
   "outputs": [
    {
     "data": {
      "text/plain": [
       "'updated'"
      ]
     },
     "execution_count": 128,
     "metadata": {},
     "output_type": "execute_result"
    }
   ],
   "source": [
    "agg.update_aggregator(new_data)"
   ]
  },
  {
   "cell_type": "code",
   "execution_count": 133,
   "metadata": {},
   "outputs": [
    {
     "data": {
      "text/plain": [
       "array([0, 1, 2, 3, 4, 5, 6], dtype=int64)"
      ]
     },
     "execution_count": 133,
     "metadata": {},
     "output_type": "execute_result"
    }
   ],
   "source": [
    "np.unique(agg.labels)"
   ]
  },
  {
   "cell_type": "code",
   "execution_count": 252,
   "metadata": {},
   "outputs": [
    {
     "data": {
      "text/plain": [
       "'upd: obj = new_data (obj did not exist yet)'"
      ]
     },
     "execution_count": 252,
     "metadata": {},
     "output_type": "execute_result"
    }
   ],
   "source": [
    "manager.update_data_item('news', rss.df_news)"
   ]
  },
  {
   "cell_type": "code",
   "execution_count": 254,
   "metadata": {},
   "outputs": [
    {
     "data": {
      "text/html": [
       "<div>\n",
       "<style scoped>\n",
       "    .dataframe tbody tr th:only-of-type {\n",
       "        vertical-align: middle;\n",
       "    }\n",
       "\n",
       "    .dataframe tbody tr th {\n",
       "        vertical-align: top;\n",
       "    }\n",
       "\n",
       "    .dataframe thead th {\n",
       "        text-align: right;\n",
       "    }\n",
       "</style>\n",
       "<table border=\"1\" class=\"dataframe\">\n",
       "  <thead>\n",
       "    <tr style=\"text-align: right;\">\n",
       "      <th></th>\n",
       "      <th>news</th>\n",
       "      <th>category</th>\n",
       "      <th>link</th>\n",
       "      <th>date</th>\n",
       "      <th>time</th>\n",
       "      <th>datetime</th>\n",
       "      <th>ID</th>\n",
       "    </tr>\n",
       "  </thead>\n",
       "  <tbody>\n",
       "    <tr>\n",
       "      <th>0</th>\n",
       "      <td>Qasem Soleimani: PM 'will not lament' Iranian ...</td>\n",
       "      <td>BBC News - Home</td>\n",
       "      <td>https://www.bbc.co.uk/news/uk-51001236</td>\n",
       "      <td>(2020, 1, 5)</td>\n",
       "      <td>(19, 5, 52)</td>\n",
       "      <td>Sun, 05 Jan 2020 19:05:52 GMT</td>\n",
       "      <td>c6feecfbdefd901ce4b7b404f50afa9c</td>\n",
       "    </tr>\n",
       "    <tr>\n",
       "      <th>1</th>\n",
       "      <td>Iran rolls back nuclear deal commitments. Iran...</td>\n",
       "      <td>BBC News - Home</td>\n",
       "      <td>https://www.bbc.co.uk/news/world-middle-east-5...</td>\n",
       "      <td>(2020, 1, 5)</td>\n",
       "      <td>(19, 8, 1)</td>\n",
       "      <td>Sun, 05 Jan 2020 19:08:01 GMT</td>\n",
       "      <td>11ce682d0bf7650eef652a43d4fdf2da</td>\n",
       "    </tr>\n",
       "    <tr>\n",
       "      <th>2</th>\n",
       "      <td>Qasem Soleimani: Mourning begins in Iran. The ...</td>\n",
       "      <td>BBC News - Home</td>\n",
       "      <td>https://www.bbc.co.uk/news/world-middle-east-5...</td>\n",
       "      <td>(2020, 1, 5)</td>\n",
       "      <td>(8, 25, 15)</td>\n",
       "      <td>Sun, 05 Jan 2020 08:25:15 GMT</td>\n",
       "      <td>b5f8537288db3951cc22f3cbac30d8aa</td>\n",
       "    </tr>\n",
       "    <tr>\n",
       "      <th>3</th>\n",
       "      <td>Labour leadership: Contenders set out stalls o...</td>\n",
       "      <td>BBC News - Home</td>\n",
       "      <td>https://www.bbc.co.uk/news/uk-politics-50996799</td>\n",
       "      <td>(2020, 1, 5)</td>\n",
       "      <td>(15, 59, 9)</td>\n",
       "      <td>Sun, 05 Jan 2020 15:59:09 GMT</td>\n",
       "      <td>0ea3549d868732a9fd67f59f374bed69</td>\n",
       "    </tr>\n",
       "    <tr>\n",
       "      <th>4</th>\n",
       "      <td>Finsbury Park stabbing: Manhunt as killed Deli...</td>\n",
       "      <td>BBC News - Home</td>\n",
       "      <td>https://www.bbc.co.uk/news/uk-england-london-5...</td>\n",
       "      <td>(2020, 1, 5)</td>\n",
       "      <td>(15, 36, 53)</td>\n",
       "      <td>Sun, 05 Jan 2020 15:36:53 GMT</td>\n",
       "      <td>3511d139f23538e5b9fada328ccbbb3f</td>\n",
       "    </tr>\n",
       "  </tbody>\n",
       "</table>\n",
       "</div>"
      ],
      "text/plain": [
       "                                                news         category  \\\n",
       "0  Qasem Soleimani: PM 'will not lament' Iranian ...  BBC News - Home   \n",
       "1  Iran rolls back nuclear deal commitments. Iran...  BBC News - Home   \n",
       "2  Qasem Soleimani: Mourning begins in Iran. The ...  BBC News - Home   \n",
       "3  Labour leadership: Contenders set out stalls o...  BBC News - Home   \n",
       "4  Finsbury Park stabbing: Manhunt as killed Deli...  BBC News - Home   \n",
       "\n",
       "                                                link          date  \\\n",
       "0             https://www.bbc.co.uk/news/uk-51001236  (2020, 1, 5)   \n",
       "1  https://www.bbc.co.uk/news/world-middle-east-5...  (2020, 1, 5)   \n",
       "2  https://www.bbc.co.uk/news/world-middle-east-5...  (2020, 1, 5)   \n",
       "3    https://www.bbc.co.uk/news/uk-politics-50996799  (2020, 1, 5)   \n",
       "4  https://www.bbc.co.uk/news/uk-england-london-5...  (2020, 1, 5)   \n",
       "\n",
       "           time                       datetime  \\\n",
       "0   (19, 5, 52)  Sun, 05 Jan 2020 19:05:52 GMT   \n",
       "1    (19, 8, 1)  Sun, 05 Jan 2020 19:08:01 GMT   \n",
       "2   (8, 25, 15)  Sun, 05 Jan 2020 08:25:15 GMT   \n",
       "3   (15, 59, 9)  Sun, 05 Jan 2020 15:59:09 GMT   \n",
       "4  (15, 36, 53)  Sun, 05 Jan 2020 15:36:53 GMT   \n",
       "\n",
       "                                 ID  \n",
       "0  c6feecfbdefd901ce4b7b404f50afa9c  \n",
       "1  11ce682d0bf7650eef652a43d4fdf2da  \n",
       "2  b5f8537288db3951cc22f3cbac30d8aa  \n",
       "3  0ea3549d868732a9fd67f59f374bed69  \n",
       "4  3511d139f23538e5b9fada328ccbbb3f  "
      ]
     },
     "execution_count": 254,
     "metadata": {},
     "output_type": "execute_result"
    }
   ],
   "source": [
    "manager.get_data_item('news').head()"
   ]
  },
  {
   "cell_type": "code",
   "execution_count": 255,
   "metadata": {},
   "outputs": [
    {
     "data": {
      "text/plain": [
       "'saved'"
      ]
     },
     "execution_count": 255,
     "metadata": {},
     "output_type": "execute_result"
    }
   ],
   "source": [
    "manager.save_model()"
   ]
  },
  {
   "cell_type": "code",
   "execution_count": 274,
   "metadata": {},
   "outputs": [],
   "source": [
    "aggregator = Aggregator(agg_clust, knn)\n",
    "nv = News_Vectorizer(df_viewed.news.values, model=emb.model)"
   ]
  },
  {
   "cell_type": "code",
   "execution_count": 275,
   "metadata": {},
   "outputs": [
    {
     "data": {
      "text/plain": [
       "'updated'"
      ]
     },
     "execution_count": 275,
     "metadata": {},
     "output_type": "execute_result"
    }
   ],
   "source": [
    "aggregator.update_aggregator(nv.news_vectors)"
   ]
  },
  {
   "cell_type": "code",
   "execution_count": 276,
   "metadata": {},
   "outputs": [
    {
     "data": {
      "text/plain": [
       "array([2, 1, 1, 2, 4, 3, 1, 1, 1, 1, 0, 5, 1, 0, 4, 6, 0, 1, 4, 4, 0, 3,\n",
       "       0], dtype=int64)"
      ]
     },
     "execution_count": 276,
     "metadata": {},
     "output_type": "execute_result"
    }
   ],
   "source": [
    "aggregator.labels"
   ]
  },
  {
   "cell_type": "code",
   "execution_count": 277,
   "metadata": {},
   "outputs": [],
   "source": [
    "df_viewed['label'] = aggregator.labels"
   ]
  },
  {
   "cell_type": "code",
   "execution_count": 279,
   "metadata": {},
   "outputs": [
    {
     "data": {
      "text/plain": [
       "'upd: obj = new_data (obj did not exist yet)'"
      ]
     },
     "execution_count": 279,
     "metadata": {},
     "output_type": "execute_result"
    }
   ],
   "source": [
    "manager.update_data_item('viewed', df_viewed)"
   ]
  },
  {
   "cell_type": "code",
   "execution_count": 280,
   "metadata": {},
   "outputs": [
    {
     "data": {
      "text/plain": [
       "'upd: obj = new_data (not an array or DF)'"
      ]
     },
     "execution_count": 280,
     "metadata": {},
     "output_type": "execute_result"
    }
   ],
   "source": [
    "manager.update_data_item('classifier', aggregator.classifier)"
   ]
  },
  {
   "cell_type": "code",
   "execution_count": 281,
   "metadata": {},
   "outputs": [
    {
     "data": {
      "text/plain": [
       "'upd: obj = new_data (obj did not exist yet)'"
      ]
     },
     "execution_count": 281,
     "metadata": {},
     "output_type": "execute_result"
    }
   ],
   "source": [
    "manager.update_data_item('clusterizer', aggregator.clusterizer)"
   ]
  },
  {
   "cell_type": "code",
   "execution_count": 283,
   "metadata": {},
   "outputs": [
    {
     "data": {
      "text/plain": [
       "dict_keys(['news', 'classifier', 'viewed', 'clusterizer'])"
      ]
     },
     "execution_count": 283,
     "metadata": {},
     "output_type": "execute_result"
    }
   ],
   "source": [
    "manager.update_data_item('weights')"
   ]
  },
  {
   "cell_type": "code",
   "execution_count": 284,
   "metadata": {
    "scrolled": true
   },
   "outputs": [
    {
     "data": {
      "text/plain": [
       "'saved'"
      ]
     },
     "execution_count": 284,
     "metadata": {},
     "output_type": "execute_result"
    }
   ],
   "source": [
    "manager.save_model()"
   ]
  },
  {
   "cell_type": "code",
   "execution_count": 286,
   "metadata": {},
   "outputs": [
    {
     "data": {
      "text/plain": [
       "dict_keys(['news', 'viewed', 'classifier', 'clusterizer'])"
      ]
     },
     "execution_count": 286,
     "metadata": {},
     "output_type": "execute_result"
    }
   ],
   "source": [
    "manager.data_dict.keys()"
   ]
  },
  {
   "cell_type": "code",
   "execution_count": 43,
   "metadata": {},
   "outputs": [],
   "source": [
    "def from_categories(df_news, n=5):\n",
    "    return df_news.groupby('category').head(n)       "
   ]
  },
  {
   "cell_type": "code",
   "execution_count": 143,
   "metadata": {},
   "outputs": [],
   "source": [
    "def show_news(df_chosen_news):\n",
    "    for cat in df_chosen_news.category.unique():\n",
    "        print('Category: ' + cat)\n",
    "        #for news in df_chosen_news.query('category == @cat'):\n",
    "        #    print(news[['news', 'link', 'datetime']])\n",
    "        temp = df_chosen_news.query('category == @cat')[['news', 'link', 'datetime', 'ID']]\n",
    "        print(temp)"
   ]
  },
  {
   "cell_type": "code",
   "execution_count": 74,
   "metadata": {
    "collapsed": true
   },
   "outputs": [
    {
     "name": "stdout",
     "output_type": "stream",
     "text": [
      "Category: BBC News - Home\n",
      "                                                news  \\\n",
      "0  Trump says US ready to strike 52 Iranian sites...   \n",
      "1  Qasem Soleimani: Royal Navy to protect UK ship...   \n",
      "2  HS2 costs out of control, says review's deputy...   \n",
      "3  Australia bushfires: Fundraiser reaches A$20m ...   \n",
      "4  Sunken chest syndrome: 'I'm being strangled in...   \n",
      "\n",
      "                                                link  \\\n",
      "0  https://www.bbc.co.uk/news/world-middle-east-5...   \n",
      "1    https://www.bbc.co.uk/news/uk-politics-50996630   \n",
      "2       https://www.bbc.co.uk/news/business-50995116   \n",
      "3  https://www.bbc.co.uk/news/world-australia-509...   \n",
      "4  https://www.bbc.co.uk/news/uk-england-devon-50...   \n",
      "\n",
      "                        datetime  \n",
      "0  Sun, 05 Jan 2020 06:38:58 GMT  \n",
      "1  Sun, 05 Jan 2020 09:04:02 GMT  \n",
      "2  Sun, 05 Jan 2020 00:42:42 GMT  \n",
      "3  Sun, 05 Jan 2020 07:24:08 GMT  \n",
      "4  Sun, 05 Jan 2020 00:01:15 GMT  \n",
      "Category: BBC News - World\n",
      "                                                 news  \\\n",
      "47  Trump says US ready to strike 52 Iranian sites...   \n",
      "48  Qasem Soleimani: Mourning begins in Iran. The ...   \n",
      "49  Australia bushfires: Fundraiser reaches A$20m ...   \n",
      "50  Golden Globe Awards: What you need to know. A ...   \n",
      "51  'Coming towards us like a monster': High winds...   \n",
      "\n",
      "                                                 link  \\\n",
      "47  https://www.bbc.co.uk/news/world-middle-east-5...   \n",
      "48  https://www.bbc.co.uk/news/world-middle-east-5...   \n",
      "49  https://www.bbc.co.uk/news/world-australia-509...   \n",
      "50  https://www.bbc.co.uk/news/entertainment-arts-...   \n",
      "51  https://www.bbc.co.uk/news/world-australia-509...   \n",
      "\n",
      "                         datetime  \n",
      "47  Sun, 05 Jan 2020 06:38:58 GMT  \n",
      "48  Sun, 05 Jan 2020 08:25:15 GMT  \n",
      "49  Sun, 05 Jan 2020 07:24:08 GMT  \n",
      "50  Sun, 05 Jan 2020 00:46:35 GMT  \n",
      "51  Sat, 04 Jan 2020 10:23:10 GMT  \n",
      "Category: BBC News - UK\n",
      "                                                 news  \\\n",
      "79  Qasem Soleimani: Royal Navy to protect UK ship...   \n",
      "80  HS2 costs out of control, says review's deputy...   \n",
      "81  Sunken chest syndrome: 'I'm being strangled in...   \n",
      "82  Labour leadership: MPs begin to make their pit...   \n",
      "83  Australia fires: Royal Family sends 'thoughts ...   \n",
      "\n",
      "                                                 link  \\\n",
      "79    https://www.bbc.co.uk/news/uk-politics-50996630   \n",
      "80       https://www.bbc.co.uk/news/business-50995116   \n",
      "81  https://www.bbc.co.uk/news/uk-england-devon-50...   \n",
      "82    https://www.bbc.co.uk/news/uk-politics-50996799   \n",
      "83             https://www.bbc.co.uk/news/uk-50996284   \n",
      "\n",
      "                         datetime  \n",
      "79  Sun, 05 Jan 2020 09:04:02 GMT  \n",
      "80  Sun, 05 Jan 2020 00:42:42 GMT  \n",
      "81  Sun, 05 Jan 2020 00:01:15 GMT  \n",
      "82  Sun, 05 Jan 2020 05:43:01 GMT  \n",
      "83  Sat, 04 Jan 2020 21:07:50 GMT  \n",
      "Category: BBC News - Business\n",
      "                                                  news  \\\n",
      "109  HS2 costs out of control, says review's deputy...   \n",
      "110  CES chief defends invite for Ivanka Trump. Tec...   \n",
      "111  What will happen to oil if there is another wa...   \n",
      "112  Saturday jobs dying as teen employment halves,...   \n",
      "113  Oil prices jump after top Iranian general kill...   \n",
      "\n",
      "                                               link  \\\n",
      "109    https://www.bbc.co.uk/news/business-50995116   \n",
      "110  https://www.bbc.co.uk/news/technology-50988743   \n",
      "111    https://www.bbc.co.uk/news/business-50981538   \n",
      "112    https://www.bbc.co.uk/news/business-50985407   \n",
      "113    https://www.bbc.co.uk/news/business-50982313   \n",
      "\n",
      "                          datetime  \n",
      "109  Sun, 05 Jan 2020 00:42:42 GMT  \n",
      "110  Sun, 05 Jan 2020 01:08:03 GMT  \n",
      "111  Fri, 03 Jan 2020 22:01:03 GMT  \n",
      "112  Sat, 04 Jan 2020 04:22:12 GMT  \n",
      "113  Fri, 03 Jan 2020 21:28:39 GMT  \n",
      "Category: BBC News - UK Politics\n",
      "                                                  news  \\\n",
      "149  Labour leadership: MPs begin to make their pit...   \n",
      "150  Labour leadership: Sir Keir Starmer enters rac...   \n",
      "151  Qasem Soleimani: Royal Navy to protect UK ship...   \n",
      "152  HS2 costs out of control, says review's deputy...   \n",
      "153  Qasem Soleimani: Foreign Office hardens Iran a...   \n",
      "\n",
      "                                                link  \\\n",
      "149  https://www.bbc.co.uk/news/uk-politics-50996799   \n",
      "150  https://www.bbc.co.uk/news/uk-politics-50995782   \n",
      "151  https://www.bbc.co.uk/news/uk-politics-50996630   \n",
      "152     https://www.bbc.co.uk/news/business-50995116   \n",
      "153  https://www.bbc.co.uk/news/uk-politics-50991778   \n",
      "\n",
      "                          datetime  \n",
      "149  Sun, 05 Jan 2020 05:43:01 GMT  \n",
      "150  Sat, 04 Jan 2020 21:02:53 GMT  \n",
      "151  Sun, 05 Jan 2020 09:04:02 GMT  \n",
      "152  Sun, 05 Jan 2020 00:42:42 GMT  \n",
      "153  Sat, 04 Jan 2020 20:28:04 GMT  \n",
      "Category: BBC News - Health\n",
      "                                                  news  \\\n",
      "193  'Outdated' IT leaves NHS staff with 15 differe...   \n",
      "194  Sunken chest syndrome: 'I'm being strangled in...   \n",
      "195  Testicular cancer: 'Kinder' chemotherapy is 'j...   \n",
      "196  Fentanyl deaths on rise in UK, drug report war...   \n",
      "197  Call to give hospital appointment no-shows sec...   \n",
      "\n",
      "                                                  link  \\\n",
      "193         https://www.bbc.co.uk/news/health-50972123   \n",
      "194  https://www.bbc.co.uk/news/uk-england-devon-50...   \n",
      "195         https://www.bbc.co.uk/news/health-50972799   \n",
      "196             https://www.bbc.co.uk/news/uk-50989633   \n",
      "197       https://www.bbc.co.uk/news/uk-wales-49263455   \n",
      "\n",
      "                          datetime  \n",
      "193  Sat, 04 Jan 2020 00:55:57 GMT  \n",
      "194  Sun, 05 Jan 2020 00:01:15 GMT  \n",
      "195  Fri, 03 Jan 2020 03:51:39 GMT  \n",
      "196  Sat, 04 Jan 2020 01:22:18 GMT  \n",
      "197  Sat, 04 Jan 2020 01:35:46 GMT  \n",
      "Category: BBC News - Family & Education\n",
      "                                                  news  \\\n",
      "212  Saturday jobs dying as teen employment halves,...   \n",
      "213  Violinist Nicola Benedetti launches music work...   \n",
      "214  Warning over 'fake' apprenticeship courses. Ap...   \n",
      "215  Hillary Clinton chancellor of  Queen's Univers...   \n",
      "216  Exclusions for racism in primary schools in En...   \n",
      "\n",
      "                                                  link  \\\n",
      "212       https://www.bbc.co.uk/news/business-50985407   \n",
      "213  https://www.bbc.co.uk/news/uk-scotland-glasgow...   \n",
      "214      https://www.bbc.co.uk/news/education-50973579   \n",
      "215  https://www.bbc.co.uk/news/uk-northern-ireland...   \n",
      "216      https://www.bbc.co.uk/news/education-50331687   \n",
      "\n",
      "                          datetime  \n",
      "212  Sat, 04 Jan 2020 04:22:12 GMT  \n",
      "213  Sat, 04 Jan 2020 16:26:36 GMT  \n",
      "214  Fri, 03 Jan 2020 13:19:50 GMT  \n",
      "215  Thu, 02 Jan 2020 08:45:40 GMT  \n",
      "216  Wed, 01 Jan 2020 11:08:18 GMT  \n",
      "Category: BBC News - Science & Environment\n",
      "                                                  news  \\\n",
      "231  Nobel Prize-winning scientist Frances Arnold r...   \n",
      "232  Climate change: Last decade UK's 'second hotte...   \n",
      "233  Climate change hope for hydrogen fuel. A trial...   \n",
      "234  Tackling the Earth's orbiting space junk. How ...   \n",
      "235  Palau is first country to ban 'reef toxic' sun...   \n",
      "\n",
      "                                                  link  \\\n",
      "231  https://www.bbc.co.uk/news/world-us-canada-509...   \n",
      "232  https://www.bbc.co.uk/news/science-environment...   \n",
      "233  https://www.bbc.co.uk/news/science-environment...   \n",
      "234       https://www.bbc.co.uk/news/business-50976292   \n",
      "235     https://www.bbc.co.uk/news/world-asia-50963080   \n",
      "\n",
      "                          datetime  \n",
      "231  Fri, 03 Jan 2020 21:04:31 GMT  \n",
      "232  Fri, 03 Jan 2020 09:42:45 GMT  \n",
      "233  Thu, 02 Jan 2020 00:02:26 GMT  \n",
      "234  Fri, 03 Jan 2020 00:11:51 GMT  \n",
      "235  Wed, 01 Jan 2020 05:23:13 GMT  \n",
      "Category: BBC News - Technology\n",
      "                                                  news  \\\n",
      "257  CES chief defends invite for Ivanka Trump. Tec...   \n",
      "258  CES 2020: Preview of tomorrow's tech on show i...   \n",
      "259  Mirriad's AI slips ads into empty spaces in on...   \n",
      "260  'Outdated' IT leaves NHS staff with 15 differe...   \n",
      "261  GirlsDoPorn: Young women win legal battle over...   \n",
      "\n",
      "                                               link  \\\n",
      "257  https://www.bbc.co.uk/news/technology-50988743   \n",
      "258  https://www.bbc.co.uk/news/technology-50952021   \n",
      "259  https://www.bbc.co.uk/news/technology-50988757   \n",
      "260      https://www.bbc.co.uk/news/health-50972123   \n",
      "261  https://www.bbc.co.uk/news/technology-50982051   \n",
      "\n",
      "                          datetime  \n",
      "257  Sun, 05 Jan 2020 01:08:03 GMT  \n",
      "258  Sat, 04 Jan 2020 00:05:08 GMT  \n",
      "259  Sat, 04 Jan 2020 00:03:48 GMT  \n",
      "260  Sat, 04 Jan 2020 00:55:57 GMT  \n",
      "261  Fri, 03 Jan 2020 13:16:20 GMT  \n",
      "Category: BBC News - Entertainment & Arts\n",
      "                                                  news  \\\n",
      "280  Golden Globe Awards: What you need to know. A ...   \n",
      "281  BBC Sound of 2020: Bono's son and his band Inh...   \n",
      "282  Fashion lookahead: Seven major looks for 2020....   \n",
      "283  Derek Acorah, TV medium, dies aged 69. Acorah ...   \n",
      "284  Sir Rod Stewart charged over Florida hotel 'pu...   \n",
      "\n",
      "                                                  link  \\\n",
      "280  https://www.bbc.co.uk/news/entertainment-arts-...   \n",
      "281  https://www.bbc.co.uk/news/entertainment-arts-...   \n",
      "282  https://www.bbc.co.uk/news/entertainment-arts-...   \n",
      "283  https://www.bbc.co.uk/news/entertainment-arts-...   \n",
      "284             https://www.bbc.co.uk/news/uk-50993128   \n",
      "\n",
      "                          datetime  \n",
      "280  Sun, 05 Jan 2020 00:46:35 GMT  \n",
      "281  Sun, 05 Jan 2020 00:45:27 GMT  \n",
      "282  Sat, 04 Jan 2020 01:12:39 GMT  \n",
      "283  Sat, 04 Jan 2020 16:08:27 GMT  \n",
      "284  Sat, 04 Jan 2020 12:19:57 GMT  \n"
     ]
    }
   ],
   "source": [
    "show_news(from_categories(rss.df_news))"
   ]
  },
  {
   "cell_type": "code",
   "execution_count": 156,
   "metadata": {},
   "outputs": [],
   "source": [
    "def append_viewed_news(news_id, category, df_news, df_viewed):\n",
    "    if news_id not in df_viewed.ID.values:\n",
    "        df_viewed = pd.concat([df_viewed, df_news.query('ID == @news_id and category == @category')])\n",
    "    return df_viewed"
   ]
  },
  {
   "cell_type": "code",
   "execution_count": 207,
   "metadata": {},
   "outputs": [],
   "source": [
    "def subset_not_viewed(df_news, df_viewed):\n",
    "    df_news = df_news.query('ID not in @df_viewed.ID.values')\n",
    "    return df_news"
   ]
  },
  {
   "cell_type": "code",
   "execution_count": null,
   "metadata": {},
   "outputs": [],
   "source": []
  },
  {
   "cell_type": "code",
   "execution_count": 167,
   "metadata": {
    "scrolled": true
   },
   "outputs": [],
   "source": [
    "sample = from_categories(rss.df_news, 3)[['ID', 'category']]\n",
    "df_viewed = pd.DataFrame(columns=rss.df_news.columns)"
   ]
  },
  {
   "cell_type": "code",
   "execution_count": 172,
   "metadata": {},
   "outputs": [
    {
     "data": {
      "text/plain": [
       "23"
      ]
     },
     "execution_count": 172,
     "metadata": {},
     "output_type": "execute_result"
    }
   ],
   "source": [
    "sample.ID.nunique()"
   ]
  },
  {
   "cell_type": "code",
   "execution_count": 173,
   "metadata": {},
   "outputs": [],
   "source": [
    "emb = Embeddings()"
   ]
  },
  {
   "cell_type": "code",
   "execution_count": 177,
   "metadata": {},
   "outputs": [],
   "source": [
    "agg_clust = AgglomerativeClustering(n_clusters=7, affinity='cosine', linkage='complete')"
   ]
  },
  {
   "cell_type": "code",
   "execution_count": 178,
   "metadata": {},
   "outputs": [],
   "source": [
    "knn = KNeighborsClassifier(n_neighbors=3, weights='distance', metric='cosine')"
   ]
  },
  {
   "cell_type": "code",
   "execution_count": 182,
   "metadata": {},
   "outputs": [],
   "source": [
    "aggregator = Aggregator(clusterizer=agg_clust, classifier=knn)"
   ]
  },
  {
   "cell_type": "code",
   "execution_count": 183,
   "metadata": {},
   "outputs": [],
   "source": [
    "nv = News_Vectorizer(df_viewed.news.values, emb.model)"
   ]
  },
  {
   "cell_type": "code",
   "execution_count": 184,
   "metadata": {},
   "outputs": [
    {
     "data": {
      "text/plain": [
       "'updated'"
      ]
     },
     "execution_count": 184,
     "metadata": {},
     "output_type": "execute_result"
    }
   ],
   "source": [
    "aggregator.update_aggregator(nv.news_vectors)"
   ]
  },
  {
   "cell_type": "code",
   "execution_count": 192,
   "metadata": {},
   "outputs": [],
   "source": [
    "news_to_class = [nv.sent2vec(i) for i in rss.df_news.groupby('category').head(10).iloc[7:9,:].news.values]"
   ]
  },
  {
   "cell_type": "code",
   "execution_count": 193,
   "metadata": {},
   "outputs": [
    {
     "data": {
      "text/plain": [
       "array([4, 3], dtype=int64)"
      ]
     },
     "execution_count": 193,
     "metadata": {},
     "output_type": "execute_result"
    }
   ],
   "source": [
    "aggregator.classify(news_to_class)"
   ]
  },
  {
   "cell_type": "code",
   "execution_count": 196,
   "metadata": {},
   "outputs": [
    {
     "data": {
      "text/plain": [
       "(23, 300)"
      ]
     },
     "execution_count": 196,
     "metadata": {},
     "output_type": "execute_result"
    }
   ],
   "source": [
    "aggregator.labeled_data.shape"
   ]
  },
  {
   "cell_type": "code",
   "execution_count": 158,
   "metadata": {},
   "outputs": [
    {
     "data": {
      "text/html": [
       "<div>\n",
       "<style scoped>\n",
       "    .dataframe tbody tr th:only-of-type {\n",
       "        vertical-align: middle;\n",
       "    }\n",
       "\n",
       "    .dataframe tbody tr th {\n",
       "        vertical-align: top;\n",
       "    }\n",
       "\n",
       "    .dataframe thead th {\n",
       "        text-align: right;\n",
       "    }\n",
       "</style>\n",
       "<table border=\"1\" class=\"dataframe\">\n",
       "  <thead>\n",
       "    <tr style=\"text-align: right;\">\n",
       "      <th></th>\n",
       "      <th>news</th>\n",
       "      <th>category</th>\n",
       "      <th>link</th>\n",
       "      <th>date</th>\n",
       "      <th>time</th>\n",
       "      <th>datetime</th>\n",
       "      <th>ID</th>\n",
       "    </tr>\n",
       "  </thead>\n",
       "  <tbody>\n",
       "    <tr>\n",
       "      <th>0</th>\n",
       "      <td>Soleimani assassination: Mourners flood the st...</td>\n",
       "      <td>BBC News - Home</td>\n",
       "      <td>https://www.bbc.co.uk/news/world-middle-east-5...</td>\n",
       "      <td>(2020, 1, 5)</td>\n",
       "      <td>(9, 15, 6)</td>\n",
       "      <td>Sun, 05 Jan 2020 09:15:06 GMT</td>\n",
       "      <td>92b52890a83cf10f253652b35a697c9e</td>\n",
       "    </tr>\n",
       "    <tr>\n",
       "      <th>47</th>\n",
       "      <td>Soleimani assassination: Mourners flood the st...</td>\n",
       "      <td>BBC News - World</td>\n",
       "      <td>https://www.bbc.co.uk/news/world-middle-east-5...</td>\n",
       "      <td>(2020, 1, 5)</td>\n",
       "      <td>(9, 15, 6)</td>\n",
       "      <td>Sun, 05 Jan 2020 09:15:06 GMT</td>\n",
       "      <td>92b52890a83cf10f253652b35a697c9e</td>\n",
       "    </tr>\n",
       "  </tbody>\n",
       "</table>\n",
       "</div>"
      ],
      "text/plain": [
       "                                                 news          category  \\\n",
       "0   Soleimani assassination: Mourners flood the st...   BBC News - Home   \n",
       "47  Soleimani assassination: Mourners flood the st...  BBC News - World   \n",
       "\n",
       "                                                 link          date  \\\n",
       "0   https://www.bbc.co.uk/news/world-middle-east-5...  (2020, 1, 5)   \n",
       "47  https://www.bbc.co.uk/news/world-middle-east-5...  (2020, 1, 5)   \n",
       "\n",
       "          time                       datetime  \\\n",
       "0   (9, 15, 6)  Sun, 05 Jan 2020 09:15:06 GMT   \n",
       "47  (9, 15, 6)  Sun, 05 Jan 2020 09:15:06 GMT   \n",
       "\n",
       "                                  ID  \n",
       "0   92b52890a83cf10f253652b35a697c9e  \n",
       "47  92b52890a83cf10f253652b35a697c9e  "
      ]
     },
     "execution_count": 158,
     "metadata": {},
     "output_type": "execute_result"
    }
   ],
   "source": [
    "rss.df_news.query('ID == @nid')"
   ]
  },
  {
   "cell_type": "code",
   "execution_count": 160,
   "metadata": {},
   "outputs": [],
   "source": [
    "df_viewed = append_viewed_news(nid, 'BBC News - World', rss.df_news, df_viewed)"
   ]
  },
  {
   "cell_type": "code",
   "execution_count": 33,
   "metadata": {
    "scrolled": true
   },
   "outputs": [],
   "source": [
    "from sklearn.datasets import load_iris\n",
    "from sklearn.model_selection import train_test_split\n",
    "iris = load_iris()"
   ]
  },
  {
   "cell_type": "code",
   "execution_count": 171,
   "metadata": {},
   "outputs": [],
   "source": [
    "sent = nv.sent2vec('Fresh Cambridge Analytica leak shows global manipulation is out of control. Company’s work in 68 countries laid bare with release of more than 100,000 documents')"
   ]
  }
 ],
 "metadata": {
  "kernelspec": {
   "display_name": "Python 3",
   "language": "python",
   "name": "python3"
  },
  "language_info": {
   "codemirror_mode": {
    "name": "ipython",
    "version": 3
   },
   "file_extension": ".py",
   "mimetype": "text/x-python",
   "name": "python",
   "nbconvert_exporter": "python",
   "pygments_lexer": "ipython3",
   "version": "3.6.4"
  }
 },
 "nbformat": 4,
 "nbformat_minor": 2
}
