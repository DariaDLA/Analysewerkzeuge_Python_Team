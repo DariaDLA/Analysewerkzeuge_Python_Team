{
 "cells": [
  {
   "cell_type": "code",
   "execution_count": 1,
   "metadata": {},
   "outputs": [],
   "source": [
    "import feedparser\n",
    "import pandas as pd\n",
    "import gensim\n",
    "from gensim.models import Word2Vec\n",
    "import nltk\n",
    "import numpy as np\n",
    "from nltk.corpus import stopwords\n",
    "from nltk import word_tokenize\n",
    "from scipy.spatial.distance import cosine, cityblock, jaccard, canberra, euclidean, minkowski, braycurtis\n",
    "stop_words = stopwords.words('english')\n",
    "from pyemd import emd\n",
    "from scipy.cluster.hierarchy import fclusterdata\n",
    "from sklearn.cluster import DBSCAN, AffinityPropagation, AgglomerativeClustering\n",
    "from sklearn.neighbors import KNeighborsClassifier, RadiusNeighborsClassifier\n",
    "import pickle\n",
    "import time\n",
    "import hashlib\n",
    "\n",
    "#from itertools import combinations\n",
    "#from tqdm import tqdm_notebook\n",
    "#from scipy.stats import skew, kurtosis\n",
    "#from sklearn.preprocessing import StandardScaler\n",
    "#from sklearn.decomposition import PCA"
   ]
  },
  {
   "cell_type": "code",
   "execution_count": 2,
   "metadata": {},
   "outputs": [],
   "source": [
    "bbc_rss = ['http://feeds.bbci.co.uk/news/rss.xml', \n",
    "           'http://feeds.bbci.co.uk/news/world/rss.xml', \n",
    "           'http://feeds.bbci.co.uk/news/uk/rss.xml', \n",
    "           'http://feeds.bbci.co.uk/news/business/rss.xml', \n",
    "           'http://feeds.bbci.co.uk/news/politics/rss.xml', \n",
    "           'http://feeds.bbci.co.uk/news/health/rss.xml', \n",
    "           'http://feeds.bbci.co.uk/news/education/rss.xml', \n",
    "           'http://feeds.bbci.co.uk/news/science_and_environment/rss.xml', \n",
    "           'http://feeds.bbci.co.uk/news/technology/rss.xml', \n",
    "           'http://feeds.bbci.co.uk/news/entertainment_and_arts/rss.xml']"
   ]
  },
  {
   "cell_type": "code",
   "execution_count": 3,
   "metadata": {},
   "outputs": [],
   "source": [
    "class Embeddings:\n",
    "    \n",
    "    def __init__(self, create=False, ser_model_path='W2VModel',\n",
    "                 embeddings='GoogleNews-vectors-negative300.bin.gz',\n",
    "                 model_fun=gensim.models.KeyedVectors.load_word2vec_format, binary=True, norm=True):\n",
    "        self.ser_model = ser_model_path\n",
    "        self.embeddings = embeddings\n",
    "        self.model_fun = model_fun\n",
    "        self.binary = binary\n",
    "        self.norm = norm\n",
    "        \n",
    "        if create == False:\n",
    "            self.model = self.load_model()\n",
    "        else:\n",
    "            self.model = self.create_model()\n",
    "        \n",
    "            \n",
    "    def create_model(self):\n",
    "        model = self.model_fun(self.embeddings, binary=self.binary)\n",
    "        if self.norm:\n",
    "            model.init_sims(replace=True)\n",
    "        return model\n",
    "            \n",
    "    def load_model(self):\n",
    "        with open(self.ser_model, 'rb') as file:\n",
    "            model = pickle.load(file)\n",
    "        return model"
   ]
  },
  {
   "cell_type": "code",
   "execution_count": 4,
   "metadata": {},
   "outputs": [],
   "source": [
    "#TODO: call news_vectors(news), no action in init\n",
    "class News_Vectorizer:\n",
    "    \n",
    "    def __init__(self, news, model):\n",
    "        self.news = news #array of strings\n",
    "        self.model = model #Word2Vec model\n",
    "        self.news_vectors = self.news2vec() #vector representations\n",
    "        self.cos_dist = None #cosine distance matrix\n",
    "        self.wm_dist = None #wmd-matrix\n",
    "    \n",
    "    def wmd(self, q1, q2):\n",
    "        q1 = str(q1).lower().split()\n",
    "        q2 = str(q2).lower().split()\n",
    "        q1 = [w for w in q1 if w not in stop_words]\n",
    "        q2 = [w for w in q2 if w not in stop_words]\n",
    "        return self.model.wmdistance(q1, q2)\n",
    "    \n",
    "    def sent2vec(self, s):\n",
    "        words = str(s).lower()\n",
    "        words = word_tokenize(words)\n",
    "        words = [w for w in words if not w in stop_words]\n",
    "        words = [w for w in words if w.isalpha()]\n",
    "        M = []\n",
    "        for w in words:\n",
    "            try:\n",
    "                M.append(self.model[w])\n",
    "            except:\n",
    "                continue\n",
    "        M = np.array(M)\n",
    "        v = M.sum(axis=0)\n",
    "        # reshape?\n",
    "        return v / np.sqrt((v ** 2).sum())\n",
    "    \n",
    "    def news2vec(self):\n",
    "        return np.array([self.sent2vec(text) for text in self.news])\n",
    "    \n",
    "    #TODO: triangle matrix -> optimize\n",
    "    def cosine_matrix(self): \n",
    "        cdist = np.zeros((len(self.news_vectors), len(self.news_vectors)))\n",
    "        for n, i in enumerate(self.news_vectors):\n",
    "            for m, j in enumerate(self.news_vectors):\n",
    "                cdist[n, m] = cosine(i, j)\n",
    "        self.cos_dist = cdist\n",
    "        return cdist\n",
    "    \n",
    "    def wmd_matrix(self): #list (news)\n",
    "        wmdist = np.zeros((len(self.news), len(self.news)))\n",
    "        for n, i in enumerate(self.news):\n",
    "            for m, j in enumerate(self.news):\n",
    "                wmdist[n, m] = self.wmd(i, j)\n",
    "        self.wm_dist = wmdist\n",
    "        return wmdist"
   ]
  },
  {
   "cell_type": "code",
   "execution_count": 132,
   "metadata": {},
   "outputs": [],
   "source": [
    "class RSS_Feeds:\n",
    "    \n",
    "    def __init__(self, urls):\n",
    "        self.urls = urls\n",
    "        self.feeds = self.get_feeds()\n",
    "        self.df_news = self.create_df()\n",
    "        self.df_unique_news = self.df_unique()\n",
    "        \n",
    "    def get_feeds(self):\n",
    "        return [feedparser.parse(feed) for feed in self.urls]\n",
    "    \n",
    "    def get_category(self, feed):\n",
    "        # sources may have different category names - agg categories?\n",
    "        return feed.feed['title']\n",
    "    \n",
    "    #TODO: return (title, summary) - for user representation\n",
    "    def get_title_summary(self, feed, sep='. '): #get and join title and summary for each entry in feed\n",
    "        return([entry['title'] + sep + entry['summary'] for entry in feed['entries']])\n",
    "    \n",
    "    def get_date(self, feed): #(year, month, day) for each entry in feed\n",
    "        return([entry['published_parsed'][:3] for entry in feed['entries']])\n",
    "    \n",
    "    def get_time(self, feed): #(hour, min, sec) for each entry in feed\n",
    "        return([entry['published_parsed'][3:6] for entry in feed['entries']])\n",
    "    \n",
    "    def get_datetime_nparsed(self, feed): #not parsed date and time for each entry in feed\n",
    "        return([entry['published'] for entry in feed['entries']])\n",
    "    \n",
    "    def get_link(self, feed): # link for each entry in feed\n",
    "        return([entry['link'] for entry in feed['entries']])\n",
    "    \n",
    "    def str2hash(self, s):\n",
    "        return hashlib.md5(s.encode()).hexdigest()\n",
    "    \n",
    "    def create_df(self): \n",
    "        news, category, pdate, ptime, fdatetime, links  = [], [], [], [], [], []\n",
    "        for feed in self.feeds:\n",
    "            cat = self.get_category(feed)\n",
    "            texts = self.get_title_summary(feed)\n",
    "            d_ymd, t_hms = self.get_date(feed), self.get_time(feed)\n",
    "            fdt = self.get_datetime_nparsed(feed)\n",
    "            news_links = self.get_link(feed)\n",
    "            \n",
    "            cat = np.resize([cat], len(texts))\n",
    "            news.extend(texts)\n",
    "            pdate.extend(d_ymd)\n",
    "            ptime.extend(t_hms)\n",
    "            fdatetime.extend(fdt)\n",
    "            links.extend(news_links)\n",
    "            category.extend(cat)\n",
    "        df_news = pd.DataFrame({'news':news, \n",
    "                                'category':category, \n",
    "                                'link':links,\n",
    "                                'date':pdate, \n",
    "                                'time':ptime, \n",
    "                                'datetime':fdatetime})\n",
    "        df_news['ID'] = df_news.news.apply(self.str2hash)\n",
    "        self.df_news = df_news\n",
    "        return df_news\n",
    "    \n",
    "    def df_unique(self):\n",
    "        df_unique_news = self.df_news.groupby('news').agg({'category':list})\n",
    "        df_unique_news.reset_index(inplace=True)\n",
    "        self.df_unique_news = df_unique_news\n",
    "        return df_unique_news\n",
    "    \n",
    "    def get_unique_news(self):\n",
    "        return self.df_unique_news.news.values"
   ]
  },
  {
   "cell_type": "code",
   "execution_count": 299,
   "metadata": {},
   "outputs": [],
   "source": [
    "#TODO: Weights!\n",
    "class Aggregator:\n",
    "    \n",
    "    def __init__(self, clusterizer, classifier, labeled_data=None, labels=None, clust_weights=None):\n",
    "        self.clusterizer = clusterizer\n",
    "        self.classifier = classifier\n",
    "        self.labeled_data = labeled_data #clustered\n",
    "        self.labels = labels #clust nums of labeled_data\n",
    "        self.clust_weights = clust_weights # [[label, weight],...]\n",
    "        \n",
    "    def clusterize(self, data):\n",
    "        labels = self.clusterizer.fit_predict(data)\n",
    "        return data, labels\n",
    "    \n",
    "    def classify(self, new_data): #if one sample: reshape to (1, 300)\n",
    "        try:\n",
    "            predicted = self.classifier.predict(new_data)\n",
    "        except NotFittedError as e:\n",
    "            return(repr(e))\n",
    "        return predicted\n",
    "    \n",
    "    def fit_classifier(self):\n",
    "        X, y = self.labeled_data, self.labels\n",
    "        self.classifier.fit(X, y)\n",
    "        return self.classifier\n",
    "    \n",
    "    def prep_data(self, new_data=None):\n",
    "        if self.labeled_data is None and new_data is None:\n",
    "            return None\n",
    "        else:\n",
    "            try:\n",
    "                ldata = pd.DataFrame(self.labeled_data)\n",
    "            except:\n",
    "                ldata = None\n",
    "            try:\n",
    "                ndata = pd.DataFrame(new_data)\n",
    "            except:\n",
    "                ndata=None\n",
    "            try:\n",
    "                data = pd.concat([ldata, ndata]).values\n",
    "                return data\n",
    "            except:\n",
    "                return None\n",
    "    \n",
    "    def update_weights(self):\n",
    "        unique, counts = np.unique(self.labels, return_counts=True)\n",
    "        weights = counts/counts.sum() #smth like this\n",
    "        weights = np.asarray((unique, weights)).T # [label, weight]\n",
    "        self.clust_weights = pd.DataFrame({'clust': weights[:,0].astype(int), 'weight': weights[:,1]})\n",
    "        return self.clust_weights\n",
    "    \n",
    "    def update_aggregator(self, new_data):\n",
    "        data = self.prep_data(new_data=new_data)\n",
    "        if data is None:\n",
    "            return 'no data'\n",
    "        else:\n",
    "            self.labeled_data, self.labels = self.clusterize(data)    \n",
    "            self.fit_classifier()\n",
    "            self.update_weights()\n",
    "            return 'updated'\n",
    "        "
   ]
  },
  {
   "cell_type": "code",
   "execution_count": 7,
   "metadata": {},
   "outputs": [],
   "source": [
    "class News_Finder:\n",
    "    \n",
    "    def __init__(self, df_news):\n",
    "        self.df_news = df_news\n",
    "    \n",
    "    def from_categories(self, n=5):\n",
    "        # returns n top news from each category\n",
    "        return self.df_news.groupby('category').head(n) \n",
    "    \n",
    "    def similar(self, news_item, n=5):\n",
    "        # returns the n most similar news to news_item\n",
    "        pass\n",
    "    \n",
    "    def preferred(self, clust_weights, n=20):\n",
    "        # returns n news based on user preferencies\n",
    "        pass"
   ]
  },
  {
   "cell_type": "code",
   "execution_count": 259,
   "metadata": {},
   "outputs": [],
   "source": [
    "#TODO: delete, (prepare?)\n",
    "class Data_Manager:\n",
    "    \n",
    "    def __init__(self, path_dict=None): #path_dict {'csv':{obj:path}, 'serialized':{obj:path}}\n",
    "        self.path_dict = path_dict\n",
    "        if self.path_dict is not None:\n",
    "            self.data_dict = self.load_data()\n",
    "        else:\n",
    "            self.data_dict = {}\n",
    "        \n",
    "    def load_data(self):\n",
    "        data_dict = {}\n",
    "        try:\n",
    "            for obj_name, path in self.path_dict['csv'].items():\n",
    "                data_dict[obj_name] = pd.read_csv(path, index_col=0)\n",
    "        except:\n",
    "            print('something is not ok with \"csv\" key or it does not exist')\n",
    "        try:\n",
    "            for obj_name, path in self.path_dict['serialized'].items():\n",
    "                with open(path, 'rb') as file:\n",
    "                    data_dict[obj_name] = pickle.load(file)\n",
    "        except:\n",
    "            print('something is not ok with \"serialized\" key or it does not exist')\n",
    "        return data_dict\n",
    "    \n",
    "    def delete_old(self, n_recent):\n",
    "        #del old data, except n_recent\n",
    "        pass\n",
    "    def prep_data(self):\n",
    "        #maybe some data manipulations\n",
    "        pass\n",
    "    \n",
    "    def get_data_item(self, obj_name):\n",
    "        return self.data_dict.get(obj_name, 'Does not exist')\n",
    "    \n",
    "    def update_data_item(self, obj_name, new_data):\n",
    "        data = self.get_data_item(obj_name)\n",
    "        if data != 'Does not exist':\n",
    "            if type(data) == pd.core.frame.DataFrame:\n",
    "                try:\n",
    "                    data = pd.concat([data, new_data])\n",
    "                    self.data_dict[obj_name] = data\n",
    "                    return 'updated'\n",
    "                except:\n",
    "                    return 'could not update'\n",
    "            elif type(data) == np.ndarray:\n",
    "                try:\n",
    "                    data = np.vstack([data, new_data])\n",
    "                    self.data_dict[obj_name] = data\n",
    "                    return 'updated'\n",
    "                except:\n",
    "                    return 'could not update'\n",
    "            else:\n",
    "                self.data_dict[obj_name] = new_data\n",
    "                return 'upd: obj = new_data (not an array or DF)'\n",
    "        else:\n",
    "            self.data_dict[obj_name] = new_data\n",
    "            return 'upd: obj = new_data (obj did not exist yet)'\n",
    "    \n",
    "    def save_model(self, data_items='all'): #data_items: 'all' or list of keys for data_dict\n",
    "        if data_items == 'all':\n",
    "            data_items = self.data_dict.keys()\n",
    "        for obj_name in data_items:\n",
    "            data = self.data_dict[obj_name]\n",
    "            if type(data) == pd.core.frame.DataFrame:\n",
    "                data.to_csv(obj_name + '.csv')\n",
    "            elif type(data) == np.ndarray:\n",
    "                # are there any ndarrays?..\n",
    "                # write csv...\n",
    "                pass\n",
    "            else:\n",
    "                with open(obj_name, 'wb') as file:\n",
    "                    pickle.dump(data, file)\n",
    "        return 'saved'"
   ]
  },
  {
   "cell_type": "code",
   "execution_count": 247,
   "metadata": {},
   "outputs": [],
   "source": [
    "rss = RSS_Feeds(bbc_rss)"
   ]
  },
  {
   "cell_type": "code",
   "execution_count": 249,
   "metadata": {
    "scrolled": true
   },
   "outputs": [
    {
     "data": {
      "text/html": [
       "<div>\n",
       "<style scoped>\n",
       "    .dataframe tbody tr th:only-of-type {\n",
       "        vertical-align: middle;\n",
       "    }\n",
       "\n",
       "    .dataframe tbody tr th {\n",
       "        vertical-align: top;\n",
       "    }\n",
       "\n",
       "    .dataframe thead th {\n",
       "        text-align: right;\n",
       "    }\n",
       "</style>\n",
       "<table border=\"1\" class=\"dataframe\">\n",
       "  <thead>\n",
       "    <tr style=\"text-align: right;\">\n",
       "      <th></th>\n",
       "      <th>news</th>\n",
       "      <th>category</th>\n",
       "      <th>link</th>\n",
       "      <th>date</th>\n",
       "      <th>time</th>\n",
       "      <th>datetime</th>\n",
       "      <th>ID</th>\n",
       "    </tr>\n",
       "  </thead>\n",
       "  <tbody>\n",
       "    <tr>\n",
       "      <th>0</th>\n",
       "      <td>Qasem Soleimani: PM 'will not lament' Iranian ...</td>\n",
       "      <td>BBC News - Home</td>\n",
       "      <td>https://www.bbc.co.uk/news/uk-51001236</td>\n",
       "      <td>(2020, 1, 5)</td>\n",
       "      <td>(19, 5, 52)</td>\n",
       "      <td>Sun, 05 Jan 2020 19:05:52 GMT</td>\n",
       "      <td>c6feecfbdefd901ce4b7b404f50afa9c</td>\n",
       "    </tr>\n",
       "    <tr>\n",
       "      <th>1</th>\n",
       "      <td>Iran rolls back nuclear deal commitments. Iran...</td>\n",
       "      <td>BBC News - Home</td>\n",
       "      <td>https://www.bbc.co.uk/news/world-middle-east-5...</td>\n",
       "      <td>(2020, 1, 5)</td>\n",
       "      <td>(19, 8, 1)</td>\n",
       "      <td>Sun, 05 Jan 2020 19:08:01 GMT</td>\n",
       "      <td>11ce682d0bf7650eef652a43d4fdf2da</td>\n",
       "    </tr>\n",
       "    <tr>\n",
       "      <th>2</th>\n",
       "      <td>Qasem Soleimani: Mourning begins in Iran. The ...</td>\n",
       "      <td>BBC News - Home</td>\n",
       "      <td>https://www.bbc.co.uk/news/world-middle-east-5...</td>\n",
       "      <td>(2020, 1, 5)</td>\n",
       "      <td>(8, 25, 15)</td>\n",
       "      <td>Sun, 05 Jan 2020 08:25:15 GMT</td>\n",
       "      <td>b5f8537288db3951cc22f3cbac30d8aa</td>\n",
       "    </tr>\n",
       "    <tr>\n",
       "      <th>3</th>\n",
       "      <td>Labour leadership: Contenders set out stalls o...</td>\n",
       "      <td>BBC News - Home</td>\n",
       "      <td>https://www.bbc.co.uk/news/uk-politics-50996799</td>\n",
       "      <td>(2020, 1, 5)</td>\n",
       "      <td>(15, 59, 9)</td>\n",
       "      <td>Sun, 05 Jan 2020 15:59:09 GMT</td>\n",
       "      <td>0ea3549d868732a9fd67f59f374bed69</td>\n",
       "    </tr>\n",
       "    <tr>\n",
       "      <th>4</th>\n",
       "      <td>Finsbury Park stabbing: Manhunt as killed Deli...</td>\n",
       "      <td>BBC News - Home</td>\n",
       "      <td>https://www.bbc.co.uk/news/uk-england-london-5...</td>\n",
       "      <td>(2020, 1, 5)</td>\n",
       "      <td>(15, 36, 53)</td>\n",
       "      <td>Sun, 05 Jan 2020 15:36:53 GMT</td>\n",
       "      <td>3511d139f23538e5b9fada328ccbbb3f</td>\n",
       "    </tr>\n",
       "  </tbody>\n",
       "</table>\n",
       "</div>"
      ],
      "text/plain": [
       "                                                news         category  \\\n",
       "0  Qasem Soleimani: PM 'will not lament' Iranian ...  BBC News - Home   \n",
       "1  Iran rolls back nuclear deal commitments. Iran...  BBC News - Home   \n",
       "2  Qasem Soleimani: Mourning begins in Iran. The ...  BBC News - Home   \n",
       "3  Labour leadership: Contenders set out stalls o...  BBC News - Home   \n",
       "4  Finsbury Park stabbing: Manhunt as killed Deli...  BBC News - Home   \n",
       "\n",
       "                                                link          date  \\\n",
       "0             https://www.bbc.co.uk/news/uk-51001236  (2020, 1, 5)   \n",
       "1  https://www.bbc.co.uk/news/world-middle-east-5...  (2020, 1, 5)   \n",
       "2  https://www.bbc.co.uk/news/world-middle-east-5...  (2020, 1, 5)   \n",
       "3    https://www.bbc.co.uk/news/uk-politics-50996799  (2020, 1, 5)   \n",
       "4  https://www.bbc.co.uk/news/uk-england-london-5...  (2020, 1, 5)   \n",
       "\n",
       "           time                       datetime  \\\n",
       "0   (19, 5, 52)  Sun, 05 Jan 2020 19:05:52 GMT   \n",
       "1    (19, 8, 1)  Sun, 05 Jan 2020 19:08:01 GMT   \n",
       "2   (8, 25, 15)  Sun, 05 Jan 2020 08:25:15 GMT   \n",
       "3   (15, 59, 9)  Sun, 05 Jan 2020 15:59:09 GMT   \n",
       "4  (15, 36, 53)  Sun, 05 Jan 2020 15:36:53 GMT   \n",
       "\n",
       "                                 ID  \n",
       "0  c6feecfbdefd901ce4b7b404f50afa9c  \n",
       "1  11ce682d0bf7650eef652a43d4fdf2da  \n",
       "2  b5f8537288db3951cc22f3cbac30d8aa  \n",
       "3  0ea3549d868732a9fd67f59f374bed69  \n",
       "4  3511d139f23538e5b9fada328ccbbb3f  "
      ]
     },
     "execution_count": 249,
     "metadata": {},
     "output_type": "execute_result"
    }
   ],
   "source": [
    "rss.df_news.head()"
   ]
  },
  {
   "cell_type": "code",
   "execution_count": 251,
   "metadata": {},
   "outputs": [],
   "source": [
    "manager = Data_Manager()"
   ]
  },
  {
   "cell_type": "code",
   "execution_count": 252,
   "metadata": {},
   "outputs": [
    {
     "data": {
      "text/plain": [
       "'upd: obj = new_data (obj did not exist yet)'"
      ]
     },
     "execution_count": 252,
     "metadata": {},
     "output_type": "execute_result"
    }
   ],
   "source": [
    "manager.update_data_item('news', rss.df_news)"
   ]
  },
  {
   "cell_type": "code",
   "execution_count": 254,
   "metadata": {},
   "outputs": [
    {
     "data": {
      "text/html": [
       "<div>\n",
       "<style scoped>\n",
       "    .dataframe tbody tr th:only-of-type {\n",
       "        vertical-align: middle;\n",
       "    }\n",
       "\n",
       "    .dataframe tbody tr th {\n",
       "        vertical-align: top;\n",
       "    }\n",
       "\n",
       "    .dataframe thead th {\n",
       "        text-align: right;\n",
       "    }\n",
       "</style>\n",
       "<table border=\"1\" class=\"dataframe\">\n",
       "  <thead>\n",
       "    <tr style=\"text-align: right;\">\n",
       "      <th></th>\n",
       "      <th>news</th>\n",
       "      <th>category</th>\n",
       "      <th>link</th>\n",
       "      <th>date</th>\n",
       "      <th>time</th>\n",
       "      <th>datetime</th>\n",
       "      <th>ID</th>\n",
       "    </tr>\n",
       "  </thead>\n",
       "  <tbody>\n",
       "    <tr>\n",
       "      <th>0</th>\n",
       "      <td>Qasem Soleimani: PM 'will not lament' Iranian ...</td>\n",
       "      <td>BBC News - Home</td>\n",
       "      <td>https://www.bbc.co.uk/news/uk-51001236</td>\n",
       "      <td>(2020, 1, 5)</td>\n",
       "      <td>(19, 5, 52)</td>\n",
       "      <td>Sun, 05 Jan 2020 19:05:52 GMT</td>\n",
       "      <td>c6feecfbdefd901ce4b7b404f50afa9c</td>\n",
       "    </tr>\n",
       "    <tr>\n",
       "      <th>1</th>\n",
       "      <td>Iran rolls back nuclear deal commitments. Iran...</td>\n",
       "      <td>BBC News - Home</td>\n",
       "      <td>https://www.bbc.co.uk/news/world-middle-east-5...</td>\n",
       "      <td>(2020, 1, 5)</td>\n",
       "      <td>(19, 8, 1)</td>\n",
       "      <td>Sun, 05 Jan 2020 19:08:01 GMT</td>\n",
       "      <td>11ce682d0bf7650eef652a43d4fdf2da</td>\n",
       "    </tr>\n",
       "    <tr>\n",
       "      <th>2</th>\n",
       "      <td>Qasem Soleimani: Mourning begins in Iran. The ...</td>\n",
       "      <td>BBC News - Home</td>\n",
       "      <td>https://www.bbc.co.uk/news/world-middle-east-5...</td>\n",
       "      <td>(2020, 1, 5)</td>\n",
       "      <td>(8, 25, 15)</td>\n",
       "      <td>Sun, 05 Jan 2020 08:25:15 GMT</td>\n",
       "      <td>b5f8537288db3951cc22f3cbac30d8aa</td>\n",
       "    </tr>\n",
       "    <tr>\n",
       "      <th>3</th>\n",
       "      <td>Labour leadership: Contenders set out stalls o...</td>\n",
       "      <td>BBC News - Home</td>\n",
       "      <td>https://www.bbc.co.uk/news/uk-politics-50996799</td>\n",
       "      <td>(2020, 1, 5)</td>\n",
       "      <td>(15, 59, 9)</td>\n",
       "      <td>Sun, 05 Jan 2020 15:59:09 GMT</td>\n",
       "      <td>0ea3549d868732a9fd67f59f374bed69</td>\n",
       "    </tr>\n",
       "    <tr>\n",
       "      <th>4</th>\n",
       "      <td>Finsbury Park stabbing: Manhunt as killed Deli...</td>\n",
       "      <td>BBC News - Home</td>\n",
       "      <td>https://www.bbc.co.uk/news/uk-england-london-5...</td>\n",
       "      <td>(2020, 1, 5)</td>\n",
       "      <td>(15, 36, 53)</td>\n",
       "      <td>Sun, 05 Jan 2020 15:36:53 GMT</td>\n",
       "      <td>3511d139f23538e5b9fada328ccbbb3f</td>\n",
       "    </tr>\n",
       "  </tbody>\n",
       "</table>\n",
       "</div>"
      ],
      "text/plain": [
       "                                                news         category  \\\n",
       "0  Qasem Soleimani: PM 'will not lament' Iranian ...  BBC News - Home   \n",
       "1  Iran rolls back nuclear deal commitments. Iran...  BBC News - Home   \n",
       "2  Qasem Soleimani: Mourning begins in Iran. The ...  BBC News - Home   \n",
       "3  Labour leadership: Contenders set out stalls o...  BBC News - Home   \n",
       "4  Finsbury Park stabbing: Manhunt as killed Deli...  BBC News - Home   \n",
       "\n",
       "                                                link          date  \\\n",
       "0             https://www.bbc.co.uk/news/uk-51001236  (2020, 1, 5)   \n",
       "1  https://www.bbc.co.uk/news/world-middle-east-5...  (2020, 1, 5)   \n",
       "2  https://www.bbc.co.uk/news/world-middle-east-5...  (2020, 1, 5)   \n",
       "3    https://www.bbc.co.uk/news/uk-politics-50996799  (2020, 1, 5)   \n",
       "4  https://www.bbc.co.uk/news/uk-england-london-5...  (2020, 1, 5)   \n",
       "\n",
       "           time                       datetime  \\\n",
       "0   (19, 5, 52)  Sun, 05 Jan 2020 19:05:52 GMT   \n",
       "1    (19, 8, 1)  Sun, 05 Jan 2020 19:08:01 GMT   \n",
       "2   (8, 25, 15)  Sun, 05 Jan 2020 08:25:15 GMT   \n",
       "3   (15, 59, 9)  Sun, 05 Jan 2020 15:59:09 GMT   \n",
       "4  (15, 36, 53)  Sun, 05 Jan 2020 15:36:53 GMT   \n",
       "\n",
       "                                 ID  \n",
       "0  c6feecfbdefd901ce4b7b404f50afa9c  \n",
       "1  11ce682d0bf7650eef652a43d4fdf2da  \n",
       "2  b5f8537288db3951cc22f3cbac30d8aa  \n",
       "3  0ea3549d868732a9fd67f59f374bed69  \n",
       "4  3511d139f23538e5b9fada328ccbbb3f  "
      ]
     },
     "execution_count": 254,
     "metadata": {},
     "output_type": "execute_result"
    }
   ],
   "source": [
    "manager.get_data_item('news').head()"
   ]
  },
  {
   "cell_type": "code",
   "execution_count": 255,
   "metadata": {},
   "outputs": [
    {
     "data": {
      "text/plain": [
       "'saved'"
      ]
     },
     "execution_count": 255,
     "metadata": {},
     "output_type": "execute_result"
    }
   ],
   "source": [
    "manager.save_model()"
   ]
  },
  {
   "cell_type": "code",
   "execution_count": 274,
   "metadata": {},
   "outputs": [],
   "source": [
    "aggregator = Aggregator(agg_clust, knn)\n",
    "nv = News_Vectorizer(df_viewed.news.values, model=emb.model)"
   ]
  },
  {
   "cell_type": "code",
   "execution_count": 275,
   "metadata": {},
   "outputs": [
    {
     "data": {
      "text/plain": [
       "'updated'"
      ]
     },
     "execution_count": 275,
     "metadata": {},
     "output_type": "execute_result"
    }
   ],
   "source": [
    "aggregator.update_aggregator(nv.news_vectors)"
   ]
  },
  {
   "cell_type": "code",
   "execution_count": 276,
   "metadata": {},
   "outputs": [
    {
     "data": {
      "text/plain": [
       "array([2, 1, 1, 2, 4, 3, 1, 1, 1, 1, 0, 5, 1, 0, 4, 6, 0, 1, 4, 4, 0, 3,\n",
       "       0], dtype=int64)"
      ]
     },
     "execution_count": 276,
     "metadata": {},
     "output_type": "execute_result"
    }
   ],
   "source": [
    "aggregator.labels"
   ]
  },
  {
   "cell_type": "code",
   "execution_count": 277,
   "metadata": {},
   "outputs": [],
   "source": [
    "df_viewed['label'] = aggregator.labels"
   ]
  },
  {
   "cell_type": "code",
   "execution_count": 279,
   "metadata": {},
   "outputs": [
    {
     "data": {
      "text/plain": [
       "'upd: obj = new_data (obj did not exist yet)'"
      ]
     },
     "execution_count": 279,
     "metadata": {},
     "output_type": "execute_result"
    }
   ],
   "source": [
    "manager.update_data_item('viewed', df_viewed)"
   ]
  },
  {
   "cell_type": "code",
   "execution_count": 280,
   "metadata": {},
   "outputs": [
    {
     "data": {
      "text/plain": [
       "'upd: obj = new_data (not an array or DF)'"
      ]
     },
     "execution_count": 280,
     "metadata": {},
     "output_type": "execute_result"
    }
   ],
   "source": [
    "manager.update_data_item('classifier', aggregator.classifier)"
   ]
  },
  {
   "cell_type": "code",
   "execution_count": 281,
   "metadata": {},
   "outputs": [
    {
     "data": {
      "text/plain": [
       "'upd: obj = new_data (obj did not exist yet)'"
      ]
     },
     "execution_count": 281,
     "metadata": {},
     "output_type": "execute_result"
    }
   ],
   "source": [
    "manager.update_data_item('clusterizer', aggregator.clusterizer)"
   ]
  },
  {
   "cell_type": "code",
   "execution_count": 283,
   "metadata": {},
   "outputs": [
    {
     "data": {
      "text/plain": [
       "dict_keys(['news', 'classifier', 'viewed', 'clusterizer'])"
      ]
     },
     "execution_count": 283,
     "metadata": {},
     "output_type": "execute_result"
    }
   ],
   "source": [
    "manager.update_data_item('weights')"
   ]
  },
  {
   "cell_type": "code",
   "execution_count": 284,
   "metadata": {
    "scrolled": true
   },
   "outputs": [
    {
     "data": {
      "text/plain": [
       "'saved'"
      ]
     },
     "execution_count": 284,
     "metadata": {},
     "output_type": "execute_result"
    }
   ],
   "source": [
    "manager.save_model()"
   ]
  },
  {
   "cell_type": "code",
   "execution_count": 285,
   "metadata": {},
   "outputs": [],
   "source": [
    "manager = Data_Manager(path_dict={'csv':{'news':'news.csv', 'viewed':'viewed.csv'}, 'serialized':{'classifier':'classifier', 'clusterizer':'clusterizer'}})"
   ]
  },
  {
   "cell_type": "code",
   "execution_count": 286,
   "metadata": {},
   "outputs": [
    {
     "data": {
      "text/plain": [
       "dict_keys(['news', 'viewed', 'classifier', 'clusterizer'])"
      ]
     },
     "execution_count": 286,
     "metadata": {},
     "output_type": "execute_result"
    }
   ],
   "source": [
    "manager.data_dict.keys()"
   ]
  },
  {
   "cell_type": "code",
   "execution_count": 43,
   "metadata": {},
   "outputs": [],
   "source": [
    "def from_categories(df_news, n=5):\n",
    "    return df_news.groupby('category').head(n)       "
   ]
  },
  {
   "cell_type": "code",
   "execution_count": 143,
   "metadata": {},
   "outputs": [],
   "source": [
    "def show_news(df_chosen_news):\n",
    "    for cat in df_chosen_news.category.unique():\n",
    "        print('Category: ' + cat)\n",
    "        #for news in df_chosen_news.query('category == @cat'):\n",
    "        #    print(news[['news', 'link', 'datetime']])\n",
    "        temp = df_chosen_news.query('category == @cat')[['news', 'link', 'datetime', 'ID']]\n",
    "        print(temp)"
   ]
  },
  {
   "cell_type": "code",
   "execution_count": 74,
   "metadata": {
    "collapsed": true
   },
   "outputs": [
    {
     "name": "stdout",
     "output_type": "stream",
     "text": [
      "Category: BBC News - Home\n",
      "                                                news  \\\n",
      "0  Trump says US ready to strike 52 Iranian sites...   \n",
      "1  Qasem Soleimani: Royal Navy to protect UK ship...   \n",
      "2  HS2 costs out of control, says review's deputy...   \n",
      "3  Australia bushfires: Fundraiser reaches A$20m ...   \n",
      "4  Sunken chest syndrome: 'I'm being strangled in...   \n",
      "\n",
      "                                                link  \\\n",
      "0  https://www.bbc.co.uk/news/world-middle-east-5...   \n",
      "1    https://www.bbc.co.uk/news/uk-politics-50996630   \n",
      "2       https://www.bbc.co.uk/news/business-50995116   \n",
      "3  https://www.bbc.co.uk/news/world-australia-509...   \n",
      "4  https://www.bbc.co.uk/news/uk-england-devon-50...   \n",
      "\n",
      "                        datetime  \n",
      "0  Sun, 05 Jan 2020 06:38:58 GMT  \n",
      "1  Sun, 05 Jan 2020 09:04:02 GMT  \n",
      "2  Sun, 05 Jan 2020 00:42:42 GMT  \n",
      "3  Sun, 05 Jan 2020 07:24:08 GMT  \n",
      "4  Sun, 05 Jan 2020 00:01:15 GMT  \n",
      "Category: BBC News - World\n",
      "                                                 news  \\\n",
      "47  Trump says US ready to strike 52 Iranian sites...   \n",
      "48  Qasem Soleimani: Mourning begins in Iran. The ...   \n",
      "49  Australia bushfires: Fundraiser reaches A$20m ...   \n",
      "50  Golden Globe Awards: What you need to know. A ...   \n",
      "51  'Coming towards us like a monster': High winds...   \n",
      "\n",
      "                                                 link  \\\n",
      "47  https://www.bbc.co.uk/news/world-middle-east-5...   \n",
      "48  https://www.bbc.co.uk/news/world-middle-east-5...   \n",
      "49  https://www.bbc.co.uk/news/world-australia-509...   \n",
      "50  https://www.bbc.co.uk/news/entertainment-arts-...   \n",
      "51  https://www.bbc.co.uk/news/world-australia-509...   \n",
      "\n",
      "                         datetime  \n",
      "47  Sun, 05 Jan 2020 06:38:58 GMT  \n",
      "48  Sun, 05 Jan 2020 08:25:15 GMT  \n",
      "49  Sun, 05 Jan 2020 07:24:08 GMT  \n",
      "50  Sun, 05 Jan 2020 00:46:35 GMT  \n",
      "51  Sat, 04 Jan 2020 10:23:10 GMT  \n",
      "Category: BBC News - UK\n",
      "                                                 news  \\\n",
      "79  Qasem Soleimani: Royal Navy to protect UK ship...   \n",
      "80  HS2 costs out of control, says review's deputy...   \n",
      "81  Sunken chest syndrome: 'I'm being strangled in...   \n",
      "82  Labour leadership: MPs begin to make their pit...   \n",
      "83  Australia fires: Royal Family sends 'thoughts ...   \n",
      "\n",
      "                                                 link  \\\n",
      "79    https://www.bbc.co.uk/news/uk-politics-50996630   \n",
      "80       https://www.bbc.co.uk/news/business-50995116   \n",
      "81  https://www.bbc.co.uk/news/uk-england-devon-50...   \n",
      "82    https://www.bbc.co.uk/news/uk-politics-50996799   \n",
      "83             https://www.bbc.co.uk/news/uk-50996284   \n",
      "\n",
      "                         datetime  \n",
      "79  Sun, 05 Jan 2020 09:04:02 GMT  \n",
      "80  Sun, 05 Jan 2020 00:42:42 GMT  \n",
      "81  Sun, 05 Jan 2020 00:01:15 GMT  \n",
      "82  Sun, 05 Jan 2020 05:43:01 GMT  \n",
      "83  Sat, 04 Jan 2020 21:07:50 GMT  \n",
      "Category: BBC News - Business\n",
      "                                                  news  \\\n",
      "109  HS2 costs out of control, says review's deputy...   \n",
      "110  CES chief defends invite for Ivanka Trump. Tec...   \n",
      "111  What will happen to oil if there is another wa...   \n",
      "112  Saturday jobs dying as teen employment halves,...   \n",
      "113  Oil prices jump after top Iranian general kill...   \n",
      "\n",
      "                                               link  \\\n",
      "109    https://www.bbc.co.uk/news/business-50995116   \n",
      "110  https://www.bbc.co.uk/news/technology-50988743   \n",
      "111    https://www.bbc.co.uk/news/business-50981538   \n",
      "112    https://www.bbc.co.uk/news/business-50985407   \n",
      "113    https://www.bbc.co.uk/news/business-50982313   \n",
      "\n",
      "                          datetime  \n",
      "109  Sun, 05 Jan 2020 00:42:42 GMT  \n",
      "110  Sun, 05 Jan 2020 01:08:03 GMT  \n",
      "111  Fri, 03 Jan 2020 22:01:03 GMT  \n",
      "112  Sat, 04 Jan 2020 04:22:12 GMT  \n",
      "113  Fri, 03 Jan 2020 21:28:39 GMT  \n",
      "Category: BBC News - UK Politics\n",
      "                                                  news  \\\n",
      "149  Labour leadership: MPs begin to make their pit...   \n",
      "150  Labour leadership: Sir Keir Starmer enters rac...   \n",
      "151  Qasem Soleimani: Royal Navy to protect UK ship...   \n",
      "152  HS2 costs out of control, says review's deputy...   \n",
      "153  Qasem Soleimani: Foreign Office hardens Iran a...   \n",
      "\n",
      "                                                link  \\\n",
      "149  https://www.bbc.co.uk/news/uk-politics-50996799   \n",
      "150  https://www.bbc.co.uk/news/uk-politics-50995782   \n",
      "151  https://www.bbc.co.uk/news/uk-politics-50996630   \n",
      "152     https://www.bbc.co.uk/news/business-50995116   \n",
      "153  https://www.bbc.co.uk/news/uk-politics-50991778   \n",
      "\n",
      "                          datetime  \n",
      "149  Sun, 05 Jan 2020 05:43:01 GMT  \n",
      "150  Sat, 04 Jan 2020 21:02:53 GMT  \n",
      "151  Sun, 05 Jan 2020 09:04:02 GMT  \n",
      "152  Sun, 05 Jan 2020 00:42:42 GMT  \n",
      "153  Sat, 04 Jan 2020 20:28:04 GMT  \n",
      "Category: BBC News - Health\n",
      "                                                  news  \\\n",
      "193  'Outdated' IT leaves NHS staff with 15 differe...   \n",
      "194  Sunken chest syndrome: 'I'm being strangled in...   \n",
      "195  Testicular cancer: 'Kinder' chemotherapy is 'j...   \n",
      "196  Fentanyl deaths on rise in UK, drug report war...   \n",
      "197  Call to give hospital appointment no-shows sec...   \n",
      "\n",
      "                                                  link  \\\n",
      "193         https://www.bbc.co.uk/news/health-50972123   \n",
      "194  https://www.bbc.co.uk/news/uk-england-devon-50...   \n",
      "195         https://www.bbc.co.uk/news/health-50972799   \n",
      "196             https://www.bbc.co.uk/news/uk-50989633   \n",
      "197       https://www.bbc.co.uk/news/uk-wales-49263455   \n",
      "\n",
      "                          datetime  \n",
      "193  Sat, 04 Jan 2020 00:55:57 GMT  \n",
      "194  Sun, 05 Jan 2020 00:01:15 GMT  \n",
      "195  Fri, 03 Jan 2020 03:51:39 GMT  \n",
      "196  Sat, 04 Jan 2020 01:22:18 GMT  \n",
      "197  Sat, 04 Jan 2020 01:35:46 GMT  \n",
      "Category: BBC News - Family & Education\n",
      "                                                  news  \\\n",
      "212  Saturday jobs dying as teen employment halves,...   \n",
      "213  Violinist Nicola Benedetti launches music work...   \n",
      "214  Warning over 'fake' apprenticeship courses. Ap...   \n",
      "215  Hillary Clinton chancellor of  Queen's Univers...   \n",
      "216  Exclusions for racism in primary schools in En...   \n",
      "\n",
      "                                                  link  \\\n",
      "212       https://www.bbc.co.uk/news/business-50985407   \n",
      "213  https://www.bbc.co.uk/news/uk-scotland-glasgow...   \n",
      "214      https://www.bbc.co.uk/news/education-50973579   \n",
      "215  https://www.bbc.co.uk/news/uk-northern-ireland...   \n",
      "216      https://www.bbc.co.uk/news/education-50331687   \n",
      "\n",
      "                          datetime  \n",
      "212  Sat, 04 Jan 2020 04:22:12 GMT  \n",
      "213  Sat, 04 Jan 2020 16:26:36 GMT  \n",
      "214  Fri, 03 Jan 2020 13:19:50 GMT  \n",
      "215  Thu, 02 Jan 2020 08:45:40 GMT  \n",
      "216  Wed, 01 Jan 2020 11:08:18 GMT  \n",
      "Category: BBC News - Science & Environment\n",
      "                                                  news  \\\n",
      "231  Nobel Prize-winning scientist Frances Arnold r...   \n",
      "232  Climate change: Last decade UK's 'second hotte...   \n",
      "233  Climate change hope for hydrogen fuel. A trial...   \n",
      "234  Tackling the Earth's orbiting space junk. How ...   \n",
      "235  Palau is first country to ban 'reef toxic' sun...   \n",
      "\n",
      "                                                  link  \\\n",
      "231  https://www.bbc.co.uk/news/world-us-canada-509...   \n",
      "232  https://www.bbc.co.uk/news/science-environment...   \n",
      "233  https://www.bbc.co.uk/news/science-environment...   \n",
      "234       https://www.bbc.co.uk/news/business-50976292   \n",
      "235     https://www.bbc.co.uk/news/world-asia-50963080   \n",
      "\n",
      "                          datetime  \n",
      "231  Fri, 03 Jan 2020 21:04:31 GMT  \n",
      "232  Fri, 03 Jan 2020 09:42:45 GMT  \n",
      "233  Thu, 02 Jan 2020 00:02:26 GMT  \n",
      "234  Fri, 03 Jan 2020 00:11:51 GMT  \n",
      "235  Wed, 01 Jan 2020 05:23:13 GMT  \n",
      "Category: BBC News - Technology\n",
      "                                                  news  \\\n",
      "257  CES chief defends invite for Ivanka Trump. Tec...   \n",
      "258  CES 2020: Preview of tomorrow's tech on show i...   \n",
      "259  Mirriad's AI slips ads into empty spaces in on...   \n",
      "260  'Outdated' IT leaves NHS staff with 15 differe...   \n",
      "261  GirlsDoPorn: Young women win legal battle over...   \n",
      "\n",
      "                                               link  \\\n",
      "257  https://www.bbc.co.uk/news/technology-50988743   \n",
      "258  https://www.bbc.co.uk/news/technology-50952021   \n",
      "259  https://www.bbc.co.uk/news/technology-50988757   \n",
      "260      https://www.bbc.co.uk/news/health-50972123   \n",
      "261  https://www.bbc.co.uk/news/technology-50982051   \n",
      "\n",
      "                          datetime  \n",
      "257  Sun, 05 Jan 2020 01:08:03 GMT  \n",
      "258  Sat, 04 Jan 2020 00:05:08 GMT  \n",
      "259  Sat, 04 Jan 2020 00:03:48 GMT  \n",
      "260  Sat, 04 Jan 2020 00:55:57 GMT  \n",
      "261  Fri, 03 Jan 2020 13:16:20 GMT  \n",
      "Category: BBC News - Entertainment & Arts\n",
      "                                                  news  \\\n",
      "280  Golden Globe Awards: What you need to know. A ...   \n",
      "281  BBC Sound of 2020: Bono's son and his band Inh...   \n",
      "282  Fashion lookahead: Seven major looks for 2020....   \n",
      "283  Derek Acorah, TV medium, dies aged 69. Acorah ...   \n",
      "284  Sir Rod Stewart charged over Florida hotel 'pu...   \n",
      "\n",
      "                                                  link  \\\n",
      "280  https://www.bbc.co.uk/news/entertainment-arts-...   \n",
      "281  https://www.bbc.co.uk/news/entertainment-arts-...   \n",
      "282  https://www.bbc.co.uk/news/entertainment-arts-...   \n",
      "283  https://www.bbc.co.uk/news/entertainment-arts-...   \n",
      "284             https://www.bbc.co.uk/news/uk-50993128   \n",
      "\n",
      "                          datetime  \n",
      "280  Sun, 05 Jan 2020 00:46:35 GMT  \n",
      "281  Sun, 05 Jan 2020 00:45:27 GMT  \n",
      "282  Sat, 04 Jan 2020 01:12:39 GMT  \n",
      "283  Sat, 04 Jan 2020 16:08:27 GMT  \n",
      "284  Sat, 04 Jan 2020 12:19:57 GMT  \n"
     ]
    }
   ],
   "source": [
    "show_news(from_categories(rss.df_news))"
   ]
  },
  {
   "cell_type": "code",
   "execution_count": 156,
   "metadata": {},
   "outputs": [],
   "source": [
    "def append_viewed_news(news_id, category, df_news, df_viewed):\n",
    "    if news_id not in df_viewed.ID.values:\n",
    "        df_viewed = pd.concat([df_viewed, df_news.query('ID == @news_id and category == @category')])\n",
    "    return df_viewed"
   ]
  },
  {
   "cell_type": "code",
   "execution_count": 207,
   "metadata": {},
   "outputs": [],
   "source": [
    "def subset_not_viewed(df_news, df_viewed):\n",
    "    df_news = df_news.query('ID not in @df_viewed.ID.values')\n",
    "    return df_news"
   ]
  },
  {
   "cell_type": "code",
   "execution_count": null,
   "metadata": {},
   "outputs": [],
   "source": []
  },
  {
   "cell_type": "code",
   "execution_count": 167,
   "metadata": {
    "scrolled": true
   },
   "outputs": [],
   "source": [
    "sample = from_categories(rss.df_news, 3)[['ID', 'category']]\n",
    "df_viewed = pd.DataFrame(columns=rss.df_news.columns)"
   ]
  },
  {
   "cell_type": "code",
   "execution_count": 172,
   "metadata": {},
   "outputs": [
    {
     "data": {
      "text/plain": [
       "23"
      ]
     },
     "execution_count": 172,
     "metadata": {},
     "output_type": "execute_result"
    }
   ],
   "source": [
    "sample.ID.nunique()"
   ]
  },
  {
   "cell_type": "code",
   "execution_count": 173,
   "metadata": {},
   "outputs": [],
   "source": [
    "emb = Embeddings()"
   ]
  },
  {
   "cell_type": "code",
   "execution_count": 177,
   "metadata": {},
   "outputs": [],
   "source": [
    "agg_clust = AgglomerativeClustering(n_clusters=7, affinity='cosine', linkage='complete')"
   ]
  },
  {
   "cell_type": "code",
   "execution_count": 178,
   "metadata": {},
   "outputs": [],
   "source": [
    "knn = KNeighborsClassifier(n_neighbors=3, weights='distance', metric='cosine')"
   ]
  },
  {
   "cell_type": "code",
   "execution_count": 182,
   "metadata": {},
   "outputs": [],
   "source": [
    "aggregator = Aggregator(clusterizer=agg_clust, classifier=knn)"
   ]
  },
  {
   "cell_type": "code",
   "execution_count": 183,
   "metadata": {},
   "outputs": [],
   "source": [
    "nv = News_Vectorizer(df_viewed.news.values, emb.model)"
   ]
  },
  {
   "cell_type": "code",
   "execution_count": 184,
   "metadata": {},
   "outputs": [
    {
     "data": {
      "text/plain": [
       "'updated'"
      ]
     },
     "execution_count": 184,
     "metadata": {},
     "output_type": "execute_result"
    }
   ],
   "source": [
    "aggregator.update_aggregator(nv.news_vectors)"
   ]
  },
  {
   "cell_type": "code",
   "execution_count": 192,
   "metadata": {},
   "outputs": [],
   "source": [
    "news_to_class = [nv.sent2vec(i) for i in rss.df_news.groupby('category').head(10).iloc[7:9,:].news.values]"
   ]
  },
  {
   "cell_type": "code",
   "execution_count": 193,
   "metadata": {},
   "outputs": [
    {
     "data": {
      "text/plain": [
       "array([4, 3], dtype=int64)"
      ]
     },
     "execution_count": 193,
     "metadata": {},
     "output_type": "execute_result"
    }
   ],
   "source": [
    "aggregator.classify(news_to_class)"
   ]
  },
  {
   "cell_type": "code",
   "execution_count": 196,
   "metadata": {},
   "outputs": [
    {
     "data": {
      "text/plain": [
       "(23, 300)"
      ]
     },
     "execution_count": 196,
     "metadata": {},
     "output_type": "execute_result"
    }
   ],
   "source": [
    "aggregator.labeled_data.shape"
   ]
  },
  {
   "cell_type": "code",
   "execution_count": 158,
   "metadata": {},
   "outputs": [
    {
     "data": {
      "text/html": [
       "<div>\n",
       "<style scoped>\n",
       "    .dataframe tbody tr th:only-of-type {\n",
       "        vertical-align: middle;\n",
       "    }\n",
       "\n",
       "    .dataframe tbody tr th {\n",
       "        vertical-align: top;\n",
       "    }\n",
       "\n",
       "    .dataframe thead th {\n",
       "        text-align: right;\n",
       "    }\n",
       "</style>\n",
       "<table border=\"1\" class=\"dataframe\">\n",
       "  <thead>\n",
       "    <tr style=\"text-align: right;\">\n",
       "      <th></th>\n",
       "      <th>news</th>\n",
       "      <th>category</th>\n",
       "      <th>link</th>\n",
       "      <th>date</th>\n",
       "      <th>time</th>\n",
       "      <th>datetime</th>\n",
       "      <th>ID</th>\n",
       "    </tr>\n",
       "  </thead>\n",
       "  <tbody>\n",
       "    <tr>\n",
       "      <th>0</th>\n",
       "      <td>Soleimani assassination: Mourners flood the st...</td>\n",
       "      <td>BBC News - Home</td>\n",
       "      <td>https://www.bbc.co.uk/news/world-middle-east-5...</td>\n",
       "      <td>(2020, 1, 5)</td>\n",
       "      <td>(9, 15, 6)</td>\n",
       "      <td>Sun, 05 Jan 2020 09:15:06 GMT</td>\n",
       "      <td>92b52890a83cf10f253652b35a697c9e</td>\n",
       "    </tr>\n",
       "    <tr>\n",
       "      <th>47</th>\n",
       "      <td>Soleimani assassination: Mourners flood the st...</td>\n",
       "      <td>BBC News - World</td>\n",
       "      <td>https://www.bbc.co.uk/news/world-middle-east-5...</td>\n",
       "      <td>(2020, 1, 5)</td>\n",
       "      <td>(9, 15, 6)</td>\n",
       "      <td>Sun, 05 Jan 2020 09:15:06 GMT</td>\n",
       "      <td>92b52890a83cf10f253652b35a697c9e</td>\n",
       "    </tr>\n",
       "  </tbody>\n",
       "</table>\n",
       "</div>"
      ],
      "text/plain": [
       "                                                 news          category  \\\n",
       "0   Soleimani assassination: Mourners flood the st...   BBC News - Home   \n",
       "47  Soleimani assassination: Mourners flood the st...  BBC News - World   \n",
       "\n",
       "                                                 link          date  \\\n",
       "0   https://www.bbc.co.uk/news/world-middle-east-5...  (2020, 1, 5)   \n",
       "47  https://www.bbc.co.uk/news/world-middle-east-5...  (2020, 1, 5)   \n",
       "\n",
       "          time                       datetime  \\\n",
       "0   (9, 15, 6)  Sun, 05 Jan 2020 09:15:06 GMT   \n",
       "47  (9, 15, 6)  Sun, 05 Jan 2020 09:15:06 GMT   \n",
       "\n",
       "                                  ID  \n",
       "0   92b52890a83cf10f253652b35a697c9e  \n",
       "47  92b52890a83cf10f253652b35a697c9e  "
      ]
     },
     "execution_count": 158,
     "metadata": {},
     "output_type": "execute_result"
    }
   ],
   "source": [
    "rss.df_news.query('ID == @nid')"
   ]
  },
  {
   "cell_type": "code",
   "execution_count": 160,
   "metadata": {},
   "outputs": [],
   "source": [
    "df_viewed = append_viewed_news(nid, 'BBC News - World', rss.df_news, df_viewed)"
   ]
  },
  {
   "cell_type": "code",
   "execution_count": 33,
   "metadata": {
    "scrolled": true
   },
   "outputs": [],
   "source": [
    "from sklearn.datasets import load_iris\n",
    "from sklearn.model_selection import train_test_split\n",
    "iris = load_iris()"
   ]
  },
  {
   "cell_type": "code",
   "execution_count": 171,
   "metadata": {},
   "outputs": [],
   "source": [
    "sent = nv.sent2vec('Fresh Cambridge Analytica leak shows global manipulation is out of control. Company’s work in 68 countries laid bare with release of more than 100,000 documents')"
   ]
  }
 ],
 "metadata": {
  "kernelspec": {
   "display_name": "Python 3",
   "language": "python",
   "name": "python3"
  },
  "language_info": {
   "codemirror_mode": {
    "name": "ipython",
    "version": 3
   },
   "file_extension": ".py",
   "mimetype": "text/x-python",
   "name": "python",
   "nbconvert_exporter": "python",
   "pygments_lexer": "ipython3",
   "version": "3.6.4"
  }
 },
 "nbformat": 4,
 "nbformat_minor": 2
}
