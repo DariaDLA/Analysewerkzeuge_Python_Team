{
 "cells": [
  {
   "cell_type": "code",
   "execution_count": 11,
   "metadata": {},
   "outputs": [],
   "source": [
    "import pandas as pd\n",
    "import gensim\n",
    "from gensim.models import Word2Vec\n",
    "import nltk\n",
    "import numpy as np\n",
    "from nltk.corpus import stopwords\n",
    "from nltk import word_tokenize\n",
    "from scipy.spatial.distance import cosine, cityblock, jaccard, canberra, euclidean, minkowski, braycurtis\n",
    "stop_words = stopwords.words('english')\n",
    "from pyemd import emd\n",
    "from sklearn.cluster import DBSCAN, AffinityPropagation, AgglomerativeClustering\n",
    "from sklearn.neighbors import KNeighborsClassifier, RadiusNeighborsClassifier, kneighbors_graph\n",
    "import pickle\n",
    "import matplotlib.pyplot as plt"
   ]
  },
  {
   "cell_type": "code",
   "execution_count": 10,
   "metadata": {},
   "outputs": [],
   "source": [
    "class Embeddings:\n",
    "    \n",
    "    def __init__(self, create=False, ser_model_path='W2VModel',\n",
    "                 embeddings='GoogleNews-vectors-negative300.bin.gz',\n",
    "                 model_fun=gensim.models.KeyedVectors.load_word2vec_format, binary=True, norm=True):\n",
    "        self.ser_model = ser_model_path\n",
    "        self.embeddings = embeddings\n",
    "        self.model_fun = model_fun\n",
    "        self.binary = binary\n",
    "        self.norm = norm\n",
    "        \n",
    "        if create == False:\n",
    "            self.model = self.load_model()\n",
    "        else:\n",
    "            self.model = self.create_model()\n",
    "        \n",
    "            \n",
    "    def create_model(self):\n",
    "        model = self.model_fun(self.embeddings, binary=self.binary)\n",
    "        if self.norm:\n",
    "            model.init_sims(replace=True)\n",
    "        return model\n",
    "            \n",
    "    def load_model(self):\n",
    "        with open(self.ser_model, 'rb') as file:\n",
    "            model = pickle.load(file)\n",
    "        return model"
   ]
  },
  {
   "cell_type": "code",
   "execution_count": 13,
   "metadata": {},
   "outputs": [],
   "source": [
    "class News_Vectorizer:\n",
    "    \n",
    "    def __init__(self, model, news=None):\n",
    "        self.news = news #array of strings\n",
    "        self.model = model #Word2Vec model\n",
    "        if self.news is not None:\n",
    "            self.news_vectors = self.news2vec(self.news) #vector representations\n",
    "        else:\n",
    "            self.news_vectors = None\n",
    "        self.cos_dist = None #cosine distance matrix\n",
    "        self.wm_dist = None #wmd-matrix\n",
    "    \n",
    "    def wmd(self, q1, q2):\n",
    "        q1 = str(q1).lower().split()\n",
    "        q2 = str(q2).lower().split()\n",
    "        q1 = [w for w in q1 if w not in stop_words]\n",
    "        q2 = [w for w in q2 if w not in stop_words]\n",
    "        return self.model.wmdistance(q1, q2)\n",
    "    \n",
    "    def sent2vec(self, s):\n",
    "        words = str(s).lower()\n",
    "        words = word_tokenize(words)\n",
    "        words = [w for w in words if not w in stop_words]\n",
    "        words = [w for w in words if w.isalpha()]\n",
    "        M = []\n",
    "        for w in words:\n",
    "            try:\n",
    "                M.append(self.model[w])\n",
    "            except:\n",
    "                continue\n",
    "        M = np.array(M)\n",
    "        v = M.sum(axis=0)\n",
    "        return v / np.sqrt((v ** 2).sum())\n",
    "    \n",
    "    def news2vec(self, news):\n",
    "        # update self.news, self.news_vectors\n",
    "        news_vectors = np.array([self.sent2vec(text) for text in news])\n",
    "        self.news = news\n",
    "        self.news_vectors = news_vectors\n",
    "        return news_vectors\n",
    "    \n",
    "    def dist_vec(self, news_item, news=None, metric='cosine'):\n",
    "        #computes distances between given item and news (or self.news)\n",
    "        news_item = self.sent2vec(news_item)\n",
    "        if news is not None:\n",
    "            news = self.news2vec(news)\n",
    "        else:\n",
    "            news = self.news_vectors\n",
    "        if news is None:\n",
    "            return 'no news to compute distances'\n",
    "        if metric == 'cosine':\n",
    "            dist_vec = np.array([cosine(news_item, i) for i in news])\n",
    "        elif metric == 'wmd':\n",
    "            dist_vec = np.array([self.wmd(news_item, i) for i in news])\n",
    "        return dist_vec\n",
    "    \n",
    "    def cosine_matrix(self): \n",
    "        cdist = np.zeros((len(self.news_vectors), len(self.news_vectors)))\n",
    "        for n, i in enumerate(self.news_vectors):\n",
    "            for m, j in enumerate(self.news_vectors):\n",
    "                cdist[n, m] = cosine(i, j)\n",
    "        self.cos_dist = cdist\n",
    "        return cdist\n",
    "    \n",
    "    def wmd_matrix(self): #list (news)\n",
    "        wmdist = np.zeros((len(self.news), len(self.news)))\n",
    "        for n, i in enumerate(self.news):\n",
    "            for m, j in enumerate(self.news):\n",
    "                wmdist[n, m] = self.wmd(i, j)\n",
    "        self.wm_dist = wmdist\n",
    "        return wmdist"
   ]
  },
  {
   "cell_type": "markdown",
   "metadata": {},
   "source": [
    "## Classifier & Clusterizer\n",
    "\n",
    "* Samples of interesting news from different people\n",
    "* Try to find a meaningful threshold for AgglomerativeClustering \n",
    "![](agg_clustering_complete_linkage_300.png \"Complete Linkage\")\n",
    "* AND a meaningful radius for RadiusNeighbours (parameter grid -> CV on each sample -> mean -> best radius)\n",
    "![](radiusneighbors.png \"radius\")"
   ]
  },
  {
   "cell_type": "markdown",
   "metadata": {},
   "source": [
    "### Daten \n",
    "\n",
    "https://github.com/DariaDLA/Analysewerkzeuge_Python_Team/tree/master/classified_data_samples  \n",
    "\n",
    "**Die bearbeiteten DataFrames mit unique news:**  \n",
    "\n",
    "sample_unique_0.csv ... sample_unique_5.csv\n",
    "  \n",
    "**Und Vektorrepräsentationen von \"interessanten\" Nachrichten:**  \n",
    "  \n",
    "news_vec0  ... news_vec5\n",
    "\n",
    "**Dazugehörige Distanzen:**  \n",
    "\n",
    "cosine_dist0 ... cosine_dist5  \n",
    "\n",
    "**Vektorrepräsentationen und Distanzen sind mit `pickle` einzulesen:**  \n",
    "\n",
    "`with open('.\\\\cosine_dist0', 'rb') as file:\n",
    "    cosine_dist0 = pickle.load(file)`  \n",
    "    \n",
    "`with open('.\\\\news_vec0', 'rb') as file:\n",
    "    news_vec0 = pickle.load(file)`  \n",
    "    "
   ]
  },
  {
   "cell_type": "markdown",
   "metadata": {},
   "source": [
    "#### Distance threshold AgglomerativeClustering"
   ]
  },
  {
   "cell_type": "code",
   "execution_count": 29,
   "metadata": {},
   "outputs": [],
   "source": [
    "# DataFrame mit unique news einlesen\n",
    "\n",
    "sample0 = pd.read_csv('.\\\\data_samples\\\\sample_unique_0.csv')"
   ]
  },
  {
   "cell_type": "code",
   "execution_count": 58,
   "metadata": {},
   "outputs": [
    {
     "data": {
      "text/html": [
       "<div>\n",
       "<style scoped>\n",
       "    .dataframe tbody tr th:only-of-type {\n",
       "        vertical-align: middle;\n",
       "    }\n",
       "\n",
       "    .dataframe tbody tr th {\n",
       "        vertical-align: top;\n",
       "    }\n",
       "\n",
       "    .dataframe thead th {\n",
       "        text-align: right;\n",
       "    }\n",
       "</style>\n",
       "<table border=\"1\" class=\"dataframe\">\n",
       "  <thead>\n",
       "    <tr style=\"text-align: right;\">\n",
       "      <th></th>\n",
       "      <th>ID</th>\n",
       "      <th>is_interesting</th>\n",
       "      <th>news</th>\n",
       "      <th>category</th>\n",
       "    </tr>\n",
       "  </thead>\n",
       "  <tbody>\n",
       "    <tr>\n",
       "      <th>0</th>\n",
       "      <td>005503512f38f130303cb133d656203b</td>\n",
       "      <td>1</td>\n",
       "      <td>What 2020 holds for Scottish politics. After a...</td>\n",
       "      <td>BBC News - UK Politics</td>\n",
       "    </tr>\n",
       "    <tr>\n",
       "      <th>1</th>\n",
       "      <td>007b36b1081c3dddafe8869961ded463</td>\n",
       "      <td>0</td>\n",
       "      <td>London council's special needs inquiry caused ...</td>\n",
       "      <td>BBC News - Family &amp; Education</td>\n",
       "    </tr>\n",
       "    <tr>\n",
       "      <th>2</th>\n",
       "      <td>0090dbe2404af0f2ee72ac4ea1a7376a</td>\n",
       "      <td>0</td>\n",
       "      <td>'Resistant' trees planted in Hampshire in ash ...</td>\n",
       "      <td>BBC News - Science &amp; Environment</td>\n",
       "    </tr>\n",
       "    <tr>\n",
       "      <th>3</th>\n",
       "      <td>00d684e0145b5fb5f15adbcb5fc23ee4</td>\n",
       "      <td>0</td>\n",
       "      <td>Primary league tables: How did your school do?...</td>\n",
       "      <td>BBC News - Family &amp; Education</td>\n",
       "    </tr>\n",
       "    <tr>\n",
       "      <th>4</th>\n",
       "      <td>01ed4160c0609908173d1fa04fc77cf8</td>\n",
       "      <td>0</td>\n",
       "      <td>The problem with celebrating tennis' most succ...</td>\n",
       "      <td>BBC News - Home</td>\n",
       "    </tr>\n",
       "  </tbody>\n",
       "</table>\n",
       "</div>"
      ],
      "text/plain": [
       "                                 ID  is_interesting  \\\n",
       "0  005503512f38f130303cb133d656203b               1   \n",
       "1  007b36b1081c3dddafe8869961ded463               0   \n",
       "2  0090dbe2404af0f2ee72ac4ea1a7376a               0   \n",
       "3  00d684e0145b5fb5f15adbcb5fc23ee4               0   \n",
       "4  01ed4160c0609908173d1fa04fc77cf8               0   \n",
       "\n",
       "                                                news  \\\n",
       "0  What 2020 holds for Scottish politics. After a...   \n",
       "1  London council's special needs inquiry caused ...   \n",
       "2  'Resistant' trees planted in Hampshire in ash ...   \n",
       "3  Primary league tables: How did your school do?...   \n",
       "4  The problem with celebrating tennis' most succ...   \n",
       "\n",
       "                           category  \n",
       "0            BBC News - UK Politics  \n",
       "1     BBC News - Family & Education  \n",
       "2  BBC News - Science & Environment  \n",
       "3     BBC News - Family & Education  \n",
       "4                   BBC News - Home  "
      ]
     },
     "execution_count": 58,
     "metadata": {},
     "output_type": "execute_result"
    }
   ],
   "source": [
    "sample0.head(5)"
   ]
  },
  {
   "cell_type": "code",
   "execution_count": 59,
   "metadata": {},
   "outputs": [
    {
     "data": {
      "text/plain": [
       "(251, 4)"
      ]
     },
     "execution_count": 59,
     "metadata": {},
     "output_type": "execute_result"
    }
   ],
   "source": [
    "sample0.shape"
   ]
  },
  {
   "cell_type": "code",
   "execution_count": 31,
   "metadata": {},
   "outputs": [],
   "source": [
    "# Vektorrepräsentation von \"interessanten\" Nachrichten einlesen\n",
    "\n",
    "with open('.\\\\data_samples\\\\news_vec0', 'rb') as file:\n",
    "    news_vec0 = pickle.load(file)"
   ]
  },
  {
   "cell_type": "code",
   "execution_count": 32,
   "metadata": {},
   "outputs": [
    {
     "data": {
      "text/plain": [
       "array([[ 0.02461345,  0.05201338,  0.00493424, ..., -0.01758986,\n",
       "         0.0651383 ,  0.05141929],\n",
       "       [ 0.00566244,  0.0558705 ,  0.03648809, ...,  0.05095945,\n",
       "         0.06740265,  0.00038223],\n",
       "       [ 0.02608637,  0.05796345, -0.01567714, ...,  0.03309522,\n",
       "         0.0897331 , -0.02731742],\n",
       "       ...,\n",
       "       [-0.03423567,  0.02955162,  0.00781678, ..., -0.10761527,\n",
       "        -0.01768852, -0.01545603],\n",
       "       [ 0.0674457 ,  0.09843922, -0.03518565, ..., -0.07708695,\n",
       "         0.04436256, -0.07325413],\n",
       "       [ 0.03075207,  0.04851424,  0.00330401, ...,  0.05915262,\n",
       "        -0.01834202, -0.01268486]], dtype=float32)"
      ]
     },
     "execution_count": 32,
     "metadata": {},
     "output_type": "execute_result"
    }
   ],
   "source": [
    "news_vec0"
   ]
  },
  {
   "cell_type": "code",
   "execution_count": 33,
   "metadata": {},
   "outputs": [],
   "source": [
    "# Vektor mit cosine Distanzen zwischen interessanten Nachrichten einlesen\n",
    "\n",
    "with open('.\\\\data_samples\\\\cosine_dist0', 'rb') as file:\n",
    "    cosine_dist0 = pickle.load(file)"
   ]
  },
  {
   "cell_type": "code",
   "execution_count": 36,
   "metadata": {},
   "outputs": [
    {
     "data": {
      "text/plain": [
       "<matplotlib.axes._subplots.AxesSubplot at 0x1d51a2f6d30>"
      ]
     },
     "execution_count": 36,
     "metadata": {},
     "output_type": "execute_result"
    },
    {
     "data": {
      "image/png": "[encoded data removed]",
      "text/plain": [
       "<Figure size 432x288 with 1 Axes>"
      ]
     },
     "metadata": {
      "needs_background": "light"
     },
     "output_type": "display_data"
    }
   ],
   "source": [
    "pd.Series(cosine_dist0).hist(bins=50)"
   ]
  },
  {
   "cell_type": "code",
   "execution_count": 37,
   "metadata": {},
   "outputs": [],
   "source": [
    "# threshold definieren\n",
    "\n",
    "# Bitte beachte hier die richtige Eingabe von cosine_dist0 ... cosine_dist4, \n",
    "# wenn Du unterschiedliche Daten untersuchen wirst\n",
    "\n",
    "THRESHOLD = np.quantile(cosine_dist0, 0.7)"
   ]
  },
  {
   "cell_type": "code",
   "execution_count": 38,
   "metadata": {},
   "outputs": [],
   "source": [
    "# AgglomerativeClustering Instanz\n",
    "\n",
    "agg_clust = AgglomerativeClustering(n_clusters=None, affinity='cosine', linkage='complete', distance_threshold=THRESHOLD)"
   ]
  },
  {
   "cell_type": "code",
   "execution_count": 39,
   "metadata": {},
   "outputs": [
    {
     "data": {
      "text/plain": [
       "AgglomerativeClustering(affinity='cosine', compute_full_tree='auto',\n",
       "                        connectivity=None,\n",
       "                        distance_threshold=0.6552909135818481,\n",
       "                        linkage='complete', memory=None, n_clusters=None,\n",
       "                        pooling_func='deprecated')"
      ]
     },
     "execution_count": 39,
     "metadata": {},
     "output_type": "execute_result"
    }
   ],
   "source": [
    "# Clustering\n",
    "\n",
    "agg_clust.fit(news_vec0)"
   ]
  },
  {
   "cell_type": "code",
   "execution_count": 40,
   "metadata": {},
   "outputs": [
    {
     "data": {
      "text/plain": [
       "array([ 5, 10,  8,  7,  8,  5,  8,  6,  3,  8,  0,  6, 10,  5,  8,  6,  0,\n",
       "        6,  6,  1,  0,  5,  4,  1,  3,  0,  1, 10,  8,  2,  2,  3,  8,  3,\n",
       "        4,  1,  4,  9,  1,  1,  1,  2,  3,  2, 11, 10], dtype=int64)"
      ]
     },
     "execution_count": 40,
     "metadata": {},
     "output_type": "execute_result"
    }
   ],
   "source": [
    "# Cluster labels\n",
    "\n",
    "agg_clust.labels_"
   ]
  },
  {
   "cell_type": "code",
   "execution_count": 41,
   "metadata": {},
   "outputs": [],
   "source": [
    "# \"interessante\" Nachrichten mit cluster labels\n",
    "\n",
    "tmp = sample0.query('is_interesting > 0').copy()\n",
    "tmp['label'] = agg_clust.labels_"
   ]
  },
  {
   "cell_type": "code",
   "execution_count": 42,
   "metadata": {
    "scrolled": true
   },
   "outputs": [
    {
     "data": {
      "text/html": [
       "<div>\n",
       "<style scoped>\n",
       "    .dataframe tbody tr th:only-of-type {\n",
       "        vertical-align: middle;\n",
       "    }\n",
       "\n",
       "    .dataframe tbody tr th {\n",
       "        vertical-align: top;\n",
       "    }\n",
       "\n",
       "    .dataframe thead th {\n",
       "        text-align: right;\n",
       "    }\n",
       "</style>\n",
       "<table border=\"1\" class=\"dataframe\">\n",
       "  <thead>\n",
       "    <tr style=\"text-align: right;\">\n",
       "      <th></th>\n",
       "      <th>ID</th>\n",
       "      <th>is_interesting</th>\n",
       "      <th>news</th>\n",
       "      <th>category</th>\n",
       "      <th>label</th>\n",
       "    </tr>\n",
       "  </thead>\n",
       "  <tbody>\n",
       "    <tr>\n",
       "      <th>85</th>\n",
       "      <td>519b4d14f334483fd42c5ca92a0dc289</td>\n",
       "      <td>1</td>\n",
       "      <td>Why are opioids still given for chronic pain?....</td>\n",
       "      <td>BBC News - Health</td>\n",
       "      <td>0</td>\n",
       "    </tr>\n",
       "    <tr>\n",
       "      <th>115</th>\n",
       "      <td>74988745bcefc5c8d73364321c770ce7</td>\n",
       "      <td>1</td>\n",
       "      <td>Smart contact lens: 'It feels seriously sci-fi...</td>\n",
       "      <td>BBC News - Technology</td>\n",
       "      <td>0</td>\n",
       "    </tr>\n",
       "    <tr>\n",
       "      <th>134</th>\n",
       "      <td>8deddf3aeaef732fe086f09a93c8295f</td>\n",
       "      <td>1</td>\n",
       "      <td>Is it OK to call in sick with a common cold?. ...</td>\n",
       "      <td>['BBC News - Business' 'BBC News - Health']</td>\n",
       "      <td>0</td>\n",
       "    </tr>\n",
       "    <tr>\n",
       "      <th>148</th>\n",
       "      <td>9add850f74d420d2c6a4bbd5dd6cda9e</td>\n",
       "      <td>1</td>\n",
       "      <td>Does music make exercise more effective?. Trus...</td>\n",
       "      <td>BBC News - Health</td>\n",
       "      <td>0</td>\n",
       "    </tr>\n",
       "  </tbody>\n",
       "</table>\n",
       "</div>"
      ],
      "text/plain": [
       "                                   ID  is_interesting  \\\n",
       "85   519b4d14f334483fd42c5ca92a0dc289               1   \n",
       "115  74988745bcefc5c8d73364321c770ce7               1   \n",
       "134  8deddf3aeaef732fe086f09a93c8295f               1   \n",
       "148  9add850f74d420d2c6a4bbd5dd6cda9e               1   \n",
       "\n",
       "                                                  news  \\\n",
       "85   Why are opioids still given for chronic pain?....   \n",
       "115  Smart contact lens: 'It feels seriously sci-fi...   \n",
       "134  Is it OK to call in sick with a common cold?. ...   \n",
       "148  Does music make exercise more effective?. Trus...   \n",
       "\n",
       "                                        category  label  \n",
       "85                             BBC News - Health      0  \n",
       "115                        BBC News - Technology      0  \n",
       "134  ['BBC News - Business' 'BBC News - Health']      0  \n",
       "148                            BBC News - Health      0  "
      ]
     },
     "execution_count": 42,
     "metadata": {},
     "output_type": "execute_result"
    }
   ],
   "source": [
    "# einzelne cluster labels wählen\n",
    "\n",
    "tmp.query('label == 0') # Gesundheit"
   ]
  },
  {
   "cell_type": "code",
   "execution_count": 44,
   "metadata": {},
   "outputs": [
    {
     "data": {
      "text/html": [
       "<div>\n",
       "<style scoped>\n",
       "    .dataframe tbody tr th:only-of-type {\n",
       "        vertical-align: middle;\n",
       "    }\n",
       "\n",
       "    .dataframe tbody tr th {\n",
       "        vertical-align: top;\n",
       "    }\n",
       "\n",
       "    .dataframe thead th {\n",
       "        text-align: right;\n",
       "    }\n",
       "</style>\n",
       "<table border=\"1\" class=\"dataframe\">\n",
       "  <thead>\n",
       "    <tr style=\"text-align: right;\">\n",
       "      <th></th>\n",
       "      <th>ID</th>\n",
       "      <th>is_interesting</th>\n",
       "      <th>news</th>\n",
       "      <th>category</th>\n",
       "      <th>label</th>\n",
       "    </tr>\n",
       "  </thead>\n",
       "  <tbody>\n",
       "    <tr>\n",
       "      <th>173</th>\n",
       "      <td>b10e055fbb52bc696883245518c45223</td>\n",
       "      <td>1</td>\n",
       "      <td>James Bond's greatest hits - and biggest misse...</td>\n",
       "      <td>BBC News - Entertainment &amp; Arts</td>\n",
       "      <td>2</td>\n",
       "    </tr>\n",
       "    <tr>\n",
       "      <th>176</th>\n",
       "      <td>b51afe8886c1363f43e25a60220f41b8</td>\n",
       "      <td>1</td>\n",
       "      <td>Five ways music changed in the 2010s. Songs be...</td>\n",
       "      <td>BBC News - Home</td>\n",
       "      <td>2</td>\n",
       "    </tr>\n",
       "    <tr>\n",
       "      <th>227</th>\n",
       "      <td>e4566e9bef272bd0dab80bd03304a549</td>\n",
       "      <td>1</td>\n",
       "      <td>Spotify's personalised playlist for pets and o...</td>\n",
       "      <td>BBC News - Technology</td>\n",
       "      <td>2</td>\n",
       "    </tr>\n",
       "    <tr>\n",
       "      <th>237</th>\n",
       "      <td>ede253dfb006bab60e741c8b8d5adb23</td>\n",
       "      <td>1</td>\n",
       "      <td>David Bowie: Unseen footage released by De Mon...</td>\n",
       "      <td>BBC News - Entertainment &amp; Arts</td>\n",
       "      <td>2</td>\n",
       "    </tr>\n",
       "  </tbody>\n",
       "</table>\n",
       "</div>"
      ],
      "text/plain": [
       "                                   ID  is_interesting  \\\n",
       "173  b10e055fbb52bc696883245518c45223               1   \n",
       "176  b51afe8886c1363f43e25a60220f41b8               1   \n",
       "227  e4566e9bef272bd0dab80bd03304a549               1   \n",
       "237  ede253dfb006bab60e741c8b8d5adb23               1   \n",
       "\n",
       "                                                  news  \\\n",
       "173  James Bond's greatest hits - and biggest misse...   \n",
       "176  Five ways music changed in the 2010s. Songs be...   \n",
       "227  Spotify's personalised playlist for pets and o...   \n",
       "237  David Bowie: Unseen footage released by De Mon...   \n",
       "\n",
       "                            category  label  \n",
       "173  BBC News - Entertainment & Arts      2  \n",
       "176                  BBC News - Home      2  \n",
       "227            BBC News - Technology      2  \n",
       "237  BBC News - Entertainment & Arts      2  "
      ]
     },
     "execution_count": 44,
     "metadata": {},
     "output_type": "execute_result"
    }
   ],
   "source": [
    "tmp.query('label == 2') # - Musik, Unterhaltung"
   ]
  },
  {
   "cell_type": "code",
   "execution_count": 48,
   "metadata": {
    "scrolled": true
   },
   "outputs": [
    {
     "data": {
      "text/html": [
       "<div>\n",
       "<style scoped>\n",
       "    .dataframe tbody tr th:only-of-type {\n",
       "        vertical-align: middle;\n",
       "    }\n",
       "\n",
       "    .dataframe tbody tr th {\n",
       "        vertical-align: top;\n",
       "    }\n",
       "\n",
       "    .dataframe thead th {\n",
       "        text-align: right;\n",
       "    }\n",
       "</style>\n",
       "<table border=\"1\" class=\"dataframe\">\n",
       "  <thead>\n",
       "    <tr style=\"text-align: right;\">\n",
       "      <th></th>\n",
       "      <th>ID</th>\n",
       "      <th>is_interesting</th>\n",
       "      <th>news</th>\n",
       "      <th>category</th>\n",
       "      <th>label</th>\n",
       "    </tr>\n",
       "  </thead>\n",
       "  <tbody>\n",
       "    <tr>\n",
       "      <th>41</th>\n",
       "      <td>238b07b98cafe310dbd1d72110fb9100</td>\n",
       "      <td>1</td>\n",
       "      <td>Taal volcano's inner lake all but gone in erup...</td>\n",
       "      <td>['BBC News - Science &amp; Environment' 'BBC News ...</td>\n",
       "      <td>6</td>\n",
       "    </tr>\n",
       "    <tr>\n",
       "      <th>87</th>\n",
       "      <td>5371fa52cc4422aa7c6734f04b2b50fa</td>\n",
       "      <td>1</td>\n",
       "      <td>Australia fires: Is arson to blame?. There has...</td>\n",
       "      <td>BBC News - Home</td>\n",
       "      <td>6</td>\n",
       "    </tr>\n",
       "    <tr>\n",
       "      <th>109</th>\n",
       "      <td>6c1534836b05c8f92bb144d72d270bab</td>\n",
       "      <td>1</td>\n",
       "      <td>Australia fires: Vineyard owner's grief and de...</td>\n",
       "      <td>BBC News - Business</td>\n",
       "      <td>6</td>\n",
       "    </tr>\n",
       "    <tr>\n",
       "      <th>122</th>\n",
       "      <td>7a29e78099ab2040e760ef9b7a82e7bd</td>\n",
       "      <td>1</td>\n",
       "      <td>US officials ground drones over espionage fear...</td>\n",
       "      <td>['BBC News - Home' 'BBC News - Technology']</td>\n",
       "      <td>6</td>\n",
       "    </tr>\n",
       "    <tr>\n",
       "      <th>130</th>\n",
       "      <td>8a366f8510fc7cfa0b128808aa932a45</td>\n",
       "      <td>1</td>\n",
       "      <td>Australia fires: How do we know how many anima...</td>\n",
       "      <td>BBC News - Science &amp; Environment</td>\n",
       "      <td>6</td>\n",
       "    </tr>\n",
       "  </tbody>\n",
       "</table>\n",
       "</div>"
      ],
      "text/plain": [
       "                                   ID  is_interesting  \\\n",
       "41   238b07b98cafe310dbd1d72110fb9100               1   \n",
       "87   5371fa52cc4422aa7c6734f04b2b50fa               1   \n",
       "109  6c1534836b05c8f92bb144d72d270bab               1   \n",
       "122  7a29e78099ab2040e760ef9b7a82e7bd               1   \n",
       "130  8a366f8510fc7cfa0b128808aa932a45               1   \n",
       "\n",
       "                                                  news  \\\n",
       "41   Taal volcano's inner lake all but gone in erup...   \n",
       "87   Australia fires: Is arson to blame?. There has...   \n",
       "109  Australia fires: Vineyard owner's grief and de...   \n",
       "122  US officials ground drones over espionage fear...   \n",
       "130  Australia fires: How do we know how many anima...   \n",
       "\n",
       "                                              category  label  \n",
       "41   ['BBC News - Science & Environment' 'BBC News ...      6  \n",
       "87                                     BBC News - Home      6  \n",
       "109                                BBC News - Business      6  \n",
       "122        ['BBC News - Home' 'BBC News - Technology']      6  \n",
       "130                   BBC News - Science & Environment      6  "
      ]
     },
     "execution_count": 48,
     "metadata": {},
     "output_type": "execute_result"
    }
   ],
   "source": [
    "tmp.query('label == 6') # ? Naturkatastrophen"
   ]
  },
  {
   "cell_type": "code",
   "execution_count": 54,
   "metadata": {},
   "outputs": [
    {
     "data": {
      "text/html": [
       "<div>\n",
       "<style scoped>\n",
       "    .dataframe tbody tr th:only-of-type {\n",
       "        vertical-align: middle;\n",
       "    }\n",
       "\n",
       "    .dataframe tbody tr th {\n",
       "        vertical-align: top;\n",
       "    }\n",
       "\n",
       "    .dataframe thead th {\n",
       "        text-align: right;\n",
       "    }\n",
       "</style>\n",
       "<table border=\"1\" class=\"dataframe\">\n",
       "  <thead>\n",
       "    <tr style=\"text-align: right;\">\n",
       "      <th></th>\n",
       "      <th>ID</th>\n",
       "      <th>is_interesting</th>\n",
       "      <th>news</th>\n",
       "      <th>category</th>\n",
       "      <th>label</th>\n",
       "    </tr>\n",
       "  </thead>\n",
       "  <tbody>\n",
       "    <tr>\n",
       "      <th>239</th>\n",
       "      <td>f58971b71f27d6f94a9108efdc77f83f</td>\n",
       "      <td>1</td>\n",
       "      <td>Portrait of a Lady: Painting found in wall con...</td>\n",
       "      <td>['BBC News - Home' 'BBC News - World']</td>\n",
       "      <td>11</td>\n",
       "    </tr>\n",
       "  </tbody>\n",
       "</table>\n",
       "</div>"
      ],
      "text/plain": [
       "                                   ID  is_interesting  \\\n",
       "239  f58971b71f27d6f94a9108efdc77f83f               1   \n",
       "\n",
       "                                                  news  \\\n",
       "239  Portrait of a Lady: Painting found in wall con...   \n",
       "\n",
       "                                   category  label  \n",
       "239  ['BBC News - Home' 'BBC News - World']     11  "
      ]
     },
     "execution_count": 54,
     "metadata": {},
     "output_type": "execute_result"
    }
   ],
   "source": [
    "tmp.query('label == 11') "
   ]
  },
  {
   "cell_type": "code",
   "execution_count": 52,
   "metadata": {
    "scrolled": true
   },
   "outputs": [
    {
     "data": {
      "text/html": [
       "<div>\n",
       "<style scoped>\n",
       "    .dataframe tbody tr th:only-of-type {\n",
       "        vertical-align: middle;\n",
       "    }\n",
       "\n",
       "    .dataframe tbody tr th {\n",
       "        vertical-align: top;\n",
       "    }\n",
       "\n",
       "    .dataframe thead th {\n",
       "        text-align: right;\n",
       "    }\n",
       "</style>\n",
       "<table border=\"1\" class=\"dataframe\">\n",
       "  <thead>\n",
       "    <tr style=\"text-align: right;\">\n",
       "      <th></th>\n",
       "      <th>ID</th>\n",
       "      <th>is_interesting</th>\n",
       "      <th>news</th>\n",
       "      <th>category</th>\n",
       "      <th>label</th>\n",
       "    </tr>\n",
       "  </thead>\n",
       "  <tbody>\n",
       "    <tr>\n",
       "      <th>6</th>\n",
       "      <td>06113c818fdff9e1076d7ce19c60709a</td>\n",
       "      <td>1</td>\n",
       "      <td>Climate change: Can Glasgow go carbon neutral?...</td>\n",
       "      <td>['BBC News - Home' 'BBC News - Science &amp; Envir...</td>\n",
       "      <td>10</td>\n",
       "    </tr>\n",
       "    <tr>\n",
       "      <th>89</th>\n",
       "      <td>53bf0c9b9b0d9ba208af31486aab8444</td>\n",
       "      <td>1</td>\n",
       "      <td>Climate change: Should you fly, drive or take ...</td>\n",
       "      <td>BBC News - Home</td>\n",
       "      <td>10</td>\n",
       "    </tr>\n",
       "    <tr>\n",
       "      <th>157</th>\n",
       "      <td>a279e3fa0d124c1359408f34fdfedbdd</td>\n",
       "      <td>1</td>\n",
       "      <td>What's your diet's carbon footprint?. Check th...</td>\n",
       "      <td>['BBC News - Home' 'BBC News - World']</td>\n",
       "      <td>10</td>\n",
       "    </tr>\n",
       "    <tr>\n",
       "      <th>244</th>\n",
       "      <td>fa48614986378944380ac155947c3812</td>\n",
       "      <td>1</td>\n",
       "      <td>Can Microsoft's 'moonshot' carbon goal succeed...</td>\n",
       "      <td>['BBC News - Home' 'BBC News - Technology' 'BB...</td>\n",
       "      <td>10</td>\n",
       "    </tr>\n",
       "  </tbody>\n",
       "</table>\n",
       "</div>"
      ],
      "text/plain": [
       "                                   ID  is_interesting  \\\n",
       "6    06113c818fdff9e1076d7ce19c60709a               1   \n",
       "89   53bf0c9b9b0d9ba208af31486aab8444               1   \n",
       "157  a279e3fa0d124c1359408f34fdfedbdd               1   \n",
       "244  fa48614986378944380ac155947c3812               1   \n",
       "\n",
       "                                                  news  \\\n",
       "6    Climate change: Can Glasgow go carbon neutral?...   \n",
       "89   Climate change: Should you fly, drive or take ...   \n",
       "157  What's your diet's carbon footprint?. Check th...   \n",
       "244  Can Microsoft's 'moonshot' carbon goal succeed...   \n",
       "\n",
       "                                              category  label  \n",
       "6    ['BBC News - Home' 'BBC News - Science & Envir...     10  \n",
       "89                                     BBC News - Home     10  \n",
       "157             ['BBC News - Home' 'BBC News - World']     10  \n",
       "244  ['BBC News - Home' 'BBC News - Technology' 'BB...     10  "
      ]
     },
     "execution_count": 52,
     "metadata": {},
     "output_type": "execute_result"
    }
   ],
   "source": [
    "tmp.query('label == 10') # Klimawandel"
   ]
  },
  {
   "cell_type": "code",
   "execution_count": 57,
   "metadata": {},
   "outputs": [
    {
     "data": {
      "text/html": [
       "<div>\n",
       "<style scoped>\n",
       "    .dataframe tbody tr th:only-of-type {\n",
       "        vertical-align: middle;\n",
       "    }\n",
       "\n",
       "    .dataframe tbody tr th {\n",
       "        vertical-align: top;\n",
       "    }\n",
       "\n",
       "    .dataframe thead th {\n",
       "        text-align: right;\n",
       "    }\n",
       "</style>\n",
       "<table border=\"1\" class=\"dataframe\">\n",
       "  <thead>\n",
       "    <tr style=\"text-align: right;\">\n",
       "      <th></th>\n",
       "      <th>ID</th>\n",
       "      <th>is_interesting</th>\n",
       "      <th>news</th>\n",
       "      <th>category</th>\n",
       "      <th>label</th>\n",
       "    </tr>\n",
       "  </thead>\n",
       "  <tbody>\n",
       "    <tr>\n",
       "      <th>132</th>\n",
       "      <td>8c6a9769fe859c0bdf025bfa996eece9</td>\n",
       "      <td>1</td>\n",
       "      <td>Climate change explained. It's been linked to ...</td>\n",
       "      <td>['BBC News - Home' 'BBC News - World']</td>\n",
       "      <td>1</td>\n",
       "    </tr>\n",
       "    <tr>\n",
       "      <th>140</th>\n",
       "      <td>90ff1928e913774b4dddc8d46647b460</td>\n",
       "      <td>2</td>\n",
       "      <td>Social media data needed for 'harm' research, ...</td>\n",
       "      <td>['BBC News - Family &amp; Education' 'BBC News - H...</td>\n",
       "      <td>1</td>\n",
       "    </tr>\n",
       "    <tr>\n",
       "      <th>155</th>\n",
       "      <td>a0588090bfc0ee8b1b13439ec93d44d9</td>\n",
       "      <td>1</td>\n",
       "      <td>COP26: Climate summit policing will cost more ...</td>\n",
       "      <td>BBC News - Home</td>\n",
       "      <td>1</td>\n",
       "    </tr>\n",
       "    <tr>\n",
       "      <th>196</th>\n",
       "      <td>cdd1a893f1ce1b77c33468f770f22b85</td>\n",
       "      <td>1</td>\n",
       "      <td>Facial recognition: EU considers ban of up to ...</td>\n",
       "      <td>BBC News - Technology</td>\n",
       "      <td>1</td>\n",
       "    </tr>\n",
       "    <tr>\n",
       "      <th>208</th>\n",
       "      <td>d6bc8c7a5f1bef8b31710a29199de422</td>\n",
       "      <td>1</td>\n",
       "      <td>The man who got rich on data - years before Go...</td>\n",
       "      <td>BBC News - Technology</td>\n",
       "      <td>1</td>\n",
       "    </tr>\n",
       "    <tr>\n",
       "      <th>209</th>\n",
       "      <td>d6d1c8f00eb2d01d2bd98a90cf8c720d</td>\n",
       "      <td>1</td>\n",
       "      <td>Erasmus: What could happen to scheme after Bre...</td>\n",
       "      <td>['BBC News - Family &amp; Education' 'BBC News - U...</td>\n",
       "      <td>1</td>\n",
       "    </tr>\n",
       "    <tr>\n",
       "      <th>211</th>\n",
       "      <td>d7f98ae50187f23f0db81ea4cee73ba2</td>\n",
       "      <td>1</td>\n",
       "      <td>Climate change: What can I do about it and oth...</td>\n",
       "      <td>['BBC News - Home' 'BBC News - Science &amp; Envir...</td>\n",
       "      <td>1</td>\n",
       "    </tr>\n",
       "  </tbody>\n",
       "</table>\n",
       "</div>"
      ],
      "text/plain": [
       "                                   ID  is_interesting  \\\n",
       "132  8c6a9769fe859c0bdf025bfa996eece9               1   \n",
       "140  90ff1928e913774b4dddc8d46647b460               2   \n",
       "155  a0588090bfc0ee8b1b13439ec93d44d9               1   \n",
       "196  cdd1a893f1ce1b77c33468f770f22b85               1   \n",
       "208  d6bc8c7a5f1bef8b31710a29199de422               1   \n",
       "209  d6d1c8f00eb2d01d2bd98a90cf8c720d               1   \n",
       "211  d7f98ae50187f23f0db81ea4cee73ba2               1   \n",
       "\n",
       "                                                  news  \\\n",
       "132  Climate change explained. It's been linked to ...   \n",
       "140  Social media data needed for 'harm' research, ...   \n",
       "155  COP26: Climate summit policing will cost more ...   \n",
       "196  Facial recognition: EU considers ban of up to ...   \n",
       "208  The man who got rich on data - years before Go...   \n",
       "209  Erasmus: What could happen to scheme after Bre...   \n",
       "211  Climate change: What can I do about it and oth...   \n",
       "\n",
       "                                              category  label  \n",
       "132             ['BBC News - Home' 'BBC News - World']      1  \n",
       "140  ['BBC News - Family & Education' 'BBC News - H...      1  \n",
       "155                                    BBC News - Home      1  \n",
       "196                              BBC News - Technology      1  \n",
       "208                              BBC News - Technology      1  \n",
       "209  ['BBC News - Family & Education' 'BBC News - U...      1  \n",
       "211  ['BBC News - Home' 'BBC News - Science & Envir...      1  "
      ]
     },
     "execution_count": 57,
     "metadata": {},
     "output_type": "execute_result"
    }
   ],
   "source": [
    "tmp.query('label == 1') # ? kein bestimmtes Thema"
   ]
  },
  {
   "cell_type": "markdown",
   "metadata": {},
   "source": [
    "_Threshold quantile(0.7) erscheint plausibel_"
   ]
  },
  {
   "cell_type": "markdown",
   "metadata": {},
   "source": [
    "#### Radius for RadiusNeighborsClassifier"
   ]
  },
  {
   "cell_type": "code",
   "execution_count": 1,
   "metadata": {},
   "outputs": [],
   "source": [
    "samples = []\n",
    "sample_names = ['sample_unique_' + str(i) + '.csv' for i in range(6)]"
   ]
  },
  {
   "cell_type": "code",
   "execution_count": 5,
   "metadata": {},
   "outputs": [],
   "source": [
    "for sname in sample_names:\n",
    "    samples.append(pd.read_csv('.\\\\data_samples\\\\'+sname))"
   ]
  },
  {
   "cell_type": "code",
   "execution_count": 7,
   "metadata": {
    "scrolled": true
   },
   "outputs": [
    {
     "data": {
      "text/html": [
       "<div>\n",
       "<style scoped>\n",
       "    .dataframe tbody tr th:only-of-type {\n",
       "        vertical-align: middle;\n",
       "    }\n",
       "\n",
       "    .dataframe tbody tr th {\n",
       "        vertical-align: top;\n",
       "    }\n",
       "\n",
       "    .dataframe thead th {\n",
       "        text-align: right;\n",
       "    }\n",
       "</style>\n",
       "<table border=\"1\" class=\"dataframe\">\n",
       "  <thead>\n",
       "    <tr style=\"text-align: right;\">\n",
       "      <th></th>\n",
       "      <th>ID</th>\n",
       "      <th>is_interesting</th>\n",
       "      <th>news</th>\n",
       "      <th>category</th>\n",
       "    </tr>\n",
       "  </thead>\n",
       "  <tbody>\n",
       "    <tr>\n",
       "      <th>0</th>\n",
       "      <td>005503512f38f130303cb133d656203b</td>\n",
       "      <td>1</td>\n",
       "      <td>What 2020 holds for Scottish politics. After a...</td>\n",
       "      <td>BBC News - UK Politics</td>\n",
       "    </tr>\n",
       "    <tr>\n",
       "      <th>1</th>\n",
       "      <td>007b36b1081c3dddafe8869961ded463</td>\n",
       "      <td>1</td>\n",
       "      <td>London council's special needs inquiry caused ...</td>\n",
       "      <td>BBC News - Family &amp; Education</td>\n",
       "    </tr>\n",
       "    <tr>\n",
       "      <th>2</th>\n",
       "      <td>0090dbe2404af0f2ee72ac4ea1a7376a</td>\n",
       "      <td>1</td>\n",
       "      <td>'Resistant' trees planted in Hampshire in ash ...</td>\n",
       "      <td>BBC News - Science &amp; Environment</td>\n",
       "    </tr>\n",
       "    <tr>\n",
       "      <th>3</th>\n",
       "      <td>00d684e0145b5fb5f15adbcb5fc23ee4</td>\n",
       "      <td>0</td>\n",
       "      <td>Primary league tables: How did your school do?...</td>\n",
       "      <td>BBC News - Family &amp; Education</td>\n",
       "    </tr>\n",
       "    <tr>\n",
       "      <th>4</th>\n",
       "      <td>01ed4160c0609908173d1fa04fc77cf8</td>\n",
       "      <td>0</td>\n",
       "      <td>The problem with celebrating tennis' most succ...</td>\n",
       "      <td>BBC News - Home</td>\n",
       "    </tr>\n",
       "    <tr>\n",
       "      <th>5</th>\n",
       "      <td>043d4121f98949800bfd5332c83de874</td>\n",
       "      <td>0</td>\n",
       "      <td>Sheffield students paid to tackle racist langu...</td>\n",
       "      <td>BBC News - Family &amp; Education</td>\n",
       "    </tr>\n",
       "    <tr>\n",
       "      <th>6</th>\n",
       "      <td>06113c818fdff9e1076d7ce19c60709a</td>\n",
       "      <td>1</td>\n",
       "      <td>Climate change: Can Glasgow go carbon neutral?...</td>\n",
       "      <td>['BBC News - Home' 'BBC News - Science &amp; Envir...</td>\n",
       "    </tr>\n",
       "    <tr>\n",
       "      <th>7</th>\n",
       "      <td>07dc65d05bdc97a4124ee5535359b096</td>\n",
       "      <td>0</td>\n",
       "      <td>Arfield and Defoe see Rangers past Stranraer i...</td>\n",
       "      <td>BBC News - Home</td>\n",
       "    </tr>\n",
       "    <tr>\n",
       "      <th>8</th>\n",
       "      <td>09ad9ac0c69ca1454d071fcd88c93d66</td>\n",
       "      <td>0</td>\n",
       "      <td>Sunderland woman left bloodied after 'homophob...</td>\n",
       "      <td>BBC News - UK</td>\n",
       "    </tr>\n",
       "    <tr>\n",
       "      <th>9</th>\n",
       "      <td>0a35f79b90d245f970bfc721f2dd5018</td>\n",
       "      <td>1</td>\n",
       "      <td>Microsoft makes 'carbon negative' pledge. The ...</td>\n",
       "      <td>['BBC News - Business' 'BBC News - Science &amp; E...</td>\n",
       "    </tr>\n",
       "  </tbody>\n",
       "</table>\n",
       "</div>"
      ],
      "text/plain": [
       "                                 ID  is_interesting  \\\n",
       "0  005503512f38f130303cb133d656203b               1   \n",
       "1  007b36b1081c3dddafe8869961ded463               1   \n",
       "2  0090dbe2404af0f2ee72ac4ea1a7376a               1   \n",
       "3  00d684e0145b5fb5f15adbcb5fc23ee4               0   \n",
       "4  01ed4160c0609908173d1fa04fc77cf8               0   \n",
       "5  043d4121f98949800bfd5332c83de874               0   \n",
       "6  06113c818fdff9e1076d7ce19c60709a               1   \n",
       "7  07dc65d05bdc97a4124ee5535359b096               0   \n",
       "8  09ad9ac0c69ca1454d071fcd88c93d66               0   \n",
       "9  0a35f79b90d245f970bfc721f2dd5018               1   \n",
       "\n",
       "                                                news  \\\n",
       "0  What 2020 holds for Scottish politics. After a...   \n",
       "1  London council's special needs inquiry caused ...   \n",
       "2  'Resistant' trees planted in Hampshire in ash ...   \n",
       "3  Primary league tables: How did your school do?...   \n",
       "4  The problem with celebrating tennis' most succ...   \n",
       "5  Sheffield students paid to tackle racist langu...   \n",
       "6  Climate change: Can Glasgow go carbon neutral?...   \n",
       "7  Arfield and Defoe see Rangers past Stranraer i...   \n",
       "8  Sunderland woman left bloodied after 'homophob...   \n",
       "9  Microsoft makes 'carbon negative' pledge. The ...   \n",
       "\n",
       "                                            category  \n",
       "0                             BBC News - UK Politics  \n",
       "1                      BBC News - Family & Education  \n",
       "2                   BBC News - Science & Environment  \n",
       "3                      BBC News - Family & Education  \n",
       "4                                    BBC News - Home  \n",
       "5                      BBC News - Family & Education  \n",
       "6  ['BBC News - Home' 'BBC News - Science & Envir...  \n",
       "7                                    BBC News - Home  \n",
       "8                                      BBC News - UK  \n",
       "9  ['BBC News - Business' 'BBC News - Science & E...  "
      ]
     },
     "execution_count": 7,
     "metadata": {},
     "output_type": "execute_result"
    }
   ],
   "source": [
    "samples[1].head(10)"
   ]
  },
  {
   "cell_type": "code",
   "execution_count": 14,
   "metadata": {},
   "outputs": [],
   "source": [
    "nv = News_Vectorizer(Embeddings().model)"
   ]
  },
  {
   "cell_type": "code",
   "execution_count": 15,
   "metadata": {},
   "outputs": [],
   "source": [
    "news_vectors = []\n",
    "for sample in samples:\n",
    "    news_vectors.append(nv.news2vec(sample.news.values))"
   ]
  },
  {
   "cell_type": "code",
   "execution_count": 16,
   "metadata": {},
   "outputs": [],
   "source": [
    "cosine_dist = []\n",
    "fnames = ['cosine_dist'+str(i) for i in range(6)]"
   ]
  },
  {
   "cell_type": "code",
   "execution_count": 17,
   "metadata": {},
   "outputs": [],
   "source": [
    "for fname in fnames:\n",
    "    with open('.\\\\data_samples\\\\'+fname, 'rb') as file:\n",
    "        cosine_dist.append(pickle.load(file))"
   ]
  },
  {
   "cell_type": "code",
   "execution_count": 18,
   "metadata": {},
   "outputs": [],
   "source": [
    "ind_interest = []\n",
    "ind_other = []\n",
    "for sample in samples:\n",
    "    ind_interest.append(np.where(sample.is_interesting > 0)[0])\n",
    "    ind_other.append(np.where(sample.is_interesting == 0)[0])\n",
    "    "
   ]
  },
  {
   "cell_type": "code",
   "execution_count": 19,
   "metadata": {},
   "outputs": [],
   "source": [
    "thresholds = [np.quantile(cosine_dist[i], 0.7) for i in range(len(cosine_dist))]"
   ]
  },
  {
   "cell_type": "code",
   "execution_count": 20,
   "metadata": {},
   "outputs": [],
   "source": [
    "interest_news_vectors = [news_vectors[i][ind_interest[i]] for i in range(len(news_vectors))]"
   ]
  },
  {
   "cell_type": "code",
   "execution_count": 21,
   "metadata": {},
   "outputs": [],
   "source": [
    "labels = []\n",
    "for n, sample in enumerate(interest_news_vectors):\n",
    "    agg = AgglomerativeClustering(n_clusters=None, affinity='cosine', \n",
    "                                           linkage='complete', distance_threshold=thresholds[n])\n",
    "    agg.fit(sample)\n",
    "    labels.append(agg.labels_)"
   ]
  },
  {
   "cell_type": "code",
   "execution_count": 22,
   "metadata": {},
   "outputs": [],
   "source": [
    "from sklearn.model_selection import ShuffleSplit, StratifiedKFold, StratifiedShuffleSplit\n",
    "from sklearn.metrics import accuracy_score, balanced_accuracy_score, recall_score, roc_auc_score"
   ]
  },
  {
   "cell_type": "code",
   "execution_count": 23,
   "metadata": {},
   "outputs": [],
   "source": [
    "rad = np.arange(0.4, 0.52, 0.01)"
   ]
  },
  {
   "cell_type": "code",
   "execution_count": 160,
   "metadata": {},
   "outputs": [
    {
     "data": {
      "text/plain": [
       "array([0.4 , 0.41, 0.42, 0.43, 0.44, 0.45, 0.46, 0.47, 0.48, 0.49, 0.5 ,\n",
       "       0.51])"
      ]
     },
     "execution_count": 160,
     "metadata": {},
     "output_type": "execute_result"
    }
   ],
   "source": [
    "rad"
   ]
  },
  {
   "cell_type": "code",
   "execution_count": 24,
   "metadata": {
    "scrolled": true
   },
   "outputs": [],
   "source": [
    "rs = ShuffleSplit(n_splits=5, test_size=.1, random_state=0)"
   ]
  },
  {
   "cell_type": "code",
   "execution_count": 25,
   "metadata": {},
   "outputs": [],
   "source": [
    "scores = []\n",
    "for radius in rad:\n",
    "    rad_scores = []\n",
    "    clf = RadiusNeighborsClassifier(radius=radius, weights='distance', metric='cosine', outlier_label='-1')\n",
    "    for n, sample in enumerate(interest_news_vectors):\n",
    "        sample_scores = []\n",
    "        for train_ind, test_ind in rs.split(sample):\n",
    "            clf.fit(sample[train_ind], labels[n][train_ind])\n",
    "            pred = clf.predict(sample[test_ind])\n",
    "            sample_scores.append(accuracy_score(labels[n][test_ind], pred))\n",
    "        rad_scores.append(np.mean(sample_scores))\n",
    "    scores.append(np.mean(rad_scores))    "
   ]
  },
  {
   "cell_type": "code",
   "execution_count": 26,
   "metadata": {},
   "outputs": [
    {
     "data": {
      "text/plain": [
       "0.62"
      ]
     },
     "execution_count": 26,
     "metadata": {},
     "output_type": "execute_result"
    }
   ],
   "source": [
    "max(scores)"
   ]
  },
  {
   "cell_type": "code",
   "execution_count": 192,
   "metadata": {},
   "outputs": [
    {
     "data": {
      "text/plain": [
       "array([13,  1,  1,  1,  0, 13,  5], dtype=int64)"
      ]
     },
     "execution_count": 192,
     "metadata": {},
     "output_type": "execute_result"
    }
   ],
   "source": [
    "pred"
   ]
  },
  {
   "cell_type": "code",
   "execution_count": 27,
   "metadata": {},
   "outputs": [
    {
     "data": {
      "text/plain": [
       "array([0.49])"
      ]
     },
     "execution_count": 27,
     "metadata": {},
     "output_type": "execute_result"
    }
   ],
   "source": [
    "rad[np.where(scores == max(scores))]"
   ]
  }
 ],
 "metadata": {
  "kernelspec": {
   "display_name": "Python 3",
   "language": "python",
   "name": "python3"
  },
  "language_info": {
   "codemirror_mode": {
    "name": "ipython",
    "version": 3
   },
   "file_extension": ".py",
   "mimetype": "text/x-python",
   "name": "python",
   "nbconvert_exporter": "python",
   "pygments_lexer": "ipython3",
   "version": "3.6.4"
  }
 },
 "nbformat": 4,
 "nbformat_minor": 2
}
